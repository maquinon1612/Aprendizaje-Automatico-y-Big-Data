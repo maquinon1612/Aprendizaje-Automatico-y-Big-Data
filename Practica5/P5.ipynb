{
 "cells": [
  {
   "cell_type": "markdown",
   "metadata": {},
   "source": [
    "# Práctica 5 : Regresión lineal regularizada, sesgo y varianza"
   ]
  },
  {
   "cell_type": "markdown",
   "metadata": {},
   "source": [
    "Mario Quiñones y Guillermo García Patiño"
   ]
  },
  {
   "cell_type": "code",
   "execution_count": 5,
   "metadata": {},
   "outputs": [],
   "source": [
    "import numpy as np\n",
    "import matplotlib.pyplot as plt\n",
    "from scipy.io import loadmat\n",
    "import scipy.optimize as opt\n",
    "from sklearn.preprocessing import PolynomialFeatures\n",
    "from sklearn.preprocessing import StandardScaler, MinMaxScaler"
   ]
  },
  {
   "cell_type": "markdown",
   "metadata": {},
   "source": [
    "## Regresión Lineal Regularizada"
   ]
  },
  {
   "cell_type": "markdown",
   "metadata": {},
   "source": [
    "En esta parte se va a buscar el parámetro de regularización óptimo para una regresión lineal"
   ]
  },
  {
   "cell_type": "code",
   "execution_count": 6,
   "metadata": {},
   "outputs": [],
   "source": [
    "#########\n",
    "# MUY IMPORTANTE HACER RAVEL PARA PASAR DE (12,) a (12). SI USAS (12,) HACE BROADCASTING\n",
    "########\n",
    "\n",
    "def cargaDatos(file = 'ex5data1.mat'):\n",
    "    m = loadmat(file)\n",
    "    x_train = m['X']\n",
    "    y_train = m['y'].ravel()\n",
    "    x_test = m['Xtest']\n",
    "    y_test = m['ytest'].ravel()\n",
    "    x_val = m['Xval']\n",
    "    y_val = m['yval'].ravel()\n",
    "    train = [x_train, y_train]\n",
    "    test = [x_test, y_test]\n",
    "    val = [x_val, y_val]\n",
    "    return train, test, val"
   ]
  },
  {
   "cell_type": "markdown",
   "metadata": {},
   "source": [
    "Función para calcular el coste de la regresión lineal teniendo en cuenta el parámetro de regularización de manera vectorizada"
   ]
  },
  {
   "cell_type": "code",
   "execution_count": 7,
   "metadata": {},
   "outputs": [],
   "source": [
    "def coste_reg(T, X, Y, Lambda):\n",
    "    coef1 = (1/(2* X.shape[0]))\n",
    "    \n",
    "    H = np.dot(X,T)\n",
    "    D = H - Y\n",
    "    sumErs = np.sum(D**2)\n",
    "    \n",
    "    coef2 = (Lambda/(2*X.shape[0]))\n",
    "    reg = (T[1:]**2).sum()\n",
    "    \n",
    "    coste = ( coef1 * sumErs ) + ( coef2 * reg )\n",
    "    return coste"
   ]
  },
  {
   "cell_type": "markdown",
   "metadata": {},
   "source": [
    "Esta función calcula el gradiente de la regresión lineal regularizada de manera vectorizada"
   ]
  },
  {
   "cell_type": "code",
   "execution_count": 8,
   "metadata": {},
   "outputs": [],
   "source": [
    "def gradiente_reg(T, X, Y, Lambda):\n",
    "    H = np.dot(X,T)\n",
    "    D = H - Y\n",
    "    G = np.dot(X.T, D)\n",
    "    G = G / X.shape[0]\n",
    "    G[1:] += (T[1:] * (Lambda / X.shape[0]))\n",
    "    return G"
   ]
  },
  {
   "cell_type": "code",
   "execution_count": 9,
   "metadata": {},
   "outputs": [],
   "source": [
    "def main1():\n",
    "    tr, te, vl = cargaDatos()\n",
    "    X = tr[0]\n",
    "    Y = tr[1].ravel()\n",
    "    m = X.shape[0]\n",
    "    X = np.hstack([np.ones( [m, 1 ] ) , X ] )\n",
    "    T = np.ones((X.shape[1],))\n",
    "    grad = gradiente_reg(T,X,Y,1)\n",
    "    c = coste_reg(T,X,Y,1)\n",
    "    print(c)\n",
    "    print(grad)"
   ]
  },
  {
   "cell_type": "code",
   "execution_count": 10,
   "metadata": {},
   "outputs": [
    {
     "name": "stdout",
     "output_type": "stream",
     "text": [
      "303.9931922202643\n",
      "[-15.30301567 598.25074417]\n"
     ]
    }
   ],
   "source": [
    "main1()"
   ]
  },
  {
   "cell_type": "markdown",
   "metadata": {},
   "source": [
    "Esta función calcula el coste y el gradiente para los ejemplos de entrenamiento X,Y dados un vector de parámetros Theta y un parámetro de regularización Lambda\n",
    "\n",
    "En esta función, antes de calcular el coste y el gradiente, acumulamos un 1 en la matriz X"
   ]
  },
  {
   "cell_type": "code",
   "execution_count": 11,
   "metadata": {},
   "outputs": [],
   "source": [
    "def costeygradienteReg(Theta,X,Y,Lambda):\n",
    "\n",
    "    Xaux = np.hstack([np.ones((X.shape[0], 1)), X])\n",
    "    coste = coste_reg(Theta,Xaux,Y,Lambda)\n",
    "    gradiente = gradiente_reg(Theta,Xaux,Y,Lambda)\n",
    "    return coste,gradiente"
   ]
  },
  {
   "cell_type": "markdown",
   "metadata": {},
   "source": [
    "Usamos esta función para obtener el vector Theta de parámetros óptimos entrenando con los ejemplos X,Y y usando el parámetro de regularización Lambda.\n",
    "\n",
    "En esta ocasión, tenemos que crear el vector T con una componente más que columnas tiene X porque estamos haciendo regresión lineal de 1 variable, así que X no tiene la columna de 1 que necesitamos."
   ]
  },
  {
   "cell_type": "code",
   "execution_count": 12,
   "metadata": {},
   "outputs": [],
   "source": [
    "def optimizar(X,Y,Lambda):\n",
    "    T = np.ones((X.shape[1]+1,1))\n",
    "    result = opt.minimize(costeygradienteReg,T,args=(X,Y,Lambda),method='TNC',jac=True)['x']\n",
    "    return result"
   ]
  },
  {
   "cell_type": "code",
   "execution_count": 13,
   "metadata": {},
   "outputs": [],
   "source": [
    "def main2():\n",
    "    tr, te, vl = cargaDatos()\n",
    "    X = tr[0]\n",
    "    Y = tr[1]\n",
    "    r = optimizar(X,Y,0)\n",
    "    print(r)"
   ]
  },
  {
   "cell_type": "code",
   "execution_count": 14,
   "metadata": {},
   "outputs": [
    {
     "name": "stdout",
     "output_type": "stream",
     "text": [
      "[13.08790348  0.36777923]\n"
     ]
    }
   ],
   "source": [
    "main2()"
   ]
  },
  {
   "cell_type": "code",
   "execution_count": 15,
   "metadata": {},
   "outputs": [],
   "source": [
    "def pintarDatos():\n",
    "    tr, te, vl = cargaDatos()\n",
    "    X = tr[0]\n",
    "    Y = tr[1]\n",
    "    r = optimizar(X,Y,0)\n",
    "    \n",
    "    plt.figure()\n",
    "    plt.plot(X,Y,\"x\")\n",
    "    min_x = min(X)\n",
    "    max_x = max(X)\n",
    "    min_y = r[0] + r[1] * min_x\n",
    "    max_y = r[0] + r[1] * max_x\n",
    "    plt.plot([min_x, max_x], [min_y, max_y])\n",
    "    plt.savefig(\"resultado.pdf\")"
   ]
  },
  {
   "cell_type": "code",
   "execution_count": 16,
   "metadata": {},
   "outputs": [
    {
     "data": {
      "image/png": "[encoded data removed]",
      "text/plain": [
       "<Figure size 432x288 with 1 Axes>"
      ]
     },
     "metadata": {
      "needs_background": "light"
     },
     "output_type": "display_data"
    }
   ],
   "source": [
    "pintarDatos()"
   ]
  },
  {
   "cell_type": "markdown",
   "metadata": {},
   "source": [
    "## Curvas de Aprendizaje"
   ]
  },
  {
   "cell_type": "markdown",
   "metadata": {},
   "source": [
    "Ahora pintamos la curva de aprendizaje, que representa el error del modelo respecto al conjunto de entrenamiento y al de validación frente al número de ejemplos de entrenamiento con las que se entrena el modelo"
   ]
  },
  {
   "cell_type": "markdown",
   "metadata": {},
   "source": [
    "Esta función devuelve el coste y el gradiente de los ejemplos X,Y en función de un vector de parámeros Theta y un parámetro de regularización Lambda"
   ]
  },
  {
   "cell_type": "code",
   "execution_count": 13,
   "metadata": {},
   "outputs": [],
   "source": [
    "def costeygradienteReg2(Theta,X,Y,Lambda):\n",
    "    coste = coste_reg(Theta,X,Y,Lambda)\n",
    "    gradiente = gradiente_reg(Theta,X,Y,Lambda)\n",
    "    return coste,gradiente"
   ]
  },
  {
   "cell_type": "markdown",
   "metadata": {},
   "source": [
    "Esta funcion encuentra los parámetros óptimos Theta de un polinomio de grado 8 (así que Theta tiene 9 componentes). Asumimos que la matriz de atributos X viene ya normalizada y con la columna de 1 necesaria"
   ]
  },
  {
   "cell_type": "code",
   "execution_count": 14,
   "metadata": {},
   "outputs": [],
   "source": [
    "def optimizar2(X,Y,Lambda):\n",
    "    T = np.ones((X.shape[1],)).ravel()\n",
    "    result = opt.minimize(costeygradienteReg2,T,args=(X,Y,Lambda),method='TNC',jac=True)['x']\n",
    "    return result"
   ]
  },
  {
   "cell_type": "code",
   "execution_count": 15,
   "metadata": {},
   "outputs": [],
   "source": [
    "def curvaAprendizaje():\n",
    "    tr,te,vl = cargaDatos()\n",
    "    X = tr[0]\n",
    "    Y = tr[1]\n",
    "    \n",
    "    Xval = vl[0]\n",
    "    Xval = np.hstack([np.ones((Xval.shape[0], 1)), Xval])\n",
    "    Yval = vl[1]\n",
    "    \n",
    "    erroresT = np.zeros((X.shape[0],))\n",
    "    erroresV = np.zeros((X.shape[0],))\n",
    "    ejeX = np.zeros((X.shape[0],))\n",
    "    for j in range(1,X.shape[0]):\n",
    "        ejeX[j] = j\n",
    "        Xaux = X[0:j]\n",
    "        Yaux = Y[0:j]\n",
    "        Xaux = np.hstack([np.ones((j, 1)), Xaux])\n",
    "        r = optimizar2(Xaux,Yaux,0)\n",
    "        \n",
    "        erroresT[j] += coste_reg(r,Xaux,Yaux,0)\n",
    "        erroresV[j] += coste_reg(r,Xval,Yval,0)\n",
    "    \n",
    "    plt.figure()\n",
    "    plt.plot(ejeX[1:], erroresT[1:], 'b', label = \"Entrenamiento\")\n",
    "    plt.plot(ejeX[1:], erroresV[1:], 'r', label = \"Validacion\")\n",
    "    plt.xlabel(\"Numero de ejemplos de entrenamiento\")\n",
    "    plt.ylabel(\"Error\")\n",
    "    plt.legend(loc = 0)\n",
    "    plt.show()"
   ]
  },
  {
   "cell_type": "code",
   "execution_count": 16,
   "metadata": {},
   "outputs": [
    {
     "data": {
      "image/png": "[encoded data removed]",
      "text/plain": [
       "<Figure size 432x288 with 1 Axes>"
      ]
     },
     "metadata": {
      "needs_background": "light"
     },
     "output_type": "display_data"
    }
   ],
   "source": [
    "curvaAprendizaje()"
   ]
  },
  {
   "cell_type": "markdown",
   "metadata": {},
   "source": [
    "## Regresion Polinomial"
   ]
  },
  {
   "cell_type": "markdown",
   "metadata": {},
   "source": [
    "Esta función transforma la matriz de ejemplos de entrenamiento X en una matriz que contiene los mismos ejemplos pero representados como un vector de g+1 componentes. Además, el resultado de esta función devuelve ya la matriz con la columna de 1 necesaria"
   ]
  },
  {
   "cell_type": "code",
   "execution_count": 17,
   "metadata": {},
   "outputs": [],
   "source": [
    "def generaPolinomio(X,g):\n",
    "    p = PolynomialFeatures(g)\n",
    "    X2 = p.fit_transform(X)\n",
    "    return X2"
   ]
  },
  {
   "cell_type": "markdown",
   "metadata": {},
   "source": [
    "Esta función normaliza los atributos de los ejemplos que vienen en X como (Valor Atributo - Media de atributo)/(desv tipica de atributo)\n",
    "\n",
    "Si a esta función le llega una matriz X con todo 1 en un atributo, fallará porque la desviación típica será 0. Hay que pasarle la matriz X sin la columna de unos"
   ]
  },
  {
   "cell_type": "code",
   "execution_count": 18,
   "metadata": {},
   "outputs": [],
   "source": [
    "def normalizar(X):\n",
    "    mu = np.mean(X, axis=0)\n",
    "    sigma = np.std(X, axis=0)\n",
    "    X_norm = (X-mu)/sigma\n",
    "    return(X_norm, mu, sigma)"
   ]
  },
  {
   "cell_type": "code",
   "execution_count": 19,
   "metadata": {},
   "outputs": [],
   "source": [
    "def main3():\n",
    "    tr,te,vl = cargaDatos()\n",
    "    X = tr[0]\n",
    "    Y = tr[1]\n",
    "    Xpol = generaPolinomio(X,8)\n",
    "    Xpoln , mu, sigma = normalizar(Xpol[:, 1:])\n",
    "    ones = np.ones((Xpoln.shape[0],1))\n",
    "    Xpoln = np.hstack([ones, Xpoln])\n",
    "    \n",
    "    T = optimizar2(Xpoln, Y, 0)\n",
    "    \n",
    "    Xvalues = np.arange(X.min()-10 , X.max()+10, 0.05)\n",
    "    # Para pasar de 1D array a 2D array. Lo hago porque salia un error que me decía que lo hiciera\n",
    "    Xvalues = Xvalues.reshape(-1, 1)\n",
    "    Xpolvalues = generaPolinomio(Xvalues,8)\n",
    "    Xpolnvalues = (Xpolvalues[:,1:] - mu) / sigma\n",
    "    ones2 = np.ones((Xpolnvalues.shape[0], 1))\n",
    "    Xpolnvalues = np.hstack([ones2, Xpolnvalues])\n",
    "    \n",
    "    Ypolvalues  = np.dot(Xpolnvalues,T)\n",
    "    \n",
    "    ax=plt.gca()\n",
    "    ax.axis([X.min()-5,X.max()+5,Y.min()-10,Y.max()+5])\n",
    "    plt.plot(X,Y, \"x\", color = 'red')\n",
    "    plt.plot(Xvalues, Ypolvalues, '-b')"
   ]
  },
  {
   "cell_type": "code",
   "execution_count": 20,
   "metadata": {},
   "outputs": [
    {
     "data": {
      "image/png": "[encoded data removed]",
      "text/plain": [
       "<Figure size 432x288 with 1 Axes>"
      ]
     },
     "metadata": {
      "needs_background": "light"
     },
     "output_type": "display_data"
    }
   ],
   "source": [
    "main3()"
   ]
  },
  {
   "cell_type": "markdown",
   "metadata": {},
   "source": [
    "Esta función hace lo mismo que `normalizar` , pero lo hace usando el StandardScaler de la librería de SKLearn. Puede recibir la matriz X con una columna de unos sin dar error.\n",
    "A la matriz resultado Y hay que sumarle 1 a la columna de unos original (la primera de la matriz X) porque devuelve todo 0 en esa columna.\n",
    "\n",
    "Además de la matriz normalizada, la media de cada atributo y la varianza de cada atributo, devuelve un objeto Scaler que permite transformar cualquier matriz de individuos con los mismos atributos empleando la media y la desviación típica de los atributos de la matriz X"
   ]
  },
  {
   "cell_type": "code",
   "execution_count": 21,
   "metadata": {},
   "outputs": [],
   "source": [
    "def normalizar2(X):\n",
    "    scaler = StandardScaler()\n",
    "    scaler.fit(X)\n",
    "    mu = scaler.mean_\n",
    "    sigma = scaler.scale_\n",
    "    Y = scaler.transform(X)\n",
    "    return Y,mu,sigma,scaler"
   ]
  },
  {
   "cell_type": "code",
   "execution_count": 24,
   "metadata": {},
   "outputs": [],
   "source": [
    "def main4():\n",
    "    tr,te,vl = cargaDatos()\n",
    "    X = tr[0]\n",
    "    Y = tr[1]\n",
    "    Xpol = generaPolinomio(X,8)\n",
    "    Xpoln , mu, sigma, scaler = normalizar2(Xpol[:, 1:])\n",
    "    ones = np.ones((Xpoln.shape[0],1))\n",
    "    Xpoln = np.hstack([ones, Xpoln])\n",
    "    \n",
    "    T = optimizar2(Xpoln, Y, 0)\n",
    "    \n",
    "    Xvalues = np.arange(X.min()-5 , X.max()+5, 0.05)\n",
    "    # Para pasar de 1D array a 2D array. Lo hago porque salia un error que me decía que lo hiciera\n",
    "    Xvalues = Xvalues.reshape(-1, 1)\n",
    "    Xpolvalues = generaPolinomio(Xvalues,8)\n",
    "    Xpolnvalues = (Xpolvalues[:,1:] - mu) / sigma\n",
    "    ones2 = np.ones((Xpolnvalues.shape[0], 1))\n",
    "    Xpolnvalues = np.hstack([ones2, Xpolnvalues])\n",
    "    \n",
    "    Ypolvalues  = np.dot(Xpolnvalues,T)\n",
    "    \n",
    "    ax=plt.gca()\n",
    "    ax.axis([X.min()-5,X.max()+5,Y.min()-10,Y.max()+5])\n",
    "    plt.plot(X,Y, \"x\", color = 'red')\n",
    "    plt.plot(Xvalues, Ypolvalues, '-b')"
   ]
  },
  {
   "cell_type": "code",
   "execution_count": 25,
   "metadata": {},
   "outputs": [
    {
     "data": {
      "image/png": "[encoded data removed]",
      "text/plain": [
       "<Figure size 432x288 with 1 Axes>"
      ]
     },
     "metadata": {
      "needs_background": "light"
     },
     "output_type": "display_data"
    }
   ],
   "source": [
    "main4()"
   ]
  },
  {
   "cell_type": "markdown",
   "metadata": {},
   "source": [
    "## Curvas de Aprendizaje"
   ]
  },
  {
   "cell_type": "code",
   "execution_count": 26,
   "metadata": {},
   "outputs": [],
   "source": [
    "def generaPolinomio(X,g):\n",
    "    p = PolynomialFeatures(g)\n",
    "    X2 = p.fit_transform(X)\n",
    "    return X2"
   ]
  },
  {
   "cell_type": "code",
   "execution_count": 27,
   "metadata": {},
   "outputs": [],
   "source": [
    "def error(T,X,Y):\n",
    "    coef1 = (1/(2* X.shape[0]))\n",
    "    \n",
    "    H = np.dot(X,T)\n",
    "    D = H - Y\n",
    "    sumErs = np.sum(D**2)\n",
    "    \n",
    "    \n",
    "    coste = ( coef1 * sumErs ) \n",
    "    return coste"
   ]
  },
  {
   "cell_type": "code",
   "execution_count": 28,
   "metadata": {},
   "outputs": [],
   "source": [
    "def curvaAprendizaje3(Lambda):\n",
    "    tr, test, val = cargaDatos()\n",
    "    \n",
    "    X = tr[0]\n",
    "    Y = tr[1]\n",
    "    \n",
    "    Xval = val[0]\n",
    "    Yval = val[1]\n",
    "    \n",
    "    print(X.shape)\n",
    "    print(Xval.shape)\n",
    "    \n",
    "    X = generaPolinomio(X,8)\n",
    "    Xval = generaPolinomio(Xval,8)\n",
    "    \n",
    "    X,mu,sigma,scaler = normalizar2(X)\n",
    "    X[:,0] += 1\n",
    "    \n",
    "    Xval = scaler.transform(Xval)\n",
    "    Xval[:,0] += 1\n",
    "    \n",
    "    ejeX = np.arange(1, X.shape[0], 1)\n",
    "    errorT = np.zeros(X.shape[0]-1)\n",
    "    errorV = np.zeros(X.shape[0]-1)\n",
    "    \n",
    "    for j in range(1, X.shape[0]):\n",
    "        X2 = X[0:j, :]\n",
    "        Y2 = Y[0:j]\n",
    "        \n",
    "        r = optimizar2(X2,Y2,Lambda)\n",
    "        errorT[j-1] = error(r,X2,Y2)\n",
    "        errorV[j-1] = error(r,Xval,Yval)\n",
    "        \n",
    "        print(\"Lambda = {} / ErrorTest = {} / Ejemplos = {}\".format(Lambda, errorT[j-1], j))\n",
    "        \n",
    "    plt.plot(ejeX,errorT, 'b' , label = \"Entrenamiento\")\n",
    "    plt.plot(ejeX,errorV, 'r' , label = \"Validacion\")"
   ]
  },
  {
   "cell_type": "code",
   "execution_count": 29,
   "metadata": {},
   "outputs": [
    {
     "name": "stdout",
     "output_type": "stream",
     "text": [
      "(12, 1)\n",
      "(21, 1)\n",
      "Lambda = 0 / ErrorTest = 9.860761315262648e-32 / Ejemplos = 1\n",
      "Lambda = 0 / ErrorTest = 3.614957723972272e-17 / Ejemplos = 2\n",
      "Lambda = 0 / ErrorTest = 6.180470289913674e-17 / Ejemplos = 3\n",
      "Lambda = 0 / ErrorTest = 1.6229978943794782e-14 / Ejemplos = 4\n",
      "Lambda = 0 / ErrorTest = 3.44680823971721e-12 / Ejemplos = 5\n",
      "Lambda = 0 / ErrorTest = 2.9501088416128532e-08 / Ejemplos = 6\n",
      "Lambda = 0 / ErrorTest = 2.4066828739233664e-09 / Ejemplos = 7\n",
      "Lambda = 0 / ErrorTest = 0.002277468508696026 / Ejemplos = 8\n",
      "Lambda = 0 / ErrorTest = 0.03028860691812678 / Ejemplos = 9\n",
      "Lambda = 0 / ErrorTest = 0.041446299240215236 / Ejemplos = 10\n",
      "Lambda = 0 / ErrorTest = 0.04016867974065798 / Ejemplos = 11\n"
     ]
    },
    {
     "data": {
      "image/png": "[encoded data removed]",
      "text/plain": [
       "<Figure size 432x288 with 1 Axes>"
      ]
     },
     "metadata": {
      "needs_background": "light"
     },
     "output_type": "display_data"
    }
   ],
   "source": [
    "curvaAprendizaje3(0)"
   ]
  },
  {
   "cell_type": "code",
   "execution_count": 30,
   "metadata": {},
   "outputs": [
    {
     "name": "stdout",
     "output_type": "stream",
     "text": [
      "(12, 1)\n",
      "(21, 1)\n",
      "Lambda = 1 / ErrorTest = 9.652860155508887e-20 / Ejemplos = 1\n",
      "Lambda = 1 / ErrorTest = 0.04283839571442041 / Ejemplos = 2\n",
      "Lambda = 1 / ErrorTest = 2.515218098478268 / Ejemplos = 3\n",
      "Lambda = 1 / ErrorTest = 1.2855385892834161 / Ejemplos = 4\n",
      "Lambda = 1 / ErrorTest = 1.0283195338427427 / Ejemplos = 5\n",
      "Lambda = 1 / ErrorTest = 0.7949296141866686 / Ejemplos = 6\n",
      "Lambda = 1 / ErrorTest = 1.4099632054754583 / Ejemplos = 7\n",
      "Lambda = 1 / ErrorTest = 1.3162421434907814 / Ejemplos = 8\n",
      "Lambda = 1 / ErrorTest = 1.4587331507678858 / Ejemplos = 9\n",
      "Lambda = 1 / ErrorTest = 1.353285738666421 / Ejemplos = 10\n",
      "Lambda = 1 / ErrorTest = 1.2285353041180487 / Ejemplos = 11\n"
     ]
    },
    {
     "data": {
      "image/png": "[encoded data removed]",
      "text/plain": [
       "<Figure size 432x288 with 1 Axes>"
      ]
     },
     "metadata": {
      "needs_background": "light"
     },
     "output_type": "display_data"
    }
   ],
   "source": [
    "curvaAprendizaje3(1)"
   ]
  },
  {
   "cell_type": "code",
   "execution_count": 31,
   "metadata": {},
   "outputs": [
    {
     "name": "stdout",
     "output_type": "stream",
     "text": [
      "(12, 1)\n",
      "(21, 1)\n",
      "Lambda = 100 / ErrorTest = 1.245554392697584e-19 / Ejemplos = 1\n",
      "Lambda = 100 / ErrorTest = 0.11398554005804466 / Ejemplos = 2\n",
      "Lambda = 100 / ErrorTest = 105.9591535982427 / Ejemplos = 3\n",
      "Lambda = 100 / ErrorTest = 119.94526589383578 / Ejemplos = 4\n",
      "Lambda = 100 / ErrorTest = 100.88640927011795 / Ejemplos = 5\n",
      "Lambda = 100 / ErrorTest = 95.25749280151047 / Ejemplos = 6\n",
      "Lambda = 100 / ErrorTest = 81.68810254212481 / Ejemplos = 7\n",
      "Lambda = 100 / ErrorTest = 74.88456528714954 / Ejemplos = 8\n",
      "Lambda = 100 / ErrorTest = 69.81950885138086 / Ejemplos = 9\n",
      "Lambda = 100 / ErrorTest = 62.96404522010895 / Ejemplos = 10\n",
      "Lambda = 100 / ErrorTest = 57.73168893123231 / Ejemplos = 11\n"
     ]
    },
    {
     "data": {
      "image/png": "[encoded data removed]",
      "text/plain": [
       "<Figure size 432x288 with 1 Axes>"
      ]
     },
     "metadata": {
      "needs_background": "light"
     },
     "output_type": "display_data"
    }
   ],
   "source": [
    "curvaAprendizaje3(100)"
   ]
  },
  {
   "cell_type": "code",
   "execution_count": 32,
   "metadata": {},
   "outputs": [
    {
     "name": "stdout",
     "output_type": "stream",
     "text": [
      "(12, 1)\n",
      "(21, 1)\n",
      "Lambda = 10 / ErrorTest = 2.1617928596070678e-20 / Ejemplos = 1\n",
      "Lambda = 10 / ErrorTest = 0.10194965900333114 / Ejemplos = 2\n",
      "Lambda = 10 / ErrorTest = 46.8239944266395 / Ejemplos = 3\n",
      "Lambda = 10 / ErrorTest = 37.068102533595166 / Ejemplos = 4\n",
      "Lambda = 10 / ErrorTest = 28.932747262488434 / Ejemplos = 5\n",
      "Lambda = 10 / ErrorTest = 24.90592337549245 / Ejemplos = 6\n",
      "Lambda = 10 / ErrorTest = 21.869143875044013 / Ejemplos = 7\n",
      "Lambda = 10 / ErrorTest = 18.72987367339912 / Ejemplos = 8\n",
      "Lambda = 10 / ErrorTest = 17.29490961863615 / Ejemplos = 9\n",
      "Lambda = 10 / ErrorTest = 15.540216234315759 / Ejemplos = 10\n",
      "Lambda = 10 / ErrorTest = 14.09253368849591 / Ejemplos = 11\n"
     ]
    },
    {
     "data": {
      "image/png": "[encoded data removed]",
      "text/plain": [
       "<Figure size 432x288 with 1 Axes>"
      ]
     },
     "metadata": {
      "needs_background": "light"
     },
     "output_type": "display_data"
    }
   ],
   "source": [
    "curvaAprendizaje3(10)"
   ]
  },
  {
   "cell_type": "markdown",
   "metadata": {},
   "source": [
    "## Selección del Parámetro λ"
   ]
  },
  {
   "cell_type": "code",
   "execution_count": 33,
   "metadata": {},
   "outputs": [],
   "source": [
    "def pruebaLambdas2(Lambdas):\n",
    "    tr, test, val = cargaDatos()\n",
    "    \n",
    "    X = tr[0]\n",
    "    Y = tr[1]\n",
    "    \n",
    "    Xval = val[0]\n",
    "    Yval = val[1]\n",
    "    \n",
    "    print(X.shape)\n",
    "    print(Xval.shape)\n",
    "    \n",
    "    X = generaPolinomio(X,8)\n",
    "    X,mu,sigma, scaler = normalizar2(X)\n",
    "    X[:,0] += 1\n",
    "    \n",
    "    print(X.shape)\n",
    "    \n",
    "    Xval = generaPolinomio(Xval,8)\n",
    "    Xval = scaler.transform(Xval)\n",
    "    Xval[:,0]+=1\n",
    "    \n",
    "    errorT = np.zeros(Lambdas.shape[0])\n",
    "    errorV = np.zeros(Lambdas.shape[0])\n",
    "    \n",
    "    for j in range(Lambdas.shape[0]):\n",
    "        \n",
    "        r = optimizar2(X,Y,Lambdas[j])\n",
    "        errorT[j] = coste_reg(r,X,Y,Lambdas[j])\n",
    "        errorV[j] = coste_reg(r,Xval,Yval,Lambdas[j])\n",
    "        \n",
    "        print(\"Lambda = {} / ErrorTest = {} / ErrorVal = {}\".format(Lambdas[j],errorT[j],errorV[j]))\n",
    "        \n",
    "    return errorT, errorV"
   ]
  },
  {
   "cell_type": "code",
   "execution_count": 34,
   "metadata": {},
   "outputs": [],
   "source": [
    "def graficarErrorLambdas():\n",
    "    Lambdas = np.array([0,0.001,0.003,0.01,0.03,0.1,0.3,1,3,10])\n",
    "    errorT, errorV = pruebaLambdas2(Lambdas)\n",
    "    ax = plt.gca()\n",
    "    plt.plot(Lambdas, errorT, 'b', label = 'Entrenamiento')\n",
    "    plt.plot(Lambdas, errorV, 'r', label = 'Validacion')\n",
    "    print(errorT)\n",
    "    print(errorV)\n",
    "    \n",
    "    m = np.argmin(abs(errorT - errorV))\n",
    "    print(\"Lamda optima = {}\".format(Lambdas[m]))\n",
    "    print(\"Error de entrenamiento para lambda = 1 es {}\".format(errorT[m]))"
   ]
  },
  {
   "cell_type": "code",
   "execution_count": 35,
   "metadata": {},
   "outputs": [
    {
     "name": "stdout",
     "output_type": "stream",
     "text": [
      "(12, 1)\n",
      "(21, 1)\n",
      "(12, 9)\n",
      "Lambda = 0.0 / ErrorTest = 0.09352528044009785 / ErrorVal = 8.479039304392241\n",
      "Lambda = 0.001 / ErrorTest = 0.1695957410695278 / ErrorVal = 9.756124600659573\n",
      "Lambda = 0.003 / ErrorTest = 0.24320909076313443 / ErrorVal = 16.155245403163693\n",
      "Lambda = 0.01 / ErrorTest = 0.3712830091273028 / ErrorVal = 17.237711000768677\n",
      "Lambda = 0.03 / ErrorTest = 0.636702939209546 / ErrorVal = 13.427237542219414\n",
      "Lambda = 0.1 / ErrorTest = 1.3605722579625361 / ErrorVal = 8.453076524492513\n",
      "Lambda = 0.3 / ErrorTest = 2.9176493462841746 / ErrorVal = 5.9318822118129315\n",
      "Lambda = 1.0 / ErrorTest = 6.830463317219911 / ErrorVal = 7.047227793587933\n",
      "Lambda = 3.0 / ErrorTest = 14.937645805918022 / ErrorVal = 9.782199380996552\n",
      "Lambda = 10.0 / ErrorTest = 31.878154019266574 / ErrorVal = 18.633911727362104\n",
      "[ 0.09352528  0.16959574  0.24320909  0.37128301  0.63670294  1.36057226\n",
      "  2.91764935  6.83046332 14.93764581 31.87815402]\n",
      "[ 8.4790393   9.7561246  16.1552454  17.237711   13.42723754  8.45307652\n",
      "  5.93188221  7.04722779  9.78219938 18.63391173]\n",
      "Lamda optima = 1.0\n",
      "Error de entrenamiento para lambda = 1 es 6.830463317219911\n"
     ]
    },
    {
     "data": {
      "image/png": "[encoded data removed]",
      "text/plain": [
       "<Figure size 432x288 with 1 Axes>"
      ]
     },
     "metadata": {
      "needs_background": "light"
     },
     "output_type": "display_data"
    }
   ],
   "source": [
    "graficarErrorLambdas()"
   ]
  },
  {
   "cell_type": "code",
   "execution_count": 45,
   "metadata": {},
   "outputs": [
    {
     "name": "stdout",
     "output_type": "stream",
     "text": [
      "(12, 1)\n",
      "(21, 1)\n",
      "(12, 9)\n",
      "Error de test para lambda = 1 es 5.563878556656672\n"
     ]
    }
   ],
   "source": [
    "tr, test, val = cargaDatos()\n",
    "    \n",
    "X = tr[0]\n",
    "Y = tr[1]\n",
    "    \n",
    "Xt = test[0]\n",
    "Yt = test[1]\n",
    "    \n",
    "print(X.shape)\n",
    "print(Xt.shape)\n",
    "    \n",
    "X = generaPolinomio(X,8)\n",
    "X,mu,sigma, scaler = normalizar2(X)\n",
    "X[:,0] += 1\n",
    "    \n",
    "print(X.shape)\n",
    "    \n",
    "Xt = generaPolinomio(Xt,8)\n",
    "Xt = scaler.transform(Xt)\n",
    "Xt[:,0]+=1\n",
    "    \n",
    "r = optimizar2(X,Y,1)\n",
    "\n",
    "ctrain = coste_reg(r,X,Y,1)\n",
    "ctest = coste_reg(r,Xt,Yt,1)\n",
    "\n",
    "print(\"Error de test para lambda = 1 es {}\".format(ctest))"
   ]
  }
 ],
 "metadata": {
  "kernelspec": {
   "display_name": "Python 3",
   "language": "python",
   "name": "python3"
  },
  "language_info": {
   "codemirror_mode": {
    "name": "ipython",
    "version": 3
   },
   "file_extension": ".py",
   "mimetype": "text/x-python",
   "name": "python",
   "nbconvert_exporter": "python",
   "pygments_lexer": "ipython3",
   "version": "3.8.3"
  }
 },
 "nbformat": 4,
 "nbformat_minor": 4
}
