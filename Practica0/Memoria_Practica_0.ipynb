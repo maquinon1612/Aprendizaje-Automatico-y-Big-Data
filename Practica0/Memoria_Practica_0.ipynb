{
 "cells": [
  {
   "cell_type": "markdown",
   "metadata": {},
   "source": [
    "# Aprendizaje Automático y Big Data\n",
    "\n",
    "## Práctica 0: Vectorización\n",
    "\n",
    "Guillermo García Patiño Lenza\n",
    "Mario Quiñones Pérez"
   ]
  },
  {
   "cell_type": "markdown",
   "metadata": {},
   "source": [
    "### Objetivos :\n",
    "\n",
    "En esta práctica se pretende demostrar que el cálculo vectorizado que realiza Numpy es mucho más eficiente que realizar los mismos cálculos empleando bucles tradicionales de python. Para ello, se ha implementado el método Monte Carlo para calcular la integral definida de una función entre los dos puntos de ambas maneras y se han comparado los tiempos de ejecución obtenidos para diferentes cantidades de puntos aleatorios que se emplean para el cálculo"
   ]
  },
  {
   "cell_type": "markdown",
   "metadata": {},
   "source": [
    "### Funciones Implementadas :"
   ]
  },
  {
   "cell_type": "markdown",
   "metadata": {},
   "source": [
    "#### 1. Integra_mc :\n",
    "Esta función recibe como parámetros: la expresión de la función a integrar (func), los dos puntos entre los que se quiere calcular la integral definida (a y b), y el número de puntos aleatorios (num_puntos) que se generarán para aproximar el cálculo. Después, calcula el máximo aproximado de la función recibida (max), genera num_puntos aleatorios en el intervalo (a,b) y otros num_puntos en el intervalo (0,max), calcula la imagen de los primeros num_puntos y obtiene el cociente (c) entre el número de pares (x,y) generados aleatoriamente que cumplen que y <= func(y) y el número de puntos total. Finalmente, la estimación de la integral se calcula como el producto A = c * (b-a) * max  "
   ]
  },
  {
   "cell_type": "code",
   "execution_count": 23,
   "metadata": {},
   "outputs": [],
   "source": [
    "def integra_mc(func, a, b, num_puntos = 100):\n",
    "    puntos = np.linspace(a,b,num_puntos)\n",
    "    m = max(func(puntos))\n",
    "    fxpuntos = func((np.random.randint(a, size = num_puntos)) + (b-a))\n",
    "    ypuntos = np.random.randint(m, size=num_puntos)\n",
    "    menores = ypuntos < fxpuntos\n",
    "    por_debajo = sum(menores)\n",
    "    return (por_debajo / num_puntos)*(b-a)*m"
   ]
  },
  {
   "cell_type": "markdown",
   "metadata": {},
   "source": [
    "#### 2. Integra_mc1:\n",
    "Esta función realiza el mismo cálculo que la anterior pero empleando bucles tradicionales de python"
   ]
  },
  {
   "cell_type": "code",
   "execution_count": 24,
   "metadata": {},
   "outputs": [],
   "source": [
    "def integra_mc1(func, a, b, num_puntos = 10000):\n",
    "    \n",
    "    punto_f = func(a)\n",
    "    por_debajo = 0\n",
    "    \n",
    "    for num in range(num_puntos):\n",
    "        aux = a + (b-a)*num/num_puntos\n",
    "        aux_f = func(aux)\n",
    "        \n",
    "        if aux_f > punto_f:\n",
    "            punto_f = aux_f\n",
    "            \n",
    "    for num in range(num_puntos):\n",
    "        fx = func((random.randrange(a)) + (b-a))\n",
    "        y = random.randrange(int(punto_f))\n",
    "        \n",
    "        if y < fx:\n",
    "            por_debajo = por_debajo + 1\n",
    "        \n",
    "    return (por_debajo / num_puntos)*(b-a)*punto_f  \n"
   ]
  },
  {
   "cell_type": "markdown",
   "metadata": {},
   "source": [
    "#### 3. Toma_tiempos:\n",
    "Esta función calcula la integral de la función f entre los puntos que recibe como parametro para varios valores de num_puntos, anotando el tiempo que tarda cada una de las ejecuciones y almacenándolo."
   ]
  },
  {
   "cell_type": "code",
   "execution_count": 25,
   "metadata": {},
   "outputs": [],
   "source": [
    "def toma_tiempos(f, a, b):\n",
    "    t_bucles = []\n",
    "    t_vectorizado = []\n",
    "    tamanios = np.linspace(1,100000,100, dtype = int)\n",
    "    for i in tamanios:\n",
    "        tv = tiempo_vectorizado(f,a,b,i)\n",
    "        tb = tiempo_bucles(f,a,b,i)\n",
    "        t_bucles += [tb]\n",
    "        t_vectorizado += [tv]\n",
    "    return (t_bucles,t_vectorizado,tamanios)"
   ]
  },
  {
   "cell_type": "markdown",
   "metadata": {},
   "source": [
    "#### 4. Main:\n",
    "Se trata del punto de entrada al programa. Esta función se encarga de extraer los puntos entre los que se va a integrar la función desde los argumentos con los que se llama al programa, de generar la gráfica con los tiempos, y de guardarla en un png."
   ]
  },
  {
   "cell_type": "code",
   "execution_count": 26,
   "metadata": {},
   "outputs": [],
   "source": [
    "import sys\n",
    "import numpy as np\n",
    "import random\n",
    "import time\n",
    "\n",
    "import matplotlib.pyplot as plt\n",
    "\n",
    "def func (x) :\n",
    "    return -(x**2)+ 5*x + 5\n",
    "\n",
    "def main():\n",
    "    args = sys.argv\n",
    "    # a, b = args[1], args[2]\n",
    "    a, b = 2, 5\n",
    "    t = toma_tiempos(func,a,b)\n",
    "    #bucles, vectorizado, tamaños\n",
    "    plt.figure()\n",
    "    plt.scatter(t[2],t[0], c = 'red', label = 'bucle')\n",
    "    plt.scatter(t[2],t[1], c = 'blue', label = 'vectorizado')\n",
    "    plt.legend()\n",
    "    plt.show()\n",
    "    plt.savefig('tiempos2.png')"
   ]
  },
  {
   "cell_type": "markdown",
   "metadata": {},
   "source": [
    "### Conclusiones:\n",
    "\n",
    "Después de ejecutar el código anterior, hemos obtenido la siguiente gráfica, que muestra como claramente es más eficiente emplear Numpy para este tipo de cálculos que hacerlos con bucles tradicionales. Para generar la gráfica se han empleado 1.000 valores diferentes entre 1 y 1.000.000 para ambos métodos de cálculo.\n",
    "\n",
    "Como última nota hay que destacar que, aunque parece que la diferencia en eficiencia no es tan notable, para casos más grandes que estos la diferencia debería notarse mucho más tanto en la gráfica como en el tiempo real de ejecución"
   ]
  },
  {
   "attachments": {
    "imagen.png": {
     "image/png": "[encoded data removed]"
    }
   },
   "cell_type": "markdown",
   "metadata": {},
   "source": [
    "![imagen.png](attachment:imagen.png)"
   ]
  }
 ],
 "metadata": {
  "kernelspec": {
   "display_name": "Python 3",
   "language": "python",
   "name": "python3"
  },
  "language_info": {
   "codemirror_mode": {
    "name": "ipython",
    "version": 3
   },
   "file_extension": ".py",
   "mimetype": "text/x-python",
   "name": "python",
   "nbconvert_exporter": "python",
   "pygments_lexer": "ipython3",
   "version": "3.8.3"
  }
 },
 "nbformat": 4,
 "nbformat_minor": 4
}
