{
 "cells": [
  {
   "cell_type": "code",
   "execution_count": 2,
   "id": "b1a0ae1c",
   "metadata": {},
   "outputs": [],
   "source": [
    "from creador_redes import *\n",
    "import loader as ld\n",
    "import fun_basicas as fun\n",
    "import matplotlib.pyplot as plt\n",
    "\n",
    "random_state = 2714\n",
    "INIT_EPSILON = 0.12\n",
    "\n",
    "Ex, Ey, Vx, Vy, Px, Py = ld.carga_Numpy(random_state)\n",
    "y_onehot = fun.one_hot(Ey, 4)\n",
    "\n",
    "\n",
    "Ex2, scaler = ld.normalizar(Ex)\n",
    "Vx2 = scaler.transform(Vx)\n",
    "Px2 = scaler.transform(Px)"
   ]
  },
  {
   "cell_type": "code",
   "execution_count": 6,
   "id": "fe339f44",
   "metadata": {},
   "outputs": [
    {
     "name": "stdout",
     "output_type": "stream",
     "text": [
      "(815,)\n",
      "(503,)\n",
      "(349,)\n",
      "(669,)\n",
      "validación = 41.95205479452055\n",
      "(774,)\n",
      "(499,)\n",
      "(344,)\n",
      "(719,)\n",
      "prueba = 40.02568493150685\n",
      "(610,)\n",
      "(562,)\n",
      "(598,)\n",
      "(566,)\n",
      "validación = 78.08219178082192\n",
      "(590,)\n",
      "(562,)\n",
      "(605,)\n",
      "(579,)\n",
      "prueba = 77.26883561643835\n",
      "(606,)\n",
      "(581,)\n",
      "(590,)\n",
      "(559,)\n",
      "validación = 77.44006849315068\n",
      "(589,)\n",
      "(567,)\n",
      "(581,)\n",
      "(599,)\n",
      "prueba = 78.8527397260274\n",
      "(591,)\n",
      "(593,)\n",
      "(597,)\n",
      "(555,)\n",
      "validación = 79.75171232876713\n",
      "(552,)\n",
      "(590,)\n",
      "(602,)\n",
      "(592,)\n",
      "prueba = 79.96575342465754\n",
      "(590,)\n",
      "(584,)\n",
      "(597,)\n",
      "(565,)\n",
      "validación = 81.54965753424658\n",
      "(593,)\n",
      "(557,)\n",
      "(581,)\n",
      "(605,)\n",
      "prueba = 82.06335616438356\n"
     ]
    },
    {
     "data": {
      "image/png": "[encoded data removed]",
      "text/plain": [
       "<Figure size 432x288 with 1 Axes>"
      ]
     },
     "metadata": {
      "needs_background": "light"
     },
     "output_type": "display_data"
    }
   ],
   "source": [
    "r = red_neuronal(2, [56,63,56], 0.12, Ex2.shape[1], 4)\n",
    "\n",
    "iteraciones = [100, 500, 1000, 1500, 2000]\n",
    "validaciones = []\n",
    "pruebas = []\n",
    "\n",
    "for i in range(len(iteraciones)):\n",
    "    p1, p2 = r.entrenar(Ex, y_onehot, Vx, Vy, Px, Py, 0.1, iteraciones[i], INIT_EPSILON)\n",
    "    validaciones.append(p1)\n",
    "    pruebas.append(p2)\n",
    "\n",
    "plt.figure()\n",
    "plt.title(\"red: {}, Lambda = {}\".format([56,63,56], 0.1))\n",
    "plt.plot(np.array(iteraciones), np.array(validaciones), label = 'validaciones' , Color = 'red')\n",
    "plt.plot(np.array(iteraciones), np.array(pruebas), label = 'pruebas' , Color = 'blue')\n",
    "plt.show()"
   ]
  },
  {
   "cell_type": "code",
   "execution_count": 8,
   "id": "83767a10",
   "metadata": {},
   "outputs": [
    {
     "name": "stdout",
     "output_type": "stream",
     "text": [
      "(531,)\n",
      "(978,)\n",
      "(186,)\n",
      "(641,)\n",
      "validación = 29.88013698630137\n",
      "(578,)\n",
      "(902,)\n",
      "(159,)\n",
      "(697,)\n",
      "prueba = 30.565068493150683\n",
      "(1024,)\n",
      "(364,)\n",
      "(337,)\n",
      "(611,)\n",
      "validación = 52.73972602739726\n",
      "(1027,)\n",
      "(322,)\n",
      "(327,)\n",
      "(660,)\n",
      "prueba = 55.39383561643836\n",
      "(646,)\n",
      "(579,)\n",
      "(574,)\n",
      "(537,)\n",
      "validación = 81.84931506849315\n",
      "(631,)\n",
      "(540,)\n",
      "(590,)\n",
      "(575,)\n",
      "prueba = 81.20719178082192\n",
      "(613,)\n",
      "(565,)\n",
      "(621,)\n",
      "(537,)\n",
      "validación = 81.76369863013699\n",
      "(604,)\n",
      "(538,)\n",
      "(616,)\n",
      "(578,)\n",
      "prueba = 83.60445205479452\n",
      "(615,)\n",
      "(591,)\n",
      "(605,)\n",
      "(525,)\n",
      "validación = 84.28938356164383\n",
      "(619,)\n",
      "(548,)\n",
      "(585,)\n",
      "(584,)\n",
      "prueba = 86.72945205479452\n"
     ]
    },
    {
     "data": {
      "image/png": "[encoded data removed]",
      "text/plain": [
       "<Figure size 432x288 with 1 Axes>"
      ]
     },
     "metadata": {
      "needs_background": "light"
     },
     "output_type": "display_data"
    }
   ],
   "source": [
    "r = red_neuronal(2, [56,63,56], 0.12, Ex2.shape[1], 4)\n",
    "\n",
    "iteraciones = [100, 500, 1000, 1500, 2000]\n",
    "validaciones = []\n",
    "pruebas = []\n",
    "\n",
    "for i in range(len(iteraciones)):\n",
    "    p1, p2 = r.entrenar(Ex2, y_onehot, Vx2, Vy, Px2, Py, 0.01, iteraciones[i], INIT_EPSILON)\n",
    "    validaciones.append(p1)\n",
    "    pruebas.append(p2)\n",
    "\n",
    "plt.figure()\n",
    "plt.title(\"red: {}, Lambda = {}\".format([56,63,56], 0.01))\n",
    "plt.plot(np.array(iteraciones), np.array(validaciones), label = 'validaciones' , Color = 'red')\n",
    "plt.plot(np.array(iteraciones), np.array(pruebas), label = 'pruebas' , Color = 'blue')\n",
    "plt.show()"
   ]
  },
  {
   "cell_type": "code",
   "execution_count": 3,
   "id": "54917537",
   "metadata": {},
   "outputs": [
    {
     "name": "stdout",
     "output_type": "stream",
     "text": [
      "(825,)\n",
      "(721,)\n",
      "(365,)\n",
      "(425,)\n",
      "validación = 36.986301369863014\n",
      "(818,)\n",
      "(696,)\n",
      "(365,)\n",
      "(457,)\n",
      "prueba = 37.84246575342466\n",
      "(433,)\n",
      "(681,)\n",
      "(669,)\n",
      "(553,)\n",
      "validación = 62.11472602739726\n",
      "(414,)\n",
      "(575,)\n",
      "(721,)\n",
      "(626,)\n",
      "prueba = 62.457191780821915\n",
      "(648,)\n",
      "(555,)\n",
      "(563,)\n",
      "(570,)\n",
      "validación = 83.4332191780822\n",
      "(616,)\n",
      "(548,)\n",
      "(576,)\n",
      "(596,)\n",
      "prueba = 84.54623287671232\n",
      "(605,)\n",
      "(587,)\n",
      "(583,)\n",
      "(561,)\n",
      "validación = 88.61301369863014\n",
      "(577,)\n",
      "(556,)\n",
      "(607,)\n",
      "(596,)\n",
      "prueba = 89.6404109589041\n",
      "(603,)\n",
      "(576,)\n",
      "(598,)\n",
      "(559,)\n",
      "validación = 89.29794520547945\n",
      "(599,)\n",
      "(553,)\n",
      "(595,)\n",
      "(589,)\n",
      "prueba = 91.22431506849315\n",
      "(596,)\n",
      "(596,)\n",
      "(572,)\n",
      "(572,)\n",
      "validación = 87.28595890410958\n",
      "(616,)\n",
      "(540,)\n",
      "(585,)\n",
      "(595,)\n",
      "prueba = 89.85445205479452\n"
     ]
    },
    {
     "data": {
      "image/png": "[encoded data removed]",
      "text/plain": [
       "<Figure size 432x288 with 1 Axes>"
      ]
     },
     "metadata": {
      "needs_background": "light"
     },
     "output_type": "display_data"
    }
   ],
   "source": [
    "r = red_neuronal(2, [100,100], 0.12, Ex2.shape[1], 4)\n",
    "\n",
    "Lambda = [0.01]\n",
    "\n",
    "iteraciones = [100, 300, 500, 1000, 1500, 2000]\n",
    "\n",
    "for L in Lambda:\n",
    "    \n",
    "    validaciones = []\n",
    "    pruebas = []\n",
    "\n",
    "    for i in range(len(iteraciones)):\n",
    "        p1, p2 = r.entrenar(Ex2, y_onehot, Vx2, Vy, Px2, Py, 0.01, iteraciones[i], INIT_EPSILON)\n",
    "        validaciones.append(p1)\n",
    "        pruebas.append(p2)\n",
    "\n",
    "    plt.figure()\n",
    "    plt.title(\"red: {}, Lambda = {}\".format([100,100], L))\n",
    "    plt.plot(np.array(iteraciones), np.array(validaciones), label = 'validaciones' , Color = 'red')\n",
    "    plt.plot(np.array(iteraciones), np.array(pruebas), label = 'pruebas' , Color = 'blue')\n",
    "    plt.show()"
   ]
  },
  {
   "cell_type": "code",
   "execution_count": 4,
   "id": "8d8e6410",
   "metadata": {},
   "outputs": [
    {
     "name": "stdout",
     "output_type": "stream",
     "text": [
      "(588,)\n",
      "(460,)\n",
      "(621,)\n",
      "(667,)\n",
      "validación = 37.71404109589041\n",
      "(593,)\n",
      "(416,)\n",
      "(586,)\n",
      "(741,)\n",
      "prueba = 38.82705479452055\n",
      "(764,)\n",
      "(551,)\n",
      "(451,)\n",
      "(570,)\n",
      "validación = 74.18664383561644\n",
      "(748,)\n",
      "(511,)\n",
      "(484,)\n",
      "(593,)\n",
      "prueba = 76.24143835616438\n"
     ]
    },
    {
     "name": "stderr",
     "output_type": "stream",
     "text": [
      "D:\\UNI\\3ºAño\\Notebook\\Proyecto AA\\fun_basicas.py:4: RuntimeWarning: overflow encountered in exp\n",
      "  sigmoide = 1 / (1 + np.exp(-Z))\n"
     ]
    },
    {
     "name": "stdout",
     "output_type": "stream",
     "text": [
      "(696,)\n",
      "(567,)\n",
      "(496,)\n",
      "(577,)\n",
      "validación = 81.84931506849315\n",
      "(710,)\n",
      "(541,)\n",
      "(480,)\n",
      "(605,)\n",
      "prueba = 84.20376712328768\n",
      "(601,)\n",
      "(584,)\n",
      "(591,)\n",
      "(560,)\n",
      "validación = 88.35616438356165\n",
      "(593,)\n",
      "(571,)\n",
      "(582,)\n",
      "(590,)\n",
      "prueba = 89.8972602739726\n",
      "(602,)\n",
      "(583,)\n",
      "(589,)\n",
      "(562,)\n",
      "validación = 90.41095890410958\n",
      "(597,)\n",
      "(550,)\n",
      "(593,)\n",
      "(596,)\n",
      "prueba = 91.48116438356165\n"
     ]
    },
    {
     "data": {
      "image/png": "[encoded data removed]",
      "text/plain": [
       "<Figure size 432x288 with 1 Axes>"
      ]
     },
     "metadata": {
      "needs_background": "light"
     },
     "output_type": "display_data"
    }
   ],
   "source": [
    "r = red_neuronal(2, [150,150], 0.12, Ex2.shape[1], 4)\n",
    "\n",
    "Lambda = [0.01]\n",
    "\n",
    "iteraciones = [100, 300, 500, 1000, 1500]\n",
    "\n",
    "for L in Lambda:\n",
    "    \n",
    "    validaciones = []\n",
    "    pruebas = []\n",
    "\n",
    "    for i in range(len(iteraciones)):\n",
    "        p1, p2 = r.entrenar(Ex2, y_onehot, Vx2, Vy, Px2, Py, 0.01, iteraciones[i], INIT_EPSILON)\n",
    "        validaciones.append(p1)\n",
    "        pruebas.append(p2)\n",
    "\n",
    "    plt.figure()\n",
    "    plt.title(\"red: {}, Lambda = {}\".format([150,150], L))\n",
    "    plt.plot(np.array(iteraciones), np.array(validaciones), label = 'validaciones' , Color = 'red')\n",
    "    plt.plot(np.array(iteraciones), np.array(pruebas), label = 'pruebas' , Color = 'blue')\n",
    "    plt.show()"
   ]
  },
  {
   "cell_type": "code",
   "execution_count": 5,
   "id": "7673cf1c",
   "metadata": {},
   "outputs": [
    {
     "name": "stdout",
     "output_type": "stream",
     "text": [
      "(748,)\n",
      "(691,)\n",
      "(264,)\n",
      "(633,)\n",
      "validación = 36.64383561643836\n",
      "(760,)\n",
      "(676,)\n",
      "(272,)\n",
      "(628,)\n",
      "prueba = 36.68664383561644\n",
      "(793,)\n",
      "(587,)\n",
      "(397,)\n",
      "(559,)\n",
      "validación = 73.5445205479452\n",
      "(782,)\n",
      "(551,)\n",
      "(414,)\n",
      "(589,)\n",
      "prueba = 75.4708904109589\n",
      "(629,)\n",
      "(564,)\n",
      "(580,)\n",
      "(563,)\n",
      "validación = 85.78767123287672\n",
      "(604,)\n",
      "(563,)\n",
      "(572,)\n",
      "(597,)\n",
      "prueba = 86.5582191780822\n",
      "(597,)\n",
      "(608,)\n",
      "(570,)\n",
      "(561,)\n",
      "validación = 89.04109589041096\n",
      "(602,)\n",
      "(577,)\n",
      "(571,)\n",
      "(586,)\n",
      "prueba = 90.79623287671232\n",
      "(588,)\n",
      "(595,)\n",
      "(580,)\n",
      "(573,)\n",
      "validación = 89.38356164383562\n",
      "(578,)\n",
      "(548,)\n",
      "(608,)\n",
      "(602,)\n",
      "prueba = 90.71061643835617\n"
     ]
    },
    {
     "data": {
      "image/png": "[encoded data removed]",
      "text/plain": [
       "<Figure size 432x288 with 1 Axes>"
      ]
     },
     "metadata": {
      "needs_background": "light"
     },
     "output_type": "display_data"
    }
   ],
   "source": [
    "r = red_neuronal(2, [200,200], 0.12, Ex2.shape[1], 4)\n",
    "\n",
    "Lambda = [0.01]\n",
    "\n",
    "iteraciones = [100, 300, 500, 1000, 1500]\n",
    "\n",
    "for L in Lambda:\n",
    "    \n",
    "    validaciones = []\n",
    "    pruebas = []\n",
    "\n",
    "    for i in range(len(iteraciones)):\n",
    "        p1, p2 = r.entrenar(Ex2, y_onehot, Vx2, Vy, Px2, Py, 0.01, iteraciones[i], INIT_EPSILON)\n",
    "        validaciones.append(p1)\n",
    "        pruebas.append(p2)\n",
    "\n",
    "    plt.figure()\n",
    "    plt.title(\"red: {}, Lambda = {}\".format([200,200], L))\n",
    "    plt.plot(np.array(iteraciones), np.array(validaciones), label = 'validaciones' , Color = 'red')\n",
    "    plt.plot(np.array(iteraciones), np.array(pruebas), label = 'pruebas' , Color = 'blue')\n",
    "    plt.show()"
   ]
  }
 ],
 "metadata": {
  "kernelspec": {
   "display_name": "Python 3",
   "language": "python",
   "name": "python3"
  },
  "language_info": {
   "codemirror_mode": {
    "name": "ipython",
    "version": 3
   },
   "file_extension": ".py",
   "mimetype": "text/x-python",
   "name": "python",
   "nbconvert_exporter": "python",
   "pygments_lexer": "ipython3",
   "version": "3.8.3"
  }
 },
 "nbformat": 4,
 "nbformat_minor": 5
}
