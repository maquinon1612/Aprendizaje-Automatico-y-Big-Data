{
 "cells": [
  {
   "cell_type": "markdown",
   "metadata": {},
   "source": [
    "# Práctica 2 : Regresión Logística"
   ]
  },
  {
   "cell_type": "markdown",
   "metadata": {},
   "source": [
    "Guillermo García Patiño Lenza y Mario Quiñones Pérez"
   ]
  },
  {
   "cell_type": "code",
   "execution_count": 1,
   "metadata": {},
   "outputs": [],
   "source": [
    "import numpy as np\n",
    "from pandas.io.parsers import read_csv\n",
    "import matplotlib.pyplot as plt\n",
    "from matplotlib import cm\n",
    "from matplotlib.ticker import LinearLocator, FormatStrFormatter\n",
    "from mpl_toolkits.mplot3d import Axes3D\n",
    "import scipy.optimize as opt"
   ]
  },
  {
   "cell_type": "markdown",
   "metadata": {},
   "source": [
    "## Parte 1:"
   ]
  },
  {
   "cell_type": "markdown",
   "metadata": {},
   "source": [
    "### Carga y visualización de los datos"
   ]
  },
  {
   "cell_type": "code",
   "execution_count": 2,
   "metadata": {},
   "outputs": [],
   "source": [
    "def cargaDatos(fichero):\n",
    "    datos = read_csv(fichero, header = None).to_numpy()\n",
    "    return datos.astype(float)"
   ]
  },
  {
   "cell_type": "code",
   "execution_count": 3,
   "metadata": {},
   "outputs": [],
   "source": [
    "def crearGrafica(datos, labels = ['y = 1', 'y = 0']):\n",
    "    X = datos[:,:-1]\n",
    "    Y = datos[:,-1]\n",
    "    \n",
    "    c1 = np.where(Y == 1)\n",
    "    c2 = np.where(Y == 0)\n",
    "    \n",
    "    plt.scatter(X[c1,0], X[c1,1] , marker = '+', c = 'k', label = labels[0])\n",
    "    plt.scatter(X[c2,0], X[c2,1], marker = 'o', c = 'y', label = labels[1])\n",
    "    plt.legend(loc = 'upper right')\n",
    "    plt.show()"
   ]
  },
  {
   "cell_type": "code",
   "execution_count": 8,
   "metadata": {},
   "outputs": [
    {
     "data": {
      "image/png": "[encoded data removed]",
      "text/plain": [
       "<Figure size 432x288 with 1 Axes>"
      ]
     },
     "metadata": {
      "needs_background": "light"
     },
     "output_type": "display_data"
    }
   ],
   "source": [
    "crearGrafica(cargaDatos(\"ex2data1.csv\"), ['Admited', 'Not admited'])"
   ]
  },
  {
   "cell_type": "markdown",
   "metadata": {},
   "source": [
    "### Funcion Sigmoide"
   ]
  },
  {
   "cell_type": "code",
   "execution_count": 4,
   "metadata": {},
   "outputs": [],
   "source": [
    "def sigmoide(Z):\n",
    "    sigmoide = 1 / (1 + np.exp(-Z))\n",
    "    return sigmoide"
   ]
  },
  {
   "cell_type": "markdown",
   "metadata": {},
   "source": [
    "### Cálculo de la función de coste y gradiente"
   ]
  },
  {
   "cell_type": "code",
   "execution_count": 5,
   "metadata": {},
   "outputs": [],
   "source": [
    "def normalizar(X):\n",
    "    mu = np.mean(X, axis=0)\n",
    "    sigma = np.std(X, axis=0)\n",
    "    X_norm = (X-mu)/sigma\n",
    "    return(X_norm, mu, sigma)"
   ]
  },
  {
   "cell_type": "code",
   "execution_count": 6,
   "metadata": {},
   "outputs": [],
   "source": [
    "def coste(Theta, X, Y):\n",
    "    G = sigmoide(np.dot(X, Theta))\n",
    "    sum1 = np.dot(Y, np.log(G))\n",
    "    sum2 = np.dot((1-Y), np.log(1 - G))\n",
    "    return (-1 / X.shape[0]) * (sum1 + sum2)"
   ]
  },
  {
   "cell_type": "code",
   "execution_count": 7,
   "metadata": {},
   "outputs": [],
   "source": [
    "def gradiente(Theta, X, Y):\n",
    "    m = X.shape[0]\n",
    "    G = sigmoide( np.matmul(X,Theta) )\n",
    "    gradiente  = (1 / len(Y)) * np.matmul(X.T, G - Y)\n",
    "    return gradiente"
   ]
  },
  {
   "cell_type": "code",
   "execution_count": 8,
   "metadata": {},
   "outputs": [],
   "source": [
    "def prueba():\n",
    "    datos = cargaDatos(\"ex2data1.csv\")\n",
    "    X = datos[:,:-1]\n",
    "    Y = datos[:,-1]\n",
    "    n = len(Y)\n",
    "    \n",
    "    X2,mu,sigma = normalizar(X)\n",
    "    X2 = np.hstack([np.ones([n,1]), X2])\n",
    "    \n",
    "    c = coste(np.zeros(X2.shape[1]), X2, Y)\n",
    "    gr = gradiente(np.zeros(X2.shape[1]),X2,Y)\n",
    "    print(gr)\n",
    "    print(c)"
   ]
  },
  {
   "cell_type": "code",
   "execution_count": 31,
   "metadata": {},
   "outputs": [
    {
     "name": "stdout",
     "output_type": "stream",
     "text": [
      "[-0.1        -0.28122914 -0.25098615]\n",
      "0.6931471805599452\n"
     ]
    }
   ],
   "source": [
    "prueba()"
   ]
  },
  {
   "cell_type": "markdown",
   "metadata": {},
   "source": [
    "### Cálculo del valor óptimo de los parámetros"
   ]
  },
  {
   "cell_type": "code",
   "execution_count": 9,
   "metadata": {},
   "outputs": [],
   "source": [
    "def optimiza(datos = cargaDatos(\"ex2data1.csv\")):\n",
    "    X = datos[:,:-1]\n",
    "    Y = datos[:,-1]\n",
    "    m = X.shape[0]\n",
    "    n = len(Y)\n",
    "    \n",
    "    X_n, mu, sigma = normalizar(X)\n",
    "    \n",
    "    X_n = np.hstack([np.ones([n,1]), X_n])\n",
    "    T = np.zeros(X.shape[1]+1)\n",
    "\n",
    "    result = opt.fmin_tnc(func = coste, x0 = T, fprime = gradiente, args = (X_n, Y))\n",
    "    c_f = coste(result[0], X_n, Y )\n",
    "    print(c_f)\n",
    "    print(result[0])\n",
    "    return result[0]"
   ]
  },
  {
   "cell_type": "code",
   "execution_count": 66,
   "metadata": {},
   "outputs": [
    {
     "name": "stdout",
     "output_type": "stream",
     "text": [
      "0.20349771564637412\n",
      "[1.71787865 3.99150585 3.72363973]\n"
     ]
    },
    {
     "data": {
      "text/plain": [
       "array([1.71787865, 3.99150585, 3.72363973])"
      ]
     },
     "execution_count": 66,
     "metadata": {},
     "output_type": "execute_result"
    }
   ],
   "source": [
    "optimiza()\n"
   ]
  },
  {
   "cell_type": "code",
   "execution_count": 10,
   "metadata": {},
   "outputs": [],
   "source": [
    "def crearGraficaConFrontera(datos, Theta, labels = ['y = 1', 'y = 0']):\n",
    "    X = datos[:,:-1]\n",
    "    Y = datos[:,-1]\n",
    "    \n",
    "    c1 = np.where(Y == 1)\n",
    "    c2 = np.where(Y == 0)\n",
    "    \n",
    "    plt.scatter(X[c1,0], X[c1,1] , marker = '+', c = 'k', label = labels[0])\n",
    "    plt.scatter(X[c2,0], X[c2,1], marker = 'o', c = 'y', label = labels[1])\n",
    "    plt.legend(loc = 'upper right')\n",
    "    \n",
    "    \n",
    "    "
   ]
  },
  {
   "cell_type": "code",
   "execution_count": 64,
   "metadata": {},
   "outputs": [
    {
     "name": "stdout",
     "output_type": "stream",
     "text": [
      "0.20349771564637412\n",
      "[1.71787865 3.99150585 3.72363973]\n"
     ]
    },
    {
     "data": {
      "image/png": "[encoded data removed]",
      "text/plain": [
       "<Figure size 432x288 with 1 Axes>"
      ]
     },
     "metadata": {
      "needs_background": "light"
     },
     "output_type": "display_data"
    }
   ],
   "source": [
    "crearGraficaConFrontera(cargaDatos(\"ex2data1.csv\"),optimiza(),['Admited', 'Not admited'])"
   ]
  },
  {
   "cell_type": "code",
   "execution_count": 11,
   "metadata": {},
   "outputs": [],
   "source": [
    "\n",
    "# no entiendo por qué esto no va XDDDDDDDD\n",
    "\n",
    "def pinta_frontera_recta(datos, theta):    \n",
    "    \n",
    "    X = datos[:,:-1]\n",
    "    Y = datos[:,-1]\n",
    "    \n",
    "    plt.figure() \n",
    "    x1_min, x1_max = X[:, 0].min(), X[:, 0].max()\n",
    "    x2_min, x2_max = X[:, 1].min(), X[:, 1].max()    \n",
    "    xx1, xx2 = np.meshgrid(np.linspace(x1_min, x1_max), np.linspace(x2_min, x2_max))   \n",
    "    h = sigmoide(np.c_[np.ones((xx1.ravel().shape[0], 1)), xx1.ravel(), xx2.ravel()].dot(theta))   \n",
    "    h = h.reshape(xx1.shape)    \n",
    "    # el cuarto parámetro es el valor de z cuya frontera se    \n",
    "    # quiere pintar    \n",
    "    plt.contour(xx1, xx2, h, [0.5], linewidths=1, colors='b')    \n",
    "    plt.savefig(\"frontera.pdf\")    \n",
    "    plt.close()"
   ]
  },
  {
   "cell_type": "code",
   "execution_count": 63,
   "metadata": {},
   "outputs": [
    {
     "name": "stdout",
     "output_type": "stream",
     "text": [
      "0.20349771564637412\n",
      "[1.71787865 3.99150585 3.72363973]\n"
     ]
    },
    {
     "name": "stderr",
     "output_type": "stream",
     "text": [
      "<ipython-input-62-2b9b0964198e>:14: UserWarning: No contour levels were found within the data range.\n",
      "  plt.contour(xx1, xx2, h, [0.5], linewidths=1, colors='b')\n"
     ]
    }
   ],
   "source": [
    "pinta_frontera_recta(cargaDatos(\"ex2data1.csv\"),optimiza())"
   ]
  },
  {
   "cell_type": "markdown",
   "metadata": {},
   "source": [
    "### Evaluación de la regresión"
   ]
  },
  {
   "cell_type": "code",
   "execution_count": 12,
   "metadata": {},
   "outputs": [],
   "source": [
    "def evalua(datos, parte_entrenamiento):\n",
    "    f = round(len(datos) * parte_entrenamiento / 100)\n",
    "    datos_ent = datos[:f]\n",
    "    datos_eva = datos[f:]\n",
    "    \n",
    "    theta = optimiza(datos_ent)\n",
    "    \n",
    "    dat_ev_x = datos_eva[:,:-1]\n",
    "    dat_ev_y = datos_eva[:,-1]\n",
    "    \n",
    "    dat_ev_x_n, mu, sigma = normalizar(dat_ev_x)\n",
    "    dat_ev_x_n = np.hstack([np.ones([len(datos_eva),1]), dat_ev_x_n])\n",
    "    \n",
    "    res_eva = np.dot(dat_ev_x_n, theta)\n",
    "    res_eva_m = [] \n",
    "    for e in map(lambda x : 1 if x >= 0.5 else 0, res_eva):\n",
    "        res_eva_m.append(e)\n",
    "        \n",
    "    iguales = filter(lambda x : dat_ev_y[res_eva_m.index(x)] == x , res_eva_m)\n",
    "    \n",
    "    i = 0;\n",
    "    for e in iguales:\n",
    "        i = i+1\n",
    "    \n",
    "    print(\"Se ha predicho correctamente el resultado un {}% de las veces\".format(i/len(datos_eva) * 100))\n",
    "    \n",
    "    return (i/len(datos_eva)*100)"
   ]
  },
  {
   "cell_type": "code",
   "execution_count": 121,
   "metadata": {},
   "outputs": [
    {
     "name": "stdout",
     "output_type": "stream",
     "text": [
      "0.19456570964463282\n",
      "[0.63167769 4.1627765  3.60606696]\n",
      "Se ha predicho correctamente el resultado un 48.0% de las veces\n"
     ]
    },
    {
     "data": {
      "text/plain": [
       "48.0"
      ]
     },
     "execution_count": 121,
     "metadata": {},
     "output_type": "execute_result"
    }
   ],
   "source": [
    "evalua(cargaDatos(\"ex2data1.csv\"), 75)"
   ]
  },
  {
   "cell_type": "markdown",
   "metadata": {},
   "source": [
    "## Parte 2:\n",
    "\n",
    "### Carga y visualización de datos:"
   ]
  },
  {
   "cell_type": "code",
   "execution_count": 16,
   "metadata": {},
   "outputs": [
    {
     "data": {
      "image/png": "[encoded data removed]",
      "text/plain": [
       "<Figure size 432x288 with 1 Axes>"
      ]
     },
     "metadata": {
      "needs_background": "light"
     },
     "output_type": "display_data"
    }
   ],
   "source": [
    "crearGrafica(cargaDatos(\"ex2data2.csv\"), ['Y = 1', 'Y = 0'])"
   ]
  },
  {
   "cell_type": "markdown",
   "metadata": {},
   "source": [
    "### Mapeo de los atributos:"
   ]
  },
  {
   "cell_type": "code",
   "execution_count": 22,
   "metadata": {},
   "outputs": [],
   "source": [
    "from sklearn.preprocessing import PolynomialFeatures\n",
    "\n",
    "def prepara_datos(datos, add):\n",
    "    X = datos[:,:-1]\n",
    "    Y = datos[:,-1]\n",
    "    \n",
    "    X_n, mu, sigma = normalizar(X)\n",
    "    \n",
    "    p = PolynomialFeatures(add)\n",
    "    X2 = p.fit_transform(X_n)\n",
    "    \n",
    "    return (X2,Y,mu,sigma)"
   ]
  },
  {
   "cell_type": "markdown",
   "metadata": {},
   "source": [
    "### Cálculo del coste y el gradiente regularizados"
   ]
  },
  {
   "cell_type": "code",
   "execution_count": 21,
   "metadata": {},
   "outputs": [],
   "source": [
    "def coste_reg(Theta,X,Y, Lambda):\n",
    "    c = coste(Theta,X,Y)\n",
    "    m = X.shape[0]\n",
    "    e = 0\n",
    "    for t in range(1,len(Theta)):\n",
    "        e += Theta[t]**2\n",
    "    return c + (Lambda/(2*m))*e"
   ]
  },
  {
   "cell_type": "code",
   "execution_count": 30,
   "metadata": {},
   "outputs": [],
   "source": [
    "def gradiente_reg(Theta,X,Y,Lambda):\n",
    "    m = X.shape[0]\n",
    "    gr = gradiente(Theta,X,Y)\n",
    "    theta2 = (Lambda/m)*Theta\n",
    "    return (gr + theta2)"
   ]
  },
  {
   "cell_type": "code",
   "execution_count": 31,
   "metadata": {},
   "outputs": [],
   "source": [
    "def prueba2():\n",
    "    X, Y, mu, sigma = prepara_datos(cargaDatos(\"ex2data2.csv\"),6)\n",
    "   \n",
    "    Theta = np.zeros(X.shape[1])\n",
    "    \n",
    "    c = coste_reg(Theta,X,Y,1)\n",
    "    gr = gradiente_reg(Theta,X,Y,1)\n",
    "   \n",
    "    print(gr)\n",
    "    print(c)"
   ]
  },
  {
   "cell_type": "code",
   "execution_count": 32,
   "metadata": {},
   "outputs": [
    {
     "name": "stdout",
     "output_type": "stream",
     "text": [
      "[ 0.00847458  0.03705198 -0.00284799  0.19753354  0.03181133  0.14157707\n",
      "  0.08474569 -0.02197759  0.01912472  0.01978675  0.60552761 -0.01178425\n",
      "  0.17516318 -0.00748334  0.41389202  0.32662613 -0.08620202  0.03911234\n",
      " -0.02213139  0.05549666  0.01571     1.78985126 -0.11770386  0.34722535\n",
      " -0.07226827  0.2933989  -0.11751531  1.15773589]\n",
      "0.6931471805599453\n"
     ]
    }
   ],
   "source": [
    "prueba2()"
   ]
  },
  {
   "cell_type": "markdown",
   "metadata": {},
   "source": [
    "### Cálculo de los valores óptimos:"
   ]
  },
  {
   "cell_type": "code",
   "execution_count": 46,
   "metadata": {},
   "outputs": [],
   "source": [
    "def preparaFunciones(Lambda):\n",
    "    c = lambda Theta,X,Y : coste_reg(Theta,X,Y,Lambda)\n",
    "    gr = lambda Theta,X,Y : gradiente_reg(Theta,X,Y,Lambda)\n",
    "    \n",
    "    return (c,gr)"
   ]
  },
  {
   "cell_type": "code",
   "execution_count": 54,
   "metadata": {},
   "outputs": [],
   "source": [
    "def optimiza_reg(datos,Lambda):\n",
    "    X, Y, mu, sigma = prepara_datos(datos,6)\n",
    "    c, gr = preparaFunciones(Lambda)\n",
    "    \n",
    "    T = np.zeros(X.shape[1])\n",
    "\n",
    "    result = opt.fmin_tnc(func = c, x0 = T, fprime = gr, args = (X, Y))\n",
    "    c_f = coste(result[0], X, Y )\n",
    "    print(c_f)\n",
    "    print(result[0])\n",
    "    return result[0]"
   ]
  },
  {
   "cell_type": "code",
   "execution_count": 55,
   "metadata": {},
   "outputs": [
    {
     "name": "stdout",
     "output_type": "stream",
     "text": [
      "0.3106301477647328\n",
      "[ 1.78921858 -0.20464471  0.35721077  0.34155471 -0.36116351  0.2065437\n",
      "  0.16059744  0.27913263  0.07042481 -0.30537586  0.31014869 -0.00627669\n",
      " -0.57550342 -0.51384431 -0.1917534  -0.05813961 -0.07166102  0.8255806\n",
      " -0.34799086 -0.44074034 -0.05058002 -0.4452219  -0.19915387 -0.46849091\n",
      "  0.00975281 -0.87865853 -0.69286458 -0.33404499]\n"
     ]
    },
    {
     "data": {
      "text/plain": [
       "array([ 1.78921858, -0.20464471,  0.35721077,  0.34155471, -0.36116351,\n",
       "        0.2065437 ,  0.16059744,  0.27913263,  0.07042481, -0.30537586,\n",
       "        0.31014869, -0.00627669, -0.57550342, -0.51384431, -0.1917534 ,\n",
       "       -0.05813961, -0.07166102,  0.8255806 , -0.34799086, -0.44074034,\n",
       "       -0.05058002, -0.4452219 , -0.19915387, -0.46849091,  0.00975281,\n",
       "       -0.87865853, -0.69286458, -0.33404499])"
      ]
     },
     "execution_count": 55,
     "metadata": {},
     "output_type": "execute_result"
    }
   ],
   "source": [
    "optimiza_reg(cargaDatos(\"ex2data2.csv\"),1)"
   ]
  },
  {
   "cell_type": "markdown",
   "metadata": {},
   "source": [
    "### Efectos de la regularizacion:"
   ]
  },
  {
   "cell_type": "code",
   "execution_count": 56,
   "metadata": {},
   "outputs": [],
   "source": [
    "def evalua_reg(datos, parte_entrenamiento, Lambda):\n",
    "    f = round(len(datos) * parte_entrenamiento / 100)\n",
    "    datos_ent = datos[:f]\n",
    "    datos_eva = datos[f:]\n",
    "    \n",
    "    theta = optimiza_reg(datos_ent,Lambda)\n",
    "    \n",
    "    dat_ev_x_n , dat_ev_y, mu, sigma = prepara_datos(datos_eva,6)\n",
    "    \n",
    "    res_eva = np.dot(dat_ev_x_n, theta)\n",
    "    res_eva_m = [] \n",
    "    for e in map(lambda x : 1 if x >= 0.5 else 0, res_eva):\n",
    "        res_eva_m.append(e)\n",
    "        \n",
    "    iguales = filter(lambda x : dat_ev_y[res_eva_m.index(x)] == x , res_eva_m)\n",
    "    \n",
    "    i = 0;\n",
    "    for e in iguales:\n",
    "        i = i+1\n",
    "    \n",
    "    return (i/len(datos_eva)*100)"
   ]
  },
  {
   "cell_type": "code",
   "execution_count": 61,
   "metadata": {},
   "outputs": [],
   "source": [
    "def grafica_ev():\n",
    "    datos = cargaDatos(\"ex2data2.csv\")\n",
    "    X = []\n",
    "    Y = []\n",
    "    for i in range(1,100):\n",
    "        X.append(i)\n",
    "        Y.append(evalua_reg(datos,75,i))\n",
    "    \n",
    "    plt.figure()\n",
    "    plt.plot(X,Y)\n",
    "    plt.show()"
   ]
  },
  {
   "cell_type": "code",
   "execution_count": 62,
   "metadata": {},
   "outputs": [
    {
     "name": "stdout",
     "output_type": "stream",
     "text": [
      "0.21960978182119342\n",
      "[ 1.87874922 -0.15181875  0.1521222   0.94376843 -0.33020003  0.36245368\n",
      " -0.05447417  0.36221532 -0.11341318  0.11931271  0.69575438 -0.43885247\n",
      " -0.21249017 -0.40201139  0.04293085 -0.22241288 -0.09139792  0.46251552\n",
      "  0.28854817 -0.39436122 -0.02531053 -0.60764891 -0.04282418 -0.48979541\n",
      " -0.27384176 -0.58890581 -0.47919412 -0.33260713]\n",
      "0.242217815884977\n",
      "[ 1.52908893 -0.12573512  0.09293406  0.74198707 -0.29716635  0.3818987\n",
      " -0.12128762  0.23577455 -0.0683789   0.09226047  0.46723687 -0.34608187\n",
      " -0.12162408 -0.33494841  0.10746412 -0.15283813 -0.02757504  0.32528888\n",
      "  0.19657053 -0.31468654  0.00501762 -0.45892415 -0.01912767 -0.42788129\n",
      " -0.16885194 -0.41793788 -0.40017836 -0.32851593]\n",
      "0.2588224677713932\n",
      "[ 1.33129952 -0.11305837  0.0629785   0.65083014 -0.26961336  0.36786636\n",
      " -0.12960518  0.17456412 -0.06819386  0.08341506  0.37664869 -0.29517474\n",
      " -0.08877164 -0.30109671  0.12679515 -0.12367113 -0.00927702  0.24305683\n",
      "  0.1553585  -0.27789146  0.02391092 -0.39062942 -0.01079061 -0.38976792\n",
      " -0.12844816 -0.34624561 -0.36435593 -0.30629203]\n",
      "0.2726553272236261\n",
      "[ 1.18861669e+00 -1.03950772e-01  5.42757196e-02  5.94095685e-01\n",
      " -2.51209132e-01  3.50504706e-01 -1.19351267e-01  1.39802466e-01\n",
      " -6.70467634e-02  7.62145461e-02  3.39124539e-01 -2.58630114e-01\n",
      " -6.77094799e-02 -2.76562513e-01  1.24310444e-01 -1.14035623e-01\n",
      " -4.35351116e-04  1.91495919e-01  1.26792829e-01 -2.47586019e-01\n",
      "  3.19074224e-02 -3.57238134e-01 -5.12105187e-03 -3.53789923e-01\n",
      " -1.03616374e-01 -3.04524145e-01 -3.35488162e-01 -2.80056955e-01]\n",
      "0.2844963339742494\n",
      "[ 1.08959535e+00 -9.15988493e-02  4.62358032e-02  5.54263216e-01\n",
      " -2.39972734e-01  3.30237440e-01 -1.14478027e-01  1.14547526e-01\n",
      " -6.63757888e-02  7.18656822e-02  2.98111036e-01 -2.38353375e-01\n",
      " -5.39371874e-02 -2.60463099e-01  1.25148021e-01 -1.01458896e-01\n",
      "  4.94091337e-04  1.63022858e-01  1.08058299e-01 -2.33093477e-01\n",
      "  3.64220512e-02 -3.26613847e-01 -1.05315997e-03 -3.27643119e-01\n",
      " -8.80711802e-02 -2.71284841e-01 -3.11232304e-01 -2.61196292e-01]\n",
      "0.29213232899618236\n",
      "[ 1.01110154 -0.18936137  0.11749521  0.48310024 -0.30731952  0.39343087\n",
      " -0.18405606  0.08619678 -0.08725993  0.09578944  0.28694456 -0.2531673\n",
      " -0.01478753 -0.28920375  0.18136497 -0.02232949  0.00983661  0.03884457\n",
      "  0.06601004 -0.22904327  0.00565677 -0.28908738  0.03841823 -0.34664464\n",
      " -0.05564085 -0.22814499 -0.30414574 -0.28871219]\n",
      "0.3044947927851668\n",
      "[ 9.27083858e-01 -1.09793939e-01  6.50258582e-02  4.78137605e-01\n",
      " -2.29021172e-01  3.16819247e-01 -6.78335224e-02  9.15272247e-02\n",
      " -6.56844588e-02  4.85908874e-02  2.93135059e-01 -1.92533430e-01\n",
      " -3.65613408e-02 -2.36058492e-01  1.00057062e-01 -1.13528349e-01\n",
      "  2.54188273e-04  1.06907756e-01  7.68397048e-02 -1.94464639e-01\n",
      "  4.19477700e-02 -3.07598602e-01  4.66998638e-03 -2.79321792e-01\n",
      " -6.33401592e-02 -2.36110900e-01 -2.76161159e-01 -2.21957747e-01]\n",
      "0.3121092511942379\n",
      "[ 0.87435622 -0.12438656  0.07227401  0.44103418 -0.23496527  0.31898413\n",
      " -0.11159861  0.0772429  -0.06531417  0.06704123  0.27111243 -0.19855717\n",
      " -0.02134199 -0.23375405  0.12338878 -0.08016727  0.00713155  0.07168544\n",
      "  0.06583986 -0.18467153  0.03262365 -0.28558908  0.01406488 -0.27914856\n",
      " -0.05267359 -0.20835022 -0.2586302  -0.22772827]\n",
      "0.3204173989539693\n",
      "[ 0.82587154 -0.11737056  0.06693423  0.41857039 -0.22299653  0.30492528\n",
      " -0.10641228  0.07082622 -0.06290783  0.06148296  0.25561228 -0.18513763\n",
      " -0.01723013 -0.22282411  0.11885412 -0.08029155  0.00627231  0.06510079\n",
      "  0.06058552 -0.17677697  0.03426312 -0.27386672  0.01453261 -0.26165558\n",
      " -0.04878124 -0.19381393 -0.24843535 -0.21590828]\n",
      "0.3287045545939954\n",
      "[ 0.77817429 -0.09885263  0.05465686  0.41057392 -0.19863077  0.28617273\n",
      " -0.08147611  0.0679427  -0.05952022  0.05064979  0.25390324 -0.16333005\n",
      " -0.01579698 -0.20423938  0.10342903 -0.09920091  0.00165027  0.07209375\n",
      "  0.05905346 -0.16768132  0.0414673  -0.2738648   0.00859447 -0.23726543\n",
      " -0.04568753 -0.18757753 -0.24095232 -0.19964332]\n",
      "0.33580941806892867\n",
      "[ 0.74065592 -0.09758168  0.05248046  0.39171727 -0.19156696  0.27732655\n",
      " -0.08054842  0.06309571 -0.0591787   0.04792478  0.24149902 -0.15481298\n",
      " -0.01230651 -0.19662011  0.10270953 -0.09597882  0.00186687  0.0634118\n",
      "  0.05522877 -0.16294993  0.04143399 -0.26373252  0.00991394 -0.2259431\n",
      " -0.04180725 -0.1760528  -0.23176042 -0.1926774 ]\n",
      "0.3427493602523549\n",
      "[ 0.70747447 -0.09605043  0.04805361  0.37088742 -0.186301    0.26671448\n",
      " -0.07717536  0.06005016 -0.06144082  0.0409821   0.23149777 -0.14708212\n",
      " -0.01190426 -0.19330694  0.09980973 -0.09328772  0.00289356  0.05468238\n",
      "  0.05233336 -0.16061656  0.04287957 -0.25362284  0.01306154 -0.21494753\n",
      " -0.03831709 -0.16528349 -0.22202947 -0.18475726]\n",
      "0.34895240157669766\n",
      "[ 0.67737419 -0.09532996  0.04718695  0.35629463 -0.18011466  0.25883169\n",
      " -0.07676797  0.05604822 -0.06031557  0.03971186  0.2218194  -0.14051514\n",
      " -0.00918345 -0.18668662  0.09856897 -0.09095902  0.00262977  0.04891205\n",
      "  0.04926354 -0.15659557  0.0424954  -0.24572552  0.01388716 -0.2058356\n",
      " -0.03563916 -0.15626717 -0.21518705 -0.17915237]\n",
      "0.3548329390166539\n",
      "[ 0.65022303 -0.09429305  0.045907    0.34273302 -0.17438166  0.2515453\n",
      " -0.07668665  0.05268581 -0.05929233  0.03866426  0.21280783 -0.13466808\n",
      " -0.00676922 -0.18058466  0.0975137  -0.08870487  0.00255957  0.04381694\n",
      "  0.04659402 -0.15264304  0.0422345  -0.23850877  0.01461476 -0.1976024\n",
      " -0.03330795 -0.1479353  -0.2086817  -0.1740043 ]\n",
      "0.36131244922681865\n",
      "[ 0.62533481 -0.09525463  0.04822434  0.32468947 -0.16975438  0.2473902\n",
      " -0.08845672  0.04690103 -0.0505339   0.04707092  0.19933319 -0.1334574\n",
      "  0.00098085 -0.17109576  0.10168524 -0.08081366  0.00205754  0.03849344\n",
      "  0.04125258 -0.1418496   0.0440328  -0.22855079  0.01709538 -0.19083446\n",
      " -0.03167042 -0.13334403 -0.19703428 -0.17106679]\n",
      "0.3664769281862973\n",
      "[ 0.60317128 -0.09356986  0.04610746  0.31405488 -0.16421243  0.24053136\n",
      " -0.08689255  0.04470555 -0.05065782  0.04512965  0.19232156 -0.12797261\n",
      "  0.00226464 -0.16611445  0.09971412 -0.07989209  0.00208459  0.03487225\n",
      "  0.03963888 -0.13945729  0.04388331 -0.22308245  0.01719291 -0.18361258\n",
      " -0.03006867 -0.12722912 -0.19210531 -0.16629227]\n",
      "0.3713940360859437\n",
      "[ 0.58270482 -0.0919576   0.04419428  0.30421338 -0.15908456  0.23409996\n",
      " -0.08536702  0.04275449 -0.05073071  0.0433541   0.18585241 -0.12293437\n",
      "  0.00338393 -0.16148896  0.09780967 -0.07902472  0.00215461  0.03163993\n",
      "  0.03820808 -0.13720766  0.04371803 -0.21800835  0.01723215 -0.17697341\n",
      " -0.0286146  -0.12164109 -0.1875037  -0.16184995]\n",
      "0.3760936148294497\n",
      "[ 0.56371069 -0.09040249  0.04244805  0.29504943 -0.1543183   0.22803531\n",
      " -0.08388602  0.04100026 -0.05074104  0.04171631  0.17983903 -0.11829911\n",
      "  0.00436522 -0.15716774  0.09595748 -0.0781944   0.00224945  0.02874856\n",
      "  0.03692093 -0.13505608  0.04352128 -0.21327044  0.01719934 -0.17082992\n",
      " -0.0272968  -0.11650634 -0.18316342 -0.15771091]\n",
      "0.3793495305292742\n",
      "[ 0.55113705 -0.09354078  0.04374216  0.28585036 -0.15360875  0.22637732\n",
      " -0.09576822  0.04134023 -0.05331279  0.04319118  0.15913787 -0.11673049\n",
      "  0.00367752 -0.15802581  0.10423102 -0.06262055  0.00543413  0.02287097\n",
      "  0.0370773  -0.13486472  0.03700894 -0.19896711  0.01909775 -0.17408727\n",
      " -0.02857745 -0.1126668  -0.18734426 -0.15971898]\n",
      "0.38395687121181954\n",
      "[ 0.53427842 -0.09125787  0.04184951  0.27816427 -0.14813073  0.22011332\n",
      " -0.09294516  0.03977976 -0.05207715  0.04130607  0.15532684 -0.11201187\n",
      "  0.00485918 -0.15288521  0.10116109 -0.0639301   0.00548397  0.02152141\n",
      "  0.03575979 -0.13149207  0.03760609 -0.19515783  0.01827047 -0.16708824\n",
      " -0.02709442 -0.10791144 -0.18222489 -0.15526869]\n",
      "0.38804275367647684\n",
      "[ 0.51474646 -0.08597543  0.03769711  0.27395209 -0.14290772  0.21136351\n",
      " -0.07482578  0.03805066 -0.05428424  0.03478094  0.16760044 -0.10532027\n",
      "  0.00428406 -0.1478507   0.08866256 -0.0776011   0.00331529  0.02095863\n",
      "  0.0351094  -0.13353071  0.03969922 -0.20205658  0.01645199 -0.15725918\n",
      " -0.02310084 -0.107949   -0.1759091  -0.14624152]\n",
      "0.39192951246071267\n",
      "[ 0.50020001 -0.08521451  0.03629484  0.26664279 -0.13977435  0.20608149\n",
      " -0.07602066  0.03579556 -0.05404395  0.03486991  0.1614218  -0.10268485\n",
      "  0.00516764 -0.14520156  0.08746862 -0.075611    0.00161755  0.01917063\n",
      "  0.03332601 -0.1322244   0.04162655 -0.19756391  0.01651475 -0.15317241\n",
      " -0.02307594 -0.10330319 -0.17384357 -0.14342239]\n",
      "0.39630207921674343\n",
      "[ 0.48598199 -0.08419979  0.03595567  0.25851888 -0.13556033  0.20224493\n",
      " -0.07535674  0.03495929 -0.05217026  0.0337451   0.15577803 -0.0995088\n",
      "  0.00678558 -0.14050521  0.0872335  -0.07572773  0.00302666  0.0176902\n",
      "  0.03220673 -0.12676203  0.03999375 -0.19473805  0.01554398 -0.14687889\n",
      " -0.02232479 -0.09746015 -0.16760734 -0.1406211 ]\n",
      "0.3999258289474813\n",
      "[ 0.47600026 -0.08864841  0.03859653  0.24491971 -0.13401791  0.20093137\n",
      " -0.09126462  0.03428805 -0.04938593  0.04022554  0.13955765 -0.10020962\n",
      "  0.00718462 -0.13884043  0.09279821 -0.06093189  0.00553549  0.01285716\n",
      "  0.03124169 -0.12292546  0.03747921 -0.18331024  0.0189402  -0.15026706\n",
      " -0.02321366 -0.09216746 -0.16525208 -0.1420442 ]\n",
      "0.4033187134249813\n",
      "[ 0.46416834 -0.08759466  0.03777376  0.23903751 -0.13113514  0.19700457\n",
      " -0.09024204  0.03337178 -0.04907008  0.03946361  0.13590411 -0.09769021\n",
      "  0.00778225 -0.13615627  0.09144731 -0.06059358  0.00576066  0.01144114\n",
      "  0.0305064  -0.12109438  0.03757094 -0.18046515  0.01843402 -0.14632619\n",
      " -0.022742   -0.08887446 -0.1624316  -0.13923871]\n",
      "0.40664005963508426\n",
      "[ 0.45282521 -0.08641796  0.0368589   0.23353914 -0.12823477  0.19310903\n",
      " -0.08910256  0.03249219 -0.04875677  0.03865578  0.13244604 -0.09513942\n",
      "  0.00830187 -0.13347389  0.09002094 -0.06040583  0.00594749  0.01020938\n",
      "  0.02983493 -0.11933473  0.0377097  -0.17778381  0.01795233 -0.14250862\n",
      " -0.02223001 -0.08580834 -0.15967567 -0.13653794]\n",
      "0.4095589593616566\n",
      "[ 0.44331501 -0.08709536  0.03711307  0.22682206 -0.12650266  0.19054898\n",
      " -0.09223271  0.03202429 -0.0483392   0.03945824  0.12603672 -0.09356906\n",
      "  0.00827433 -0.13209733  0.09067198 -0.05666471  0.00675279  0.00838713\n",
      "  0.02910636 -0.11717901  0.03668706 -0.17330802  0.01832959 -0.14134682\n",
      " -0.02224663 -0.08281609 -0.15827673 -0.13533543]\n",
      "0.41263582716668556\n",
      "[ 0.4335258  -0.0864605   0.03651643  0.22131575 -0.12366637  0.18738832\n",
      " -0.09316279  0.03114922 -0.0474865   0.03959342  0.12155401 -0.0916501\n",
      "  0.00898774 -0.12949268  0.09020946 -0.05510936  0.00709346  0.00718073\n",
      "  0.02848925 -0.11516631  0.0365335  -0.17010303  0.01812913 -0.13859667\n",
      " -0.02207668 -0.07977658 -0.15595613 -0.13347025]\n",
      "0.41553129171036834\n",
      "[ 0.42411425 -0.08564107  0.03582898  0.21648943 -0.12136436  0.1841701\n",
      " -0.09271092  0.03049916 -0.04728751  0.03902351  0.11805903 -0.08939234\n",
      "  0.00913474 -0.12750096  0.08920904 -0.05446031  0.00728149  0.00624919\n",
      "  0.02788288 -0.11350575  0.03651749 -0.16750371  0.01790195 -0.13581896\n",
      " -0.02165944 -0.07727215 -0.15390746 -0.13138454]\n",
      "0.418313504628911\n",
      "[ 0.41551484 -0.08520779  0.03533329  0.211451   -0.11903011  0.18145228\n",
      " -0.09390932  0.02979045 -0.04662372  0.03917078  0.11362494 -0.0876053\n",
      "  0.00953435 -0.12547143  0.08899069 -0.05270212  0.0075846   0.00525317\n",
      "  0.02728074 -0.11157977  0.03627307 -0.16439448  0.01785016 -0.13371017\n",
      " -0.02153394 -0.07461704 -0.15211301 -0.12986789]\n",
      "0.4210339722418842\n",
      "[ 0.40751572 -0.08482362  0.03477412  0.20639367 -0.11650613  0.1790863\n",
      " -0.09622755  0.02896084 -0.04547124  0.03976759  0.10858954 -0.08617114\n",
      "  0.01025739 -0.12325987  0.0893324  -0.05026778  0.00792746  0.004303\n",
      "  0.02669747 -0.10942024  0.03592735 -0.16100023  0.01784476 -0.13194418\n",
      " -0.02165515 -0.07182238 -0.15045315 -0.12875238]\n",
      "0.4238093986605237\n",
      "[ 0.39889207 -0.08331667  0.03365137  0.2026437  -0.11399365  0.17584363\n",
      " -0.0945888   0.02820095 -0.04515514  0.03877789  0.10629754 -0.08392898\n",
      "  0.01061683 -0.12096221  0.08787943 -0.05068477  0.00780538  0.0038259\n",
      "  0.0261957  -0.10797774  0.03628609 -0.15922185  0.01738438 -0.12875765\n",
      " -0.02116639 -0.06962753 -0.14820217 -0.12653529]\n",
      "0.42652704182042506\n",
      "[ 0.39057666 -0.081789    0.0325373   0.19906234 -0.11156886  0.17268027\n",
      " -0.09290578  0.02746542 -0.04485771  0.03778024  0.10409551 -0.08175637\n",
      "  0.01094986 -0.11873198  0.08645081 -0.05110615  0.00765735  0.0033986\n",
      "  0.02571334 -0.10658495  0.03663686 -0.1575128   0.01692777 -0.1256664\n",
      " -0.02068632 -0.06752834 -0.14600811 -0.12437985]\n",
      "0.4291976464715812\n",
      "[ 0.38252513 -0.08022941  0.03142827  0.19563729 -0.10922454  0.16957756\n",
      " -0.09116347  0.02675424 -0.0445825   0.03677031  0.10197492 -0.07964561\n",
      "  0.01125997 -0.11655976  0.08503747 -0.05154041  0.00749012  0.00301628\n",
      "  0.02525152 -0.10524017  0.03698296 -0.1558671   0.01646441 -0.12264445\n",
      " -0.0202147  -0.06551336 -0.14385883 -0.12227567]\n",
      "0.43183209431611386\n",
      "[ 0.37469367 -0.07862938  0.03032346  0.19235459 -0.10695421  0.16651635\n",
      " -0.08934976  0.02606952 -0.04433373  0.03574631  0.09992744 -0.07759085\n",
      "  0.0115495  -0.11443597  0.08362962 -0.05199575  0.00731343  0.00267223\n",
      "  0.02481344 -0.10394299  0.03732808 -0.15427783  0.01598448 -0.11966805\n",
      " -0.01975149 -0.06357257 -0.14174137 -0.12021324]\n",
      "0.43443984035607774\n",
      "[ 0.36704258 -0.07698756  0.02922792  0.18919715 -0.10475371  0.16347935\n",
      " -0.08746113  0.02541652 -0.04411608  0.03471182  0.09794492 -0.07559018\n",
      "  0.0118193  -0.11235243  0.08221842 -0.05247755  0.00714146  0.00235583\n",
      "  0.02440472 -0.10269465  0.03767552 -0.15273701  0.01547994 -0.11671927\n",
      " -0.0192975  -0.06169811 -0.13964361 -0.11818539]\n",
      "0.437027393403002\n",
      "[ 0.35954057 -0.07531209  0.02815318  0.18614504 -0.10262173  0.16045392\n",
      " -0.08550564  0.02480323 -0.04393386  0.03367664  0.09601977 -0.07364624\n",
      "  0.01206866 -0.11030364  0.08079768 -0.05298659  0.00699205  0.00205264\n",
      "  0.0240327  -0.10149771  0.03802736 -0.15123585  0.01494571 -0.11378881\n",
      " -0.01885462 -0.05988482 -0.13755598 -0.11618828]\n",
      "0.43959580570702955\n",
      "[ 0.35217144 -0.07362485  0.02711902  0.18317547 -0.10056115  0.15743647\n",
      " -0.08350877  0.0242401  -0.04378963  0.0326588   0.09414535 -0.07176782\n",
      "  0.0122952  -0.10828901  0.07936659 -0.05351606  0.00688603  0.00174422\n",
      "  0.02370558 -0.10035559  0.03838331 -0.14976559  0.01438173 -0.11088068\n",
      " -0.01842631 -0.05813115 -0.13547453 -0.11422326]\n",
      "0.4417710800549155\n",
      "[ 0.34232971 -0.07113211  0.02748555  0.18383865 -0.09988885  0.15092533\n",
      " -0.06573356  0.02489092 -0.04732191  0.0275212   0.10664629 -0.06930058\n",
      "  0.01103851 -0.10628022  0.06946625 -0.06585652  0.00634377  0.00069056\n",
      "  0.02418537 -0.1038322   0.04119547 -0.15582822  0.0124345  -0.10353491\n",
      " -0.01575528 -0.05942963 -0.13086292 -0.10748807]\n",
      "0.44397233601437414\n",
      "[ 3.36226972e-01 -7.04549325e-02  2.71262662e-02  1.80577321e-01\n",
      " -9.82883392e-02  1.48611819e-01 -6.52468848e-02  2.45073889e-02\n",
      " -4.69680339e-02  2.72685906e-02  1.04473649e-01 -6.80647700e-02\n",
      "  1.11596950e-02 -1.04710258e-01  6.85945218e-02 -6.54820448e-02\n",
      "  6.51998251e-03  1.01184114e-04  2.38789311e-02 -1.02645774e-01\n",
      "  4.12154137e-02 -1.54170854e-01  1.21838895e-02 -1.01610899e-01\n",
      " -1.55546483e-02 -5.78473389e-02 -1.29129572e-01 -1.06004624e-01]\n"
     ]
    },
    {
     "name": "stdout",
     "output_type": "stream",
     "text": [
      "0.44611704861453416\n",
      "[ 0.33034125 -0.06978952  0.02678162  0.17742794 -0.09674286  0.14636708\n",
      " -0.06476616  0.02414006 -0.04661669  0.02702949  0.10237426 -0.06687745\n",
      "  0.011266   -0.10319302  0.06774051 -0.06512403  0.00668705 -0.00045427\n",
      "  0.0235848  -0.10148813  0.04124143 -0.15256805  0.01193546 -0.09975745\n",
      " -0.01536728 -0.05633238 -0.12745476 -0.10456701]\n",
      "0.4482086335702787\n",
      "[ 0.32465806 -0.06913495  0.02645173  0.1743831  -0.09524906  0.14418662\n",
      " -0.06428966  0.02378783 -0.04626683  0.02680351  0.10034312 -0.06573534\n",
      "  0.01135799 -0.1017251   0.06690325 -0.06478297  0.00684495 -0.00097695\n",
      "  0.0233014  -0.10035495  0.04127484 -0.15101633  0.01168893 -0.09797001\n",
      " -0.01519227 -0.05487992 -0.12583484 -0.10317215]\n",
      "0.4502511347287911\n",
      "[ 0.31916224 -0.06848985  0.02613735  0.17143486 -0.0938034   0.14206515\n",
      " -0.0638141   0.02345007 -0.04591694  0.02659025  0.09837522 -0.0646351\n",
      "  0.01143541 -0.10030268  0.06608098 -0.06446012  0.00699414 -0.0014676\n",
      "  0.02302731 -0.09924079  0.04131715 -0.14951209  0.01144368 -0.09624402\n",
      " -0.01502863 -0.0534857  -0.12426548 -0.10181605]\n",
      "0.4522497327460748\n",
      "[ 0.31383706 -0.06785223  0.02584011  0.16857419 -0.09240183  0.13999584\n",
      " -0.06333369  0.02312709 -0.04556488  0.02638905  0.09646546 -0.0635729\n",
      "  0.01149673 -0.09892106  0.06527056 -0.06415757  0.0071365  -0.00192688\n",
      "  0.02276179 -0.09813885  0.04136927 -0.14805116  0.0111988  -0.0945747\n",
      " -0.0148749  -0.0521464  -0.1227408  -0.10049301]\n",
      "0.45421099564839296\n",
      "[ 0.3086641  -0.06721942  0.02556213  0.16579088 -0.09103947  0.13796993\n",
      " -0.06283971  0.02282097 -0.04520853  0.02619771  0.09460895 -0.06254398\n",
      "  0.01153875 -0.09757426  0.06446684 -0.06387729  0.00727739 -0.00235671\n",
      "  0.02250589 -0.0970424   0.04142823 -0.1466284   0.01095354 -0.09295704\n",
      " -0.01472839 -0.05086083 -0.1212524  -0.09919509]\n",
      "0.45614169607656563\n",
      "[ 0.3036261  -0.06658859  0.02530335  0.16307598 -0.08971138  0.13597767\n",
      " -0.06232422  0.02253546 -0.04484764  0.02601006  0.09280038 -0.06154335\n",
      "  0.01155781 -0.09625614  0.0636634  -0.06361761  0.00742682 -0.00276239\n",
      "  0.02226347 -0.095949    0.04148042 -0.14523793  0.0107067  -0.09138568\n",
      " -0.01458578 -0.04963043 -0.11979086 -0.09791558]\n",
      "0.4580429823149461\n",
      "[ 0.29871882 -0.06595865  0.02505656  0.16043019 -0.08841682  0.13401482\n",
      " -0.06179052  0.022274   -0.04448821  0.02581526  0.0910353  -0.06057139\n",
      "  0.01155587 -0.09496594  0.06285714 -0.0633619   0.00759865 -0.00315481\n",
      "  0.02204171 -0.09487175  0.04149769 -0.14387725  0.0104501  -0.08985453\n",
      " -0.01444775 -0.04845749 -0.11835342 -0.09666019]\n",
      "0.45987291958918397\n",
      "[ 0.29407479 -0.06545142  0.02475588  0.15753898 -0.08708584  0.13239586\n",
      " -0.06090525  0.02216959 -0.04424045  0.02540946  0.08976995 -0.0596055\n",
      "  0.01162519 -0.09373941  0.06193932 -0.0630179   0.00820418 -0.0039308\n",
      "  0.02211872 -0.09425346  0.04107689 -0.14271023  0.01027461 -0.08823969\n",
      " -0.014226   -0.04737811 -0.11678938 -0.09540044]\n",
      "0.46179356120688714\n",
      "[ 0.29074727 -0.06279     0.02276127  0.15848105 -0.08542377  0.13076145\n",
      " -0.06210428  0.02185614 -0.04529055  0.02410174  0.08201941 -0.05666999\n",
      "  0.01153749 -0.09144295  0.06564187 -0.05899647  0.00804724 -0.00430383\n",
      "  0.0225374  -0.09392566  0.04141767 -0.13691525  0.01071105 -0.08675305\n",
      " -0.01296026 -0.04591699 -0.11606596 -0.0967398 ]\n",
      "0.4634208673442027\n",
      "[ 0.2866486  -0.0621801   0.02239169  0.15603781 -0.08446388  0.12926081\n",
      " -0.06165555  0.02135855 -0.04473418  0.02381385  0.08046947 -0.05597283\n",
      "  0.01166002 -0.09056713  0.06503812 -0.05867777  0.00780388 -0.00433042\n",
      "  0.02201524 -0.09279808  0.04133895 -0.13597757  0.01052525 -0.08552232\n",
      " -0.01299767 -0.0447545  -0.11507409 -0.09564258]\n",
      "0.4638539945995772\n",
      "[ 0.28528683 -0.06316425  0.02241994  0.15236855 -0.08406166  0.12997883\n",
      " -0.06751209  0.02109798 -0.04236069  0.02624225  0.07430228 -0.05865427\n",
      "  0.01354313 -0.09145698  0.06918764 -0.05833541  0.00948046 -0.00394393\n",
      "  0.021295   -0.08976928  0.04136618 -0.13461529  0.00903738 -0.08677311\n",
      " -0.01583563 -0.04315659 -0.11592049 -0.09700842]\n",
      "0.46548618477840814\n",
      "[ 0.28110647 -0.0626252   0.02224511  0.15017138 -0.08298157  0.12827837\n",
      " -0.06688397  0.02087501 -0.04212178  0.02600996  0.07312105 -0.05778416\n",
      "  0.01352214 -0.09038024  0.06832348 -0.05822496  0.00956254 -0.00428128\n",
      "  0.02111914 -0.08899925  0.04141818 -0.13364736  0.00882436 -0.08540404\n",
      " -0.01567271 -0.04221682 -0.1146859  -0.09586762]\n",
      "0.467083925223057\n",
      "[ 0.27704685 -0.06209567  0.02207437  0.14803838 -0.08192931  0.126619\n",
      " -0.06626627  0.02065993 -0.04188567  0.02578362  0.07197517 -0.05693905\n",
      "  0.01349741 -0.08933017  0.0674755  -0.05811605  0.0096428  -0.00460518\n",
      "  0.02094986 -0.08824719  0.04146651 -0.13270231  0.00861615 -0.08407148\n",
      " -0.01551443 -0.04130863 -0.11347987 -0.09475507]\n",
      "0.46864818916262235\n",
      "[ 0.27310317 -0.06157571  0.02190782  0.14596677 -0.08090397  0.12499962\n",
      " -0.06565883  0.02045231 -0.04165228  0.02556323  0.07086326 -0.05611809\n",
      "  0.01346915 -0.08830578  0.06664339 -0.05800847  0.00972119 -0.00491636\n",
      "  0.02078679 -0.08751246  0.04151129 -0.13177921  0.00841266 -0.08277423\n",
      " -0.01536056 -0.04043059 -0.11230141 -0.09366972]\n",
      "0.47017993492304444\n",
      "[ 0.26927093 -0.06106534  0.02174552  0.1439539  -0.07990464  0.12341908\n",
      " -0.06506148  0.02025173 -0.04142154  0.02534873  0.06978395 -0.05532044\n",
      "  0.01343759 -0.08730613  0.06582678 -0.05790204  0.00979766 -0.00521549\n",
      "  0.0206296  -0.08679442  0.04155265 -0.13087717  0.0082138  -0.08151112\n",
      " -0.01521087 -0.03958139 -0.11114953 -0.0926105 ]\n",
      "0.47168007160299136\n",
      "[ 0.26554582 -0.06056452  0.02158745  0.14199742 -0.07893041  0.12187623\n",
      " -0.06447404  0.02005779 -0.04119336  0.02514006  0.06873602 -0.05454526\n",
      "  0.01340297 -0.08633031  0.06502529 -0.0577967   0.00987219 -0.00550316\n",
      "  0.02047793 -0.08609251  0.04159074 -0.12999543  0.00801946 -0.08028101\n",
      " -0.01506515 -0.03875982 -0.11002328 -0.09157645]\n",
      "0.47314951516679477\n",
      "[ 0.26192367 -0.06007325  0.02143357  0.14009494 -0.0779804   0.12036999\n",
      " -0.06389636  0.01987009 -0.04096766  0.02493714  0.06771821 -0.05379176\n",
      "  0.01336544 -0.08537747  0.06423854 -0.05769229  0.00994472 -0.00577996\n",
      "  0.02033147 -0.08540612  0.04162565 -0.12913317  0.00782954 -0.07908286\n",
      " -0.0149232  -0.0379647  -0.10892176 -0.09056663]\n",
      "0.47458915076649144\n",
      "[ 0.25840054 -0.05959143  0.02128383  0.13824435 -0.07705376  0.11889923\n",
      " -0.06332818  0.01968826 -0.04074439  0.02473987  0.06672942 -0.05305912\n",
      "  0.01332519 -0.08444671  0.06346609 -0.05758884  0.0100152  -0.0060464\n",
      "  0.02018993 -0.08473473  0.04165753 -0.12828968  0.00764396 -0.07791559\n",
      " -0.01478479 -0.03719496 -0.10784404 -0.08958011]\n",
      "0.4759998257803207\n",
      "[ 0.25497268 -0.05911905  0.02113812  0.13644349 -0.07614965  0.1174629\n",
      " -0.06276941  0.01951194 -0.04052345  0.02454816  0.06576851 -0.05234662\n",
      "  0.01328239 -0.08353723  0.06270762 -0.05748627  0.01008361 -0.00630299\n",
      "  0.020053   -0.08407781  0.04168648 -0.12746427  0.0074626  -0.07677828\n",
      " -0.01464976 -0.03644961 -0.1067893  -0.08861608]\n",
      "0.4773823935003264\n",
      "[ 0.25163643 -0.05865599  0.02099634  0.13469042 -0.07526723  0.1160599\n",
      " -0.06221983  0.01934078 -0.04030479  0.02436192  0.06483442 -0.05165349\n",
      "  0.01323717 -0.08264825  0.06196268 -0.05738456  0.01014989 -0.00655021\n",
      "  0.01992043 -0.08343485  0.04171261 -0.12665626  0.0072854  -0.07566998\n",
      " -0.01451792 -0.03572767 -0.1057567  -0.08767371]\n",
      "0.4787376657114937\n",
      "[ 0.24838837 -0.05820215  0.02085837  0.1329833  -0.0744057   0.1146892\n",
      " -0.06167922  0.01917447 -0.04008835  0.02418101  0.06392617 -0.05097901\n",
      "  0.01318967 -0.08177898  0.06123085 -0.05728377  0.01021401 -0.00678847\n",
      "  0.01979196 -0.08280539  0.04173604 -0.12586505  0.00711226 -0.07458976\n",
      " -0.01438907 -0.03502826 -0.10474541 -0.08675221]\n",
      "0.4800664380067049\n",
      "[ 0.24522519 -0.05775744  0.02072408  0.13132034 -0.07356428  0.11334975\n",
      " -0.06114741  0.01901267 -0.0398741   0.02400536  0.06304278 -0.05032246\n",
      "  0.01314002 -0.08092866  0.06051176 -0.0571839   0.01027593 -0.0070182\n",
      "  0.01966735 -0.08218897  0.04175687 -0.12509003  0.0069431  -0.07353678\n",
      " -0.01426304 -0.03435054 -0.10375466 -0.08585085]\n",
      "0.48136948564682935\n",
      "[ 0.24214373 -0.05732175  0.02059333  0.12969983 -0.07274222  0.11204057\n",
      " -0.06062426  0.01885509 -0.03966198  0.02383484  0.0621833  -0.04968319\n",
      "  0.01308832 -0.08009661  0.05980501 -0.05708498  0.01033563 -0.00723978\n",
      "  0.01954637 -0.08158513  0.04177521 -0.12433063  0.00677784 -0.07251021\n",
      " -0.01413967 -0.03369372 -0.10278371 -0.08496894]\n",
      "0.4826475718564785\n",
      "[ 0.23914093 -0.05689494  0.02046598  0.12812016 -0.07193876  0.11076065\n",
      " -0.06010955  0.01870145 -0.03945196  0.02366938  0.06134684 -0.04906051\n",
      "  0.0130347  -0.07928208  0.0591102  -0.05698706  0.01039307 -0.0074536\n",
      "  0.01942882 -0.08099349  0.04179117 -0.12358631  0.00661641 -0.07150928\n",
      " -0.01401878 -0.03305705 -0.10183181 -0.08410578]\n",
      "0.4839014477114832\n",
      "[ 0.23621384 -0.0564769   0.02034187  0.12657973 -0.07115316  0.10950907\n",
      " -0.05960316  0.01855148 -0.039244    0.02350889  0.06053249 -0.04845381\n",
      "  0.01297923 -0.07848441  0.05842697 -0.05689014  0.01044823 -0.00766002\n",
      "  0.01931451 -0.08041361  0.04180483 -0.12285654  0.00645874 -0.07053323\n",
      " -0.01390023 -0.03243983 -0.10089828 -0.08326076]\n",
      "0.4851318319936748\n",
      "[ 0.23335968 -0.0560675   0.02022087  0.125077   -0.07038476  0.10828487\n",
      " -0.05910497  0.01840493 -0.03903809  0.02335331  0.05973941 -0.04786248\n",
      "  0.012922   -0.07770295  0.05775496 -0.05679424  0.0105011  -0.00785938\n",
      "  0.01920326 -0.07984511  0.04181631 -0.1221408   0.00630476 -0.06958138\n",
      " -0.01378387 -0.0318414  -0.09998242 -0.08243327]\n",
      "0.48633944713332666\n",
      "[ 0.23057567 -0.05566656  0.02010284  0.1236106  -0.06963283  0.10708714\n",
      " -0.05861475  0.01826155 -0.03883422  0.02320255  0.0589668  -0.04728588\n",
      "  0.01286307 -0.07693704  0.05709378 -0.05669943  0.01055166 -0.00805202\n",
      "  0.01909492 -0.07928765  0.04182569 -0.12143862  0.00615439 -0.068653\n",
      " -0.01366954 -0.03126112 -0.09908358 -0.0816227 ]\n",
      "0.48752498483960915\n",
      "[ 0.22785924 -0.05527397  0.01998762  0.12217902 -0.06889675  0.10591499\n",
      " -0.05813253  0.01812114 -0.03863236  0.02305659  0.05821374 -0.04672353\n",
      "  0.01280254 -0.07618608  0.05644313 -0.05660564  0.01059993 -0.00823825\n",
      "  0.01898932 -0.07874082  0.04183307 -0.12074952  0.00600758 -0.06774749\n",
      " -0.01355713 -0.03069842 -0.09820112 -0.08082854]\n"
     ]
    },
    {
     "name": "stdout",
     "output_type": "stream",
     "text": [
      "0.4886891385220561\n",
      "[ 0.22520781 -0.05488956  0.01987508  0.1207809  -0.06817587  0.10476753\n",
      " -0.05765815  0.01798349 -0.03843251  0.02291538  0.05747946 -0.04617483\n",
      "  0.01274045 -0.07544947  0.05580268 -0.05651289  0.01064592 -0.00841839\n",
      "  0.01888636 -0.07820428  0.04183854 -0.12007305  0.00586424 -0.06686423\n",
      " -0.01344653 -0.03015272 -0.09733445 -0.08005024]\n",
      "0.4898325845514664\n",
      "[ 0.22261893 -0.05451313  0.01976509  0.11941489 -0.06746955  0.10364393\n",
      " -0.05719152  0.01784842 -0.03823468  0.02277889  0.05676317 -0.04563928\n",
      "  0.01267686 -0.07472662  0.05517212 -0.05642117  0.01068965 -0.00859274\n",
      "  0.01878592 -0.07767772  0.04184219 -0.11940876  0.00572433 -0.06600261\n",
      " -0.0133376  -0.02962349 -0.09648297 -0.07928733]\n",
      "0.49095598075527247\n",
      "[ 0.22009023 -0.05414455  0.0196575   0.11807962 -0.06677724  0.10254338\n",
      " -0.05673269  0.01771576 -0.03803885  0.02264714  0.056064   -0.04511642\n",
      "  0.01261179 -0.07401699  0.05455122 -0.05633033  0.01073118 -0.00876159\n",
      "  0.0186879  -0.07716077  0.04184412 -0.11875619  0.00558775 -0.06516214\n",
      " -0.01323028 -0.02911022 -0.09564615 -0.07853936]\n",
      "0.4920599794413135\n",
      "[ 0.21761939 -0.05378359  0.0195522   0.11677379 -0.06609835  0.10146505\n",
      " -0.05628159  0.01758539 -0.03784504  0.0225201   0.0553812  -0.0446058\n",
      "  0.01254533 -0.07332007  0.0539397  -0.05624035  0.01077055 -0.00892523\n",
      "  0.01859222 -0.07665311  0.0418444  -0.11811496  0.00545444 -0.06434224\n",
      " -0.01312447 -0.02861241 -0.09482344 -0.07780586]\n",
      "0.4937258168932832\n",
      "[ 0.2137575  -0.05423355  0.02134327  0.1121083  -0.06632999  0.10055109\n",
      " -0.05838392  0.01777073 -0.03700669  0.02362917  0.05590385 -0.046191\n",
      "  0.01120686 -0.07214811  0.05122377 -0.05150841  0.01126845 -0.00965061\n",
      "  0.01898612 -0.07584921  0.0408683  -0.11619702  0.00684049 -0.06543138\n",
      " -0.01287717 -0.02923319 -0.09436376 -0.07659343]\n",
      "0.49479088087313877\n",
      "[ 0.21139229 -0.05381819  0.02117492  0.11089354 -0.06565887  0.09950507\n",
      " -0.0579166   0.01763457 -0.03682324  0.0235646   0.05519018 -0.04568873\n",
      "  0.01119309 -0.07152038  0.05070545 -0.0514852   0.01130358 -0.0097696\n",
      "  0.01889023 -0.0753645   0.04086086 -0.11559903  0.00666792 -0.0646534\n",
      " -0.01282876 -0.02874773 -0.09357381 -0.07590207]\n",
      "0.4958503103588077\n",
      "[ 0.20905512 -0.0534028   0.02095301  0.10973342 -0.064969    0.09843903\n",
      " -0.05728947  0.01748757 -0.03667293  0.02346074  0.05462218 -0.045145\n",
      "  0.01119635 -0.07086316  0.05008732 -0.05162033  0.01131684 -0.00989559\n",
      "  0.0187864  -0.07490818  0.04086424 -0.11509865  0.0064643  -0.06381678\n",
      " -0.0127686  -0.02826296 -0.09273724 -0.07514922]\n",
      "0.49689305292928404\n",
      "[ 0.20676673 -0.05299529  0.02073007  0.10860731 -0.06428782  0.09738455\n",
      " -0.05664183  0.01734456 -0.0365249   0.02335022  0.05409082 -0.04459431\n",
      "  0.01119291 -0.07022572  0.04945737 -0.05178104  0.01132793 -0.01002091\n",
      "  0.01868181 -0.07446354  0.04087189 -0.11462343  0.0062599  -0.06298354\n",
      " -0.01270322 -0.02778863 -0.09190616 -0.074395  ]\n",
      "0.4979323460963563\n",
      "[ 0.20450185 -0.05258803  0.02044792  0.10754984 -0.06357969  0.09629497\n",
      " -0.05578823  0.01719265 -0.03640997  0.02318909  0.05373953 -0.04397243\n",
      "  0.01119751 -0.06957267  0.04869321 -0.05214315  0.01131545 -0.01015808\n",
      "  0.01856491 -0.07405373  0.04089786 -0.1142685   0.00601837 -0.06206991\n",
      " -0.01261625 -0.02731238 -0.09101345 -0.0735549 ]\n",
      "0.4989686106035803\n",
      "[ 0.2022772  -0.05218782  0.020098    0.10651591 -0.06286847  0.09520928\n",
      " -0.05482052  0.01702126 -0.03635229  0.02297922  0.05350935 -0.04334535\n",
      "  0.01124015 -0.06882596  0.04784207 -0.052631    0.01128535 -0.01031205\n",
      "  0.01844643 -0.07365429  0.04092816 -0.11398955  0.00574179 -0.06110531\n",
      " -0.01252583 -0.02683068 -0.090073   -0.07266516]\n",
      "0.49994311429502264\n",
      "[ 0.20017618 -0.05182065  0.01996269  0.10540142 -0.06228055  0.09428649\n",
      " -0.05447056  0.01690936 -0.03617449  0.02292152  0.05281405 -0.04291848\n",
      "  0.01121156 -0.0682523   0.04740363 -0.05253412  0.01132943 -0.01041868\n",
      "  0.01836558 -0.07318862  0.04091582 -0.11340416  0.00559536 -0.06043439\n",
      " -0.01248262 -0.02640333 -0.08937353 -0.07206451]\n",
      "0.50091274147984\n",
      "[ 0.19808815 -0.0514547   0.01979173  0.10437886 -0.06165176  0.09330809\n",
      " -0.05389023  0.01680709 -0.03600167  0.02281884  0.05230855 -0.04238314\n",
      "  0.01116157 -0.06772999  0.04681901 -0.05265417  0.01135314 -0.01053381\n",
      "  0.01826871 -0.07276681  0.04092942 -0.11294811  0.00541884 -0.05967838\n",
      " -0.01240588 -0.02597838 -0.08861619 -0.07136707]\n",
      "0.501931618043799\n",
      "[ 0.19598166 -0.05106947  0.0192919   0.10347413 -0.06091802  0.09219356\n",
      " -0.05252379  0.01661654 -0.03605907  0.02247864  0.05246456 -0.04163259\n",
      "  0.01123799 -0.06687113  0.04567679 -0.0535561   0.01128185 -0.01072866\n",
      "  0.01812943 -0.07242586  0.04099604 -0.11291916  0.00505474 -0.05854806\n",
      " -0.01226908 -0.02548978 -0.0875371  -0.07029949]\n",
      "0.5028569946567076\n",
      "[ 0.19402109 -0.05072661  0.01917544  0.10241983 -0.06037034  0.09133145\n",
      " -0.0522192   0.01652601 -0.03588296  0.02242467  0.05179122 -0.04123079\n",
      "  0.01119489 -0.06633413  0.04526992 -0.05343528  0.01133178 -0.01082772\n",
      "  0.01805542 -0.07197464  0.04098273 -0.11234881  0.00492157 -0.05792768\n",
      " -0.0122233  -0.02509371 -0.08687991 -0.0697387 ]\n",
      "0.503767931098881\n",
      "[ 0.19209959 -0.05039005  0.01906182  0.10138619 -0.05983227  0.09048497\n",
      " -0.05191911  0.01643811 -0.03570766  0.02237206  0.05113107 -0.04083671\n",
      "  0.01115025 -0.06580643  0.04486984 -0.0533153   0.01138155 -0.01092356\n",
      "  0.01798358 -0.07153033  0.04096887 -0.11178801  0.00479077 -0.05731995\n",
      " -0.01217782 -0.02470721 -0.08623357 -0.06918801]\n",
      "0.5048016854967599\n",
      "[ 0.19010453 -0.05001737  0.01826695  0.10069184 -0.05901009  0.08924498\n",
      " -0.04969728  0.01621425 -0.03597033  0.02177331  0.05204472 -0.03975571\n",
      "  0.01126133 -0.06472592  0.04308782 -0.05508033  0.0112441  -0.01121094\n",
      "  0.01779385 -0.0712898   0.04112096 -0.11224514  0.00424366 -0.05579616\n",
      " -0.01192411 -0.02417286 -0.08482142 -0.06770299]\n",
      "0.5054215531355861\n",
      "[ 0.18845789 -0.04977049  0.0195066   0.0990641  -0.05906632  0.08923148\n",
      " -0.05321446  0.01639016 -0.03493293  0.02280953  0.04831729 -0.04076993\n",
      "  0.01092013 -0.06532607  0.0454616  -0.05123186  0.01165283 -0.01091068\n",
      "  0.01796341 -0.07047403  0.04077181 -0.10970721  0.00494506 -0.05705317\n",
      " -0.01230383 -0.02411599 -0.08573881 -0.06904844]\n",
      "0.5065419978179948\n",
      "[ 0.18648668 -0.04940339  0.01810692  0.0987147  -0.05800085  0.08765468\n",
      " -0.04922485  0.01604315 -0.03557904  0.02169822  0.0507145  -0.03901459\n",
      "  0.01112325 -0.06375685  0.04236447 -0.05475418  0.01137931 -0.01139329\n",
      "  0.01767231 -0.07041329  0.04109419 -0.11111741  0.0040126  -0.05467962\n",
      " -0.01182937 -0.02345098 -0.08361053 -0.06668102]\n",
      "0.5073935678172309\n",
      "[ 0.18473081 -0.04910949  0.01802625  0.09775668 -0.05750593  0.08687878\n",
      " -0.04898424  0.01594052 -0.03537751  0.02165917  0.05007696 -0.03865404\n",
      "  0.01105284 -0.06327936  0.04200615 -0.05460157  0.01144348 -0.01148246\n",
      "  0.01761396 -0.06998332  0.04108082 -0.11057059  0.00389718 -0.05413267\n",
      " -0.01178399 -0.02310108 -0.08301572 -0.06617891]\n",
      "0.5080317667208772\n",
      "[ 0.18300361 -0.04883275  0.0190599   0.09635655 -0.05740824  0.08666429\n",
      " -0.05172035  0.0161822  -0.03447999  0.02248661  0.04697692 -0.03942782\n",
      "  0.01077729 -0.06388358  0.04390764 -0.05148029  0.01171894 -0.01121543\n",
      "  0.01773791 -0.06931197  0.04077551 -0.10845734  0.00447529 -0.05509422\n",
      " -0.01210759 -0.02303593 -0.08373276 -0.06721714]\n",
      "0.508866740875917\n",
      "[ 0.18127553 -0.0485262   0.01894061  0.09543404 -0.05692298  0.0858947\n",
      " -0.05141916  0.01609992 -0.03433109  0.02242378  0.04640722 -0.03908609\n",
      "  0.01074574 -0.06339383  0.0435334  -0.05138883  0.01175214 -0.01129631\n",
      "  0.01767288 -0.06891346  0.04075765 -0.10796189  0.00435028 -0.05454444\n",
      " -0.01207198 -0.02269831 -0.08314104 -0.06671477]\n",
      "0.5096893230013289\n",
      "[ 0.17957975 -0.04822441  0.01882184  0.09452819 -0.05644793  0.08513851\n",
      " -0.05112244  0.01601815 -0.0341841   0.02236076  0.04584788 -0.0387506\n",
      "  0.01071341 -0.06291288  0.04316504 -0.05129755  0.0117842  -0.01137464\n",
      "  0.01760763 -0.06852069  0.04074081 -0.10747404  0.0042274  -0.05400503\n",
      " -0.01203673 -0.02236815 -0.08255867 -0.06622086]\n",
      "0.5104998896141355\n",
      "[ 0.17791539 -0.04792715  0.01870346  0.09363862 -0.05598238  0.08439536\n",
      " -0.05082997  0.01593653 -0.03403841  0.02229776  0.04529873 -0.03842122\n",
      "  0.01068047 -0.06244028  0.04280233 -0.05120658  0.01181512 -0.01145045\n",
      "  0.01754205 -0.06813308  0.04072525 -0.10699362  0.00410656 -0.05347562\n",
      " -0.01200185 -0.02204519 -0.08198534 -0.06573514]\n",
      "0.5112988163402076\n",
      "[ 0.17628158 -0.04763419  0.01858555  0.0927649  -0.05552549  0.08366496\n",
      " -0.05054153  0.01585493 -0.03389342  0.02223506  0.04475958 -0.03809786\n",
      "  0.01064713 -0.06197552  0.04244507 -0.051116    0.01184493 -0.01152378\n",
      "  0.01747622 -0.06775006  0.04071103 -0.1065205   0.00398766 -0.05295588\n",
      " -0.01196734 -0.02172917 -0.08142074 -0.06525736]\n",
      "0.5120864524657641\n",
      "[ 0.17467749 -0.04734534  0.01846825  0.09190664 -0.05507644  0.08294702\n",
      " -0.05025695  0.0157734  -0.03374866  0.02217294  0.04423025 -0.03778043\n",
      "  0.01061356 -0.06151808  0.04209308 -0.05102588  0.01187372 -0.01159471\n",
      "  0.01741034 -0.06737115  0.04069813 -0.10605454  0.00387064 -0.05244547\n",
      " -0.01193318 -0.02141986 -0.08086459 -0.06478726]\n",
      "0.5128631163311327\n",
      "[ 0.17310233 -0.04706039  0.01835181  0.09106345 -0.05463448  0.08224125\n",
      " -0.04997612  0.01569215 -0.03360387  0.02211166  0.04371052 -0.03746885\n",
      "  0.01057991 -0.06106751  0.0417462  -0.05093628  0.01190162 -0.01166334\n",
      "  0.01734467 -0.06699602  0.04068637 -0.10559556  0.00375542 -0.05194412\n",
      " -0.01189935 -0.02111705 -0.08031663 -0.06432464]\n",
      "0.5136290840600728\n",
      "[ 0.17155534 -0.04677921  0.01823649  0.09023492 -0.05419904  0.08154739\n",
      " -0.04969895  0.01561144 -0.03345894  0.02205144  0.04320015 -0.03716303\n",
      "  0.01054627 -0.06062346  0.04140432 -0.05084718  0.01192876 -0.01172977\n",
      "  0.01727951 -0.06662449  0.04067553 -0.10514339  0.00364195 -0.05145158\n",
      " -0.01186585 -0.02082056 -0.07977664 -0.0638693 ]\n",
      "0.5145757485553317\n",
      "[ 0.16969424 -0.04667765  0.01744598  0.09003428 -0.0533174   0.08021087\n",
      " -0.04686918  0.01550666 -0.03365382  0.02114254  0.04479071 -0.03589925\n",
      "  0.01048928 -0.0598447   0.03911148 -0.05339951  0.01192748 -0.01220453\n",
      "  0.01714137 -0.0664375   0.04099448 -0.10609963  0.00292051 -0.04960385\n",
      " -0.01146284 -0.02035667 -0.0780961  -0.06205045]\n",
      "0.5153178379787382\n",
      "[ 0.16821329 -0.04641019  0.01736151  0.08921898 -0.05290334  0.07955868\n",
      " -0.04665836  0.01543197 -0.03349589  0.02109462  0.04426296 -0.03562172\n",
      "  0.01044767 -0.05941161  0.03880029 -0.053259    0.01196611 -0.01226826\n",
      "  0.0170869  -0.06606643  0.04097525 -0.105629    0.00282186 -0.04915553\n",
      " -0.01142801 -0.0200808  -0.07758967 -0.06162452]\n",
      "0.516049703432764\n",
      "[ 0.16675783 -0.0461467   0.01727844  0.08841772 -0.05249632  0.07891699\n",
      " -0.04644984  0.01535844 -0.03333965  0.02104728  0.04374441 -0.03534899\n",
      "  0.01040611 -0.05898508  0.03849376 -0.05311987  0.01200386 -0.01232987\n",
      "  0.01703332 -0.06570054  0.04095568 -0.10516524  0.00272479 -0.0487152\n",
      " -0.01139354 -0.01981091 -0.07709054 -0.06120529]\n",
      "0.5167715712755323\n",
      "[ 0.16532722 -0.04588707  0.01719671  0.08763014 -0.05209612  0.07828555\n",
      " -0.04624357  0.01528605 -0.03318505  0.02100051  0.04323481 -0.03508093\n",
      "  0.01036461 -0.05856497  0.0381918  -0.05298208  0.01204075 -0.01238942\n",
      "  0.0169806  -0.06533972  0.04093578 -0.10470818  0.00262925 -0.04828265\n",
      " -0.0113594  -0.01954683 -0.07659852 -0.06079261]\n"
     ]
    },
    {
     "data": {
      "image/png": "[encoded data removed]",
      "text/plain": [
       "<Figure size 432x288 with 1 Axes>"
      ]
     },
     "metadata": {
      "needs_background": "light"
     },
     "output_type": "display_data"
    }
   ],
   "source": [
    "grafica_ev()"
   ]
  }
 ],
 "metadata": {
  "kernelspec": {
   "display_name": "Python 3",
   "language": "python",
   "name": "python3"
  },
  "language_info": {
   "codemirror_mode": {
    "name": "ipython",
    "version": 3
   },
   "file_extension": ".py",
   "mimetype": "text/x-python",
   "name": "python",
   "nbconvert_exporter": "python",
   "pygments_lexer": "ipython3",
   "version": "3.8.3"
  }
 },
 "nbformat": 4,
 "nbformat_minor": 4
}
