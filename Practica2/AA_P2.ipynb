{
 "cells": [
  {
   "cell_type": "markdown",
   "metadata": {},
   "source": [
    "# Aprendizaje Automático y Big Data\n",
    "## Práctica 2 : Regresión Logistica\n",
    "\n",
    "Guillermo García Patiño Lenza y Mario Quiñones Pérez \n",
    "\n",
    "\n",
    "### PARTE 1\n",
    "### Regresión logística\n",
    "### 1.1. Visualización de los datos"
   ]
  },
  {
   "cell_type": "code",
   "execution_count": 5,
   "metadata": {},
   "outputs": [],
   "source": [
    "import numpy as np\n",
    "from pandas.io.parsers import read_csv\n",
    "import matplotlib.pyplot as plt\n",
    "from matplotlib import cm\n",
    "from matplotlib.ticker import LinearLocator, FormatStrFormatter\n",
    "from mpl_toolkits.mplot3d import Axes3D\n",
    "import scipy.optimize as opt\n",
    "\n",
    "def carga_csv(file_name):\n",
    "    valores = read_csv(file_name, header=None).to_numpy()\n",
    "    return valores.astype(float)"
   ]
  },
  {
   "cell_type": "markdown",
   "metadata": {},
   "source": [
    "### 1.1. Visualización de los datos"
   ]
  },
  {
   "cell_type": "code",
   "execution_count": 3,
   "metadata": {},
   "outputs": [],
   "source": [
    "def draw_graph(file_name, labels = ['y = 1', 'y = 0']):\n",
    "    datos = carga_csv(file_name)\n",
    "    X = datos[:,:-1]\n",
    "    Y = datos[:,-1]\n",
    "    \n",
    "    # Obtiene un vector con los índices de los ejemplos positivos\n",
    "    pos = np.where (Y == 1)\n",
    "    posn = np.where (Y == 0)\n",
    "\n",
    "    # Dibuja los ejemplos positivos\n",
    "    plt.scatter(X[pos, 0], X[pos, 1], marker='+', c='k', label = labels[0])\n",
    "    plt.scatter(X[posn, 0], X[posn, 1], marker='o', c='y', label = labels[1])\n",
    "    plt.legend(loc='upper right')\n",
    "    plt.show()"
   ]
  },
  {
   "cell_type": "code",
   "execution_count": 4,
   "metadata": {},
   "outputs": [
    {
     "data": {
      "image/png": "[encoded data removed]",
      "text/plain": [
       "<Figure size 432x288 with 1 Axes>"
      ]
     },
     "metadata": {
      "needs_background": "light"
     },
     "output_type": "display_data"
    }
   ],
   "source": [
    "draw_graph(\"ex2data1.csv\", ['Admited', 'Not admited'])"
   ]
  },
  {
   "cell_type": "markdown",
   "metadata": {},
   "source": [
    "### 1.2. Función sigmoide"
   ]
  },
  {
   "cell_type": "code",
   "execution_count": 7,
   "metadata": {},
   "outputs": [],
   "source": [
    "def sigmoide(Z):\n",
    "    sigmoide = 1 / (1 + np.exp(-Z))\n",
    "    return sigmoide"
   ]
  },
  {
   "cell_type": "markdown",
   "metadata": {},
   "source": [
    "### 1.3. Cálculo de la función de coste y su gradiente"
   ]
  },
  {
   "cell_type": "code",
   "execution_count": null,
   "metadata": {},
   "outputs": [],
   "source": [
    "def normalizar(X):\n",
    "    mu = np.mean(X, axis=0)\n",
    "    sigma = np.std(X, axis=0)\n",
    "    X_norm = (X-mu)/sigma\n",
    "    return(X_norm, mu, sigma)"
   ]
  },
  {
   "cell_type": "code",
   "execution_count": 192,
   "metadata": {},
   "outputs": [],
   "source": [
    "def coste_logistico(T, X, Y):\n",
    "    G = sigmoide(np.dot(X, T))\n",
    "    #falla porq G es todo unos no se muy bien porq\n",
    "    coste = (- 1 / (len(X))) * (np.dot(Y, np.log(G)) + np.dot((1 - Y), np.log(1 - G)))\n",
    "    return coste"
   ]
  },
  {
   "cell_type": "code",
   "execution_count": 187,
   "metadata": {},
   "outputs": [],
   "source": [
    "def gradiente_logistico(T, X, Y):\n",
    "    m = len(Y)\n",
    "    G = sigmoide(np.matmul(X, T))\n",
    "    Dif = (np.transpose(G) - Y)\n",
    "    gradiente = (1/m)*np.dot(Dif, X)\n",
    "    return gradiente"
   ]
  },
  {
   "cell_type": "code",
   "execution_count": 206,
   "metadata": {},
   "outputs": [],
   "source": [
    "def descenso_gradiente(X, Y):\n",
    "    n = len(Y)\n",
    "    X_2 = np.hstack([np.ones([n,1]), X])\n",
    "    X_nor, mu, s = normalizar(X)\n",
    "    X_nor2 = np.hstack([np.ones([n,1]), X_nor])\n",
    "    m = np.shape(X_2)[1]\n",
    "    T = np.zeros([m,1])\n",
    "    T = gradiente_logistico(T, X_nor2, Y)\n",
    "    c = coste_logistico(T[0], X_nor2, Y)\n",
    "    return T[0] , c"
   ]
  },
  {
   "cell_type": "code",
   "execution_count": 207,
   "metadata": {},
   "outputs": [
    {
     "name": "stdout",
     "output_type": "stream",
     "text": [
      "[-0.1        -0.28122914 -0.25098615] 0.8635709865659265\n"
     ]
    }
   ],
   "source": [
    "def main2():\n",
    "    datos = carga_csv(\"ex2data1.csv\")\n",
    "    X = datos[:,:-1]\n",
    "    Y = datos[:,-1]\n",
    "    P , c = descenso_gradiente(X,Y)\n",
    "    print(P, c)\n",
    "    \n",
    "main2()"
   ]
  },
  {
   "cell_type": "markdown",
   "metadata": {},
   "source": [
    "### 1.4. Cálculo del valor óptimo de los parámetros"
   ]
  },
  {
   "cell_type": "code",
   "execution_count": 151,
   "metadata": {},
   "outputs": [],
   "source": [
    "def optimiza():\n",
    "    datos = carga_csv(\"ex2data1.csv\")\n",
    "    X = datos[:,:-1]\n",
    "    Y = datos[:,-1]\n",
    "    n = len(Y)\n",
    "    X = np.hstack([np.ones([n,1]), X])\n",
    "    m = np.shape(X)[1]\n",
    "    T = np.zeros([m,1])\n",
    "    result = opt.fmin_tnc(func=coste_logistico, x0=T, fprime = gradiente_logistico,args=(X, Y))\n",
    "    theta_opt = result[0]\n",
    "    return theta_opt"
   ]
  },
  {
   "cell_type": "code",
   "execution_count": 152,
   "metadata": {},
   "outputs": [
    {
     "data": {
      "text/plain": [
       "array([-25.16131865,   0.20623159,   0.20147149])"
      ]
     },
     "execution_count": 152,
     "metadata": {},
     "output_type": "execute_result"
    }
   ],
   "source": [
    "optimiza()"
   ]
  },
  {
   "cell_type": "code",
   "execution_count": 127,
   "metadata": {},
   "outputs": [],
   "source": [
    "def draw_graph(file_name, labels = ['y = 1', 'y = 0'], line = False, Theta = []):\n",
    "    datos = carga_csv(file_name)\n",
    "    X = datos[:,:-1]\n",
    "    Y = datos[:,-1]\n",
    "    \n",
    "    # Obtiene un vector con los índices de los ejemplos positivos\n",
    "    pos = np.where (Y == 1)\n",
    "    posn = np.where (Y == 0)\n",
    "\n",
    "    # Dibuja los ejemplos positivos\n",
    "    plt.scatter(X[pos, 0], X[pos, 1], marker='+', c='k', label = labels[0])\n",
    "    plt.scatter(X[posn, 0], X[posn, 1], marker='o', c='y', label = labels[1])\n",
    "    plt.legend(loc='upper right')\n",
    "    \n",
    "    if(line):\n",
    "        pinta_frontera_recta(X, Y, Theta, plt)\n",
    "    \n",
    "    plt.show()"
   ]
  },
  {
   "cell_type": "code",
   "execution_count": 155,
   "metadata": {},
   "outputs": [],
   "source": [
    "def frontera(X, Y, theta, plt):\n",
    "    x1_min, x1_max = X[:, 0].min(), X[:, 0].max()\n",
    "    x2_min, x2_max = X[:, 1].min(), X[:, 1].max()\n",
    " \n",
    "    x1, x2 = np.meshgrid(np.linspace(x1_min, x1_max),\n",
    "    np.linspace(x2_min, x2_max))\n",
    " \n",
    "    h = sigmoide(np.c_[np.ones((x1.ravel().shape[0], 1)),\n",
    "    x1.ravel(), \n",
    "    x2.ravel()].dot(theta))\n",
    "    h = h.reshape(x1.shape)\n",
    "    \n",
    "    plt.contour(x1, x2, h, [0.5], linewidths=1, colors='b')"
   ]
  },
  {
   "cell_type": "code",
   "execution_count": 137,
   "metadata": {},
   "outputs": [
    {
     "data": {
      "image/png": "[encoded data removed]",
      "text/plain": [
       "<Figure size 432x288 with 1 Axes>"
      ]
     },
     "metadata": {
      "needs_background": "light"
     },
     "output_type": "display_data"
    }
   ],
   "source": [
    "draw_graph(\"ex2data1.csv\", ['Admited', 'Not admited'], line= True, Theta = optimiza())"
   ]
  },
  {
   "cell_type": "markdown",
   "metadata": {},
   "source": [
    "### 1.5. Evaluación de la regresión logística"
   ]
  },
  {
   "cell_type": "code",
   "execution_count": 213,
   "metadata": {},
   "outputs": [],
   "source": [
    "def evaluacion():\n",
    "    datos = carga_csv(\"ex2data1.csv\")\n",
    "    X = datos[:,:-1]\n",
    "    Y = datos[:,-1]\n",
    "    n = len(Y)\n",
    "    X = np.hstack([np.ones([n,1]), X])\n",
    "    Theta = optimiza()\n",
    "    unos = sigmoide(np.matmul(X,Theta)) >= 5\n",
    "    compara = unos == Y\n",
    "    porcentaje = sum(compara) / n\n",
    "    return porcentaje"
   ]
  },
  {
   "cell_type": "code",
   "execution_count": 214,
   "metadata": {},
   "outputs": [
    {
     "data": {
      "text/plain": [
       "0.4"
      ]
     },
     "execution_count": 214,
     "metadata": {},
     "output_type": "execute_result"
    }
   ],
   "source": [
    "evaluacion()\n",
    "# mal por lo mismo coste y "
   ]
  },
  {
   "cell_type": "markdown",
   "metadata": {},
   "source": [
    "### PARTE 2\n",
    "### Regresión logística regularizada"
   ]
  },
  {
   "cell_type": "code",
   "execution_count": 330,
   "metadata": {
    "scrolled": true
   },
   "outputs": [
    {
     "data": {
      "image/png": "[encoded data removed]",
      "text/plain": [
       "<Figure size 432x288 with 1 Axes>"
      ]
     },
     "metadata": {
      "needs_background": "light"
     },
     "output_type": "display_data"
    }
   ],
   "source": [
    "draw_graph(\"ex2data2.csv\")"
   ]
  },
  {
   "cell_type": "markdown",
   "metadata": {},
   "source": [
    "### 2.1. Mapeo de los atributos"
   ]
  },
  {
   "cell_type": "code",
   "execution_count": 27,
   "metadata": {},
   "outputs": [],
   "source": [
    "import sklearn.preprocessing as pr"
   ]
  },
  {
   "cell_type": "code",
   "execution_count": 39,
   "metadata": {},
   "outputs": [],
   "source": [
    "def plot_decisionboundary(X, Y, theta, poly):\n",
    "    plt.figure()\n",
    "    x1_min, x1_max = X[:, 0].min(), X[:, 0].max()\n",
    "    x2_min, x2_max = X[:, 1].min(), X[:, 1].max()\n",
    "    xx1, xx2 = np.meshgrid(np.linspace(x1_min, x1_max),\n",
    "    np.linspace(x2_min, x2_max))\n",
    "    h = sigmoide(poly.fit_transform(np.c_[xx1.ravel(),\n",
    "    xx2.ravel()]).dot(theta))\n",
    "    h = h.reshape(xx1.shape)\n",
    "    plt.contour(xx1, xx2, h, [0.5], linewidths=1, colors='g')\n",
    "    plt.savefig(\"boundary.pdf\")\n",
    "    plt.close()"
   ]
  },
  {
   "cell_type": "code",
   "execution_count": 40,
   "metadata": {},
   "outputs": [
    {
     "name": "stderr",
     "output_type": "stream",
     "text": [
      "<ipython-input-39-92fc1f63eae7>:10: UserWarning: No contour levels were found within the data range.\n",
      "  plt.contour(xx1, xx2, h, [0.5], linewidths=1, colors='g')\n"
     ]
    }
   ],
   "source": [
    "datos = carga_csv(\"ex2data1.csv\")\n",
    "X = datos[:,:-1]\n",
    "Y = datos[:,-1]\n",
    "n = len(Y)\n",
    "X = np.hstack([np.ones([n,1]), X])\n",
    "m = np.shape(X)[1]\n",
    "T = np.ones([6,1])\n",
    "plot_decisionboundary(X, Y, T, pr.PolynomialFeatures(2))"
   ]
  },
  {
   "cell_type": "markdown",
   "metadata": {},
   "source": [
    "### 2.2. Cálculo de la función de coste y su gradiente"
   ]
  },
  {
   "cell_type": "code",
   "execution_count": 192,
   "metadata": {},
   "outputs": [],
   "source": [
    "def coste_regularizado(T, X, Y, landa):\n",
    "    G = sigmoide(np.dot(X, T))\n",
    "    #falla porq G es todo unos no se muy bien porq\n",
    "    coste = (- 1 / (len(X))) * (np.dot(Y, np.log(G)) \n",
    "                                + np.dot((1 - Y), np.log(1 - G))) \n",
    "                                + (landa / 2*(len(X)))\n",
    "    \n",
    "    return coste"
   ]
  },
  {
   "cell_type": "code",
   "execution_count": 187,
   "metadata": {},
   "outputs": [],
   "source": [
    "def gradiente_regularizado(T, X, Y, landa):\n",
    "    m = len(Y)\n",
    "    G = sigmoide(np.matmul(X, T))\n",
    "    Dif = (np.transpose(G) - Y)\n",
    "    gradiente = (1/m)*np.dot(Dif, X) + (landa/m)*T[j]\n",
    "    return gradiente"
   ]
  },
  {
   "cell_type": "markdown",
   "metadata": {},
   "source": [
    "### 2.3. Cálculo del valor óptimo de los parámetros"
   ]
  },
  {
   "cell_type": "code",
   "execution_count": 151,
   "metadata": {},
   "outputs": [],
   "source": [
    "def optimiza():\n",
    "    datos = carga_csv(\"ex2data1.csv\")\n",
    "    X = datos[:,:-1]\n",
    "    Y = datos[:,-1]\n",
    "    n = len(Y)\n",
    "    X = np.hstack([np.ones([n,1]), X])\n",
    "    m = np.shape(X)[1]\n",
    "    T = np.zeros([m,1])\n",
    "    \n",
    "    ##############################################\n",
    "    ######## Falta el mapeo de atributos #########\n",
    "    ##############################################\n",
    "    \n",
    "    \n",
    "    result = opt.fmin_tnc(func=coste_regularizado, x0=T, fprime = gradiente_regularizado,args=(X, Y))\n",
    "    theta_opt = result[0]\n",
    "    return theta_opt"
   ]
  },
  {
   "cell_type": "markdown",
   "metadata": {},
   "source": [
    "### 2..4. Efectos de la regularización"
   ]
  },
  {
   "cell_type": "code",
   "execution_count": null,
   "metadata": {},
   "outputs": [],
   "source": []
  }
 ],
 "metadata": {
  "kernelspec": {
   "display_name": "Python 3",
   "language": "python",
   "name": "python3"
  },
  "language_info": {
   "codemirror_mode": {
    "name": "ipython",
    "version": 3
   },
   "file_extension": ".py",
   "mimetype": "text/x-python",
   "name": "python",
   "nbconvert_exporter": "python",
   "pygments_lexer": "ipython3",
   "version": "3.8.3"
  }
 },
 "nbformat": 4,
 "nbformat_minor": 4
}
