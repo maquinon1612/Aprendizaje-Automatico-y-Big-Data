{
 "cells": [
  {
   "cell_type": "markdown",
   "metadata": {},
   "source": [
    "# Práctica 2 : Regresión Logística"
   ]
  },
  {
   "cell_type": "markdown",
   "metadata": {},
   "source": [
    "Guillermo García Patiño Lenza y Mario Quiñones Pérez"
   ]
  },
  {
   "cell_type": "code",
   "execution_count": 4,
   "metadata": {},
   "outputs": [],
   "source": [
    "import numpy as np\n",
    "from pandas.io.parsers import read_csv\n",
    "import matplotlib.pyplot as plt\n",
    "from matplotlib import cm\n",
    "from matplotlib.ticker import LinearLocator, FormatStrFormatter\n",
    "from mpl_toolkits.mplot3d import Axes3D\n",
    "import scipy.optimize as opt"
   ]
  },
  {
   "cell_type": "markdown",
   "metadata": {},
   "source": [
    "## Parte 1:"
   ]
  },
  {
   "cell_type": "markdown",
   "metadata": {},
   "source": [
    "### Carga y visualización de los datos"
   ]
  },
  {
   "cell_type": "code",
   "execution_count": 5,
   "metadata": {},
   "outputs": [],
   "source": [
    "def cargaDatos(fichero):\n",
    "    datos = read_csv(fichero, header = None).to_numpy()\n",
    "    return datos.astype(float)"
   ]
  },
  {
   "cell_type": "code",
   "execution_count": 6,
   "metadata": {},
   "outputs": [],
   "source": [
    "def crearGrafica(datos, labels = ['y = 1', 'y = 0']):\n",
    "    X = datos[:,:-1]\n",
    "    Y = datos[:,-1]\n",
    "    \n",
    "    c1 = np.where(Y == 1)\n",
    "    c2 = np.where(Y == 0)\n",
    "    \n",
    "    plt.scatter(X[c1,0], X[c1,1] , marker = '+', c = 'k', label = labels[0])\n",
    "    plt.scatter(X[c2,0], X[c2,1], marker = 'o', c = 'y', label = labels[1])\n",
    "    plt.legend(loc = 'upper right')\n",
    "    plt.show()"
   ]
  },
  {
   "cell_type": "code",
   "execution_count": 7,
   "metadata": {},
   "outputs": [
    {
     "data": {
      "image/png": "[encoded data removed]",
      "text/plain": [
       "<Figure size 432x288 with 1 Axes>"
      ]
     },
     "metadata": {
      "needs_background": "light"
     },
     "output_type": "display_data"
    }
   ],
   "source": [
    "crearGrafica(cargaDatos(\"ex2data1.csv\"), ['Admited', 'Not admited'])"
   ]
  },
  {
   "cell_type": "markdown",
   "metadata": {},
   "source": [
    "### Funcion Sigmoide"
   ]
  },
  {
   "cell_type": "code",
   "execution_count": 8,
   "metadata": {},
   "outputs": [],
   "source": [
    "def sigmoide(Z):\n",
    "    sigmoide = 1 / (1 + np.exp(-Z))\n",
    "    return sigmoide"
   ]
  },
  {
   "cell_type": "markdown",
   "metadata": {},
   "source": [
    "### Cálculo de la función de coste y gradiente"
   ]
  },
  {
   "cell_type": "code",
   "execution_count": 9,
   "metadata": {},
   "outputs": [],
   "source": [
    "def normalizar(X):\n",
    "    mu = np.mean(X, axis=0)\n",
    "    sigma = np.std(X, axis=0)\n",
    "    X_norm = (X-mu)/sigma\n",
    "    return(X_norm, mu, sigma)"
   ]
  },
  {
   "cell_type": "code",
   "execution_count": 10,
   "metadata": {},
   "outputs": [],
   "source": [
    "def coste(Theta, X, Y):\n",
    "    G = sigmoide(np.dot(X, Theta))\n",
    "    sum1 = np.dot(Y, np.log(G))\n",
    "    sum2 = np.dot((1-Y), np.log(1 - G))\n",
    "    return (-1 / X.shape[0]) * (sum1 + sum2)"
   ]
  },
  {
   "cell_type": "code",
   "execution_count": 11,
   "metadata": {},
   "outputs": [],
   "source": [
    "def gradiente(Theta, X, Y):\n",
    "    m = X.shape[0]\n",
    "    G = sigmoide( np.matmul(X,Theta) )\n",
    "    gradiente  = (1 / len(Y)) * np.matmul(X.T, G - Y)\n",
    "    return gradiente"
   ]
  },
  {
   "cell_type": "code",
   "execution_count": 12,
   "metadata": {},
   "outputs": [],
   "source": [
    "def prueba():\n",
    "    datos = cargaDatos(\"ex2data1.csv\")\n",
    "    X = datos[:,:-1]\n",
    "    Y = datos[:,-1]\n",
    "    n = len(Y)\n",
    "    \n",
    "    X2,mu,sigma = normalizar(X)\n",
    "    X2 = np.hstack([np.ones([n,1]), X2])\n",
    "    \n",
    "    c = coste(np.zeros(X2.shape[1]), X2, Y)\n",
    "    gr = gradiente(np.zeros(X2.shape[1]),X2,Y)\n",
    "    print(gr)\n",
    "    print(c)"
   ]
  },
  {
   "cell_type": "code",
   "execution_count": 13,
   "metadata": {},
   "outputs": [
    {
     "name": "stdout",
     "output_type": "stream",
     "text": [
      "[-0.1        -0.28122914 -0.25098615]\n",
      "0.6931471805599453\n"
     ]
    }
   ],
   "source": [
    "prueba()"
   ]
  },
  {
   "cell_type": "markdown",
   "metadata": {},
   "source": [
    "### Cálculo del valor óptimo de los parámetros"
   ]
  },
  {
   "cell_type": "code",
   "execution_count": 69,
   "metadata": {},
   "outputs": [],
   "source": [
    "def optimiza(datos = cargaDatos(\"ex2data1.csv\")):\n",
    "    X = datos[:,:-1]\n",
    "    Y = datos[:,-1]\n",
    "    n = len(Y)\n",
    "    \n",
    "    X_n, mu, sigma = normalizar(X)\n",
    "    X_n = np.hstack([np.ones([n,1]), X_n])\n",
    "    T = np.zeros(X.shape[1]+1)\n",
    "    \n",
    "    result = opt.fmin_tnc(func = coste, x0 = T, fprime = gradiente, args = (X_n, Y))\n",
    "    \n",
    "    c_f = coste(result[0], X_n, Y )\n",
    "    print(c_f)\n",
    "    print(result[0])\n",
    "    \n",
    "    return result[0]"
   ]
  },
  {
   "cell_type": "code",
   "execution_count": 70,
   "metadata": {},
   "outputs": [],
   "source": [
    "def optimizaparagrafica(datos = cargaDatos(\"ex2data1.csv\")):\n",
    "    X = datos[:,:-1]\n",
    "    Y = datos[:,-1]\n",
    "    n = len(Y)\n",
    "    \n",
    "    X = np.hstack([np.ones([n,1]), X])\n",
    "    m = np.shape(X)[1]\n",
    "    T = np.zeros([m,1])\n",
    "    \n",
    "    result = opt.fmin_tnc(func=coste, x0=T, fprime = gradiente,args=(X, Y))\n",
    "    \n",
    "    c_f = coste(result[0], X, Y)\n",
    "    print(c_f)\n",
    "    \n",
    "    theta_opt = result[0]\n",
    "    return theta_opt"
   ]
  },
  {
   "cell_type": "code",
   "execution_count": 15,
   "metadata": {},
   "outputs": [
    {
     "name": "stdout",
     "output_type": "stream",
     "text": [
      "0.20349771564653243\n",
      "[1.71787865 3.99150584 3.72363972]\n"
     ]
    },
    {
     "data": {
      "text/plain": [
       "array([1.71787865, 3.99150584, 3.72363972])"
      ]
     },
     "execution_count": 15,
     "metadata": {},
     "output_type": "execute_result"
    }
   ],
   "source": [
    "optimiza()"
   ]
  },
  {
   "cell_type": "code",
   "execution_count": 16,
   "metadata": {},
   "outputs": [],
   "source": [
    "def frontera(X, Y, theta, plt):\n",
    "    x1_min, x1_max = X[:, 0].min(), X[:, 0].max()\n",
    "    x2_min, x2_max = X[:, 1].min(), X[:, 1].max()\n",
    " \n",
    "    x1, x2 = np.meshgrid(np.linspace(x1_min, x1_max), np.linspace(x2_min, x2_max))\n",
    " \n",
    "    h = sigmoide(np.c_[np.ones((x1.ravel().shape[0], 1)), x1.ravel(), x2.ravel()].dot(theta))\n",
    "    h = h.reshape(x1.shape)\n",
    "    \n",
    "    plt.contour(x1, x2, h, [0.5], linewidths=1, colors='b')"
   ]
  },
  {
   "cell_type": "code",
   "execution_count": 17,
   "metadata": {},
   "outputs": [],
   "source": [
    "def crearGraficaConFrontera(datos, Theta, labels = ['y = 1', 'y = 0']):\n",
    "    X = datos[:,:-1]\n",
    "    Y = datos[:,-1]\n",
    "    \n",
    "    c1 = np.where(Y == 1)\n",
    "    c2 = np.where(Y == 0)\n",
    "    \n",
    "    plt.scatter(X[c1,0], X[c1,1] , marker = '+', c = 'k', label = labels[0])\n",
    "    plt.scatter(X[c2,0], X[c2,1], marker = 'o', c = 'y', label = labels[1])\n",
    "    plt.legend(loc = 'upper right')\n",
    "    \n",
    "    frontera(X, Y, Theta, plt)\n",
    "    \n",
    "    plt.show()"
   ]
  },
  {
   "cell_type": "code",
   "execution_count": 18,
   "metadata": {},
   "outputs": [
    {
     "name": "stdout",
     "output_type": "stream",
     "text": [
      "0.20349770158947458\n"
     ]
    },
    {
     "data": {
      "image/png": "[encoded data removed]",
      "text/plain": [
       "<Figure size 432x288 with 1 Axes>"
      ]
     },
     "metadata": {
      "needs_background": "light"
     },
     "output_type": "display_data"
    }
   ],
   "source": [
    "crearGraficaConFrontera(cargaDatos(\"ex2data1.csv\"), optimizaparagrafica(), ['Admited', 'Not admited'])"
   ]
  },
  {
   "cell_type": "markdown",
   "metadata": {},
   "source": [
    "### Evaluación de la regresión"
   ]
  },
  {
   "cell_type": "code",
   "execution_count": 19,
   "metadata": {},
   "outputs": [],
   "source": [
    "def evalua(datos, parte_entrenamiento):\n",
    "    f = round(len(datos) * parte_entrenamiento / 100)\n",
    "    datos_ent = datos[:f]\n",
    "    datos_eva = datos[f:]\n",
    "    \n",
    "    theta = optimiza(datos_ent)\n",
    "    \n",
    "    dat_ev_x = datos_eva[:,:-1]\n",
    "    dat_ev_y = datos_eva[:,-1]\n",
    "    \n",
    "    dat_ev_x_n, mu, sigma = normalizar(dat_ev_x)\n",
    "    dat_ev_x_n = np.hstack([np.ones([len(datos_eva),1]), dat_ev_x_n])\n",
    "    \n",
    "    res_eva = np.dot(dat_ev_x_n, theta)\n",
    "    res_eva_m = [] \n",
    "    for e in map(lambda x : 1 if x >= 0.5 else 0, res_eva):\n",
    "        res_eva_m.append(e)\n",
    "        \n",
    "    iguales = filter(lambda x : dat_ev_y[res_eva_m.index(x)] == x , res_eva_m)\n",
    "    \n",
    "    i = 0;\n",
    "    for e in iguales:\n",
    "        i = i+1\n",
    "    \n",
    "    print(\"Se ha predicho correctamente el resultado un {}% de las veces\".format(i/len(datos_eva) * 100))\n",
    "    \n",
    "    return (i/len(datos_eva)*100)"
   ]
  },
  {
   "cell_type": "code",
   "execution_count": 20,
   "metadata": {},
   "outputs": [
    {
     "name": "stdout",
     "output_type": "stream",
     "text": [
      "0.19456570964464878\n",
      "[0.63167769 4.16277648 3.60606694]\n",
      "Se ha predicho correctamente el resultado un 48.0% de las veces\n"
     ]
    },
    {
     "data": {
      "text/plain": [
       "48.0"
      ]
     },
     "execution_count": 20,
     "metadata": {},
     "output_type": "execute_result"
    }
   ],
   "source": [
    "evalua(cargaDatos(\"ex2data1.csv\"), 75)"
   ]
  },
  {
   "cell_type": "markdown",
   "metadata": {},
   "source": [
    "## Parte 2:\n",
    "\n",
    "### Carga y visualización de datos:"
   ]
  },
  {
   "cell_type": "code",
   "execution_count": 21,
   "metadata": {},
   "outputs": [
    {
     "data": {
      "image/png": "[encoded data removed]",
      "text/plain": [
       "<Figure size 432x288 with 1 Axes>"
      ]
     },
     "metadata": {
      "needs_background": "light"
     },
     "output_type": "display_data"
    }
   ],
   "source": [
    "crearGrafica(cargaDatos(\"ex2data2.csv\"), ['Y = 1', 'Y = 0'])"
   ]
  },
  {
   "cell_type": "markdown",
   "metadata": {},
   "source": [
    "### Mapeo de los atributos:"
   ]
  },
  {
   "cell_type": "code",
   "execution_count": 22,
   "metadata": {},
   "outputs": [],
   "source": [
    "from sklearn.preprocessing import PolynomialFeatures\n",
    "\n",
    "def prepara_datos(datos, add):\n",
    "    X = datos[:,:-1]\n",
    "    Y = datos[:,-1]\n",
    "    \n",
    "    X_n, mu, sigma = normalizar(X)\n",
    "    \n",
    "    p = PolynomialFeatures(add)\n",
    "    X2 = p.fit_transform(X_n)\n",
    "    \n",
    "    return (X2,Y,mu,sigma)"
   ]
  },
  {
   "cell_type": "markdown",
   "metadata": {},
   "source": [
    "### Cálculo del coste y el gradiente regularizados"
   ]
  },
  {
   "cell_type": "code",
   "execution_count": 23,
   "metadata": {},
   "outputs": [],
   "source": [
    "def coste_reg(Theta,X,Y, Lambda):\n",
    "    c = coste(Theta,X,Y)\n",
    "    m = X.shape[0]\n",
    "    e = 0\n",
    "    \n",
    "    for t in range(1,len(Theta)):\n",
    "        e += Theta[t]**2\n",
    "        \n",
    "    return c + (Lambda/(2*m))*e"
   ]
  },
  {
   "cell_type": "code",
   "execution_count": 24,
   "metadata": {},
   "outputs": [],
   "source": [
    "def gradiente_reg(Theta,X,Y,Lambda):\n",
    "    m = X.shape[0]\n",
    "    gr = gradiente(Theta,X,Y)\n",
    "    theta2 = (Lambda/m)*Theta\n",
    "    return (gr + theta2)"
   ]
  },
  {
   "cell_type": "code",
   "execution_count": 25,
   "metadata": {},
   "outputs": [],
   "source": [
    "def prueba2():\n",
    "    datos = cargaDatos(\"ex2data2.csv\")\n",
    "    X, Y, mu, sigma = prepara_datos(datos, 6)\n",
    "   \n",
    "    Theta = np.zeros(X.shape[1])\n",
    "    \n",
    "    c = coste_reg(Theta,X,Y,1)\n",
    "    gr = gradiente_reg(Theta,X,Y,1)\n",
    "   \n",
    "    print(gr)\n",
    "    print(c)"
   ]
  },
  {
   "cell_type": "code",
   "execution_count": 26,
   "metadata": {},
   "outputs": [
    {
     "name": "stdout",
     "output_type": "stream",
     "text": [
      "[ 0.00847458  0.03705198 -0.00284799  0.19753354  0.03181133  0.14157707\n",
      "  0.08474569 -0.02197759  0.01912472  0.01978675  0.60552761 -0.01178425\n",
      "  0.17516318 -0.00748334  0.41389202  0.32662613 -0.08620202  0.03911234\n",
      " -0.02213139  0.05549666  0.01571     1.78985126 -0.11770386  0.34722535\n",
      " -0.07226827  0.2933989  -0.11751531  1.15773589]\n",
      "0.6931471805599453\n"
     ]
    }
   ],
   "source": [
    "prueba2()"
   ]
  },
  {
   "cell_type": "markdown",
   "metadata": {},
   "source": [
    "### Cálculo de los valores óptimos:"
   ]
  },
  {
   "cell_type": "code",
   "execution_count": 27,
   "metadata": {},
   "outputs": [],
   "source": [
    "def preparaFunciones(Lambda):\n",
    "    c = lambda Theta,X,Y : coste_reg(Theta,X,Y,Lambda)\n",
    "    gr = lambda Theta,X,Y : gradiente_reg(Theta,X,Y,Lambda)\n",
    "    \n",
    "    return (c,gr)"
   ]
  },
  {
   "cell_type": "code",
   "execution_count": 48,
   "metadata": {},
   "outputs": [],
   "source": [
    "def optimiza_reg(datos,Lambda):\n",
    "    X, Y, mu, sigma = prepara_datos(datos,6)\n",
    "    c, gr = preparaFunciones(Lambda)\n",
    "    \n",
    "    T = np.zeros(X.shape[1])\n",
    "\n",
    "    result = opt.fmin_tnc(func = c, x0 = T, fprime = gr, args = (X, Y))\n",
    "    c_f = coste(result[0], X, Y)\n",
    "    print(\"coste:\", c_f)\n",
    "    return result[0]"
   ]
  },
  {
   "cell_type": "code",
   "execution_count": 68,
   "metadata": {},
   "outputs": [
    {
     "name": "stdout",
     "output_type": "stream",
     "text": [
      "coste: 0.31064314472446225\n"
     ]
    },
    {
     "data": {
      "text/plain": [
       "array([ 1.7903008 , -0.20810284,  0.35766677,  0.34424822, -0.36085601,\n",
       "        0.20176854,  0.16024196,  0.28060681,  0.06676788, -0.30579355,\n",
       "        0.30662686, -0.00676247, -0.57664467, -0.51383133, -0.19082302,\n",
       "       -0.05641764, -0.07118331,  0.82605945, -0.34853422, -0.44094965,\n",
       "       -0.05126368, -0.44397464, -0.1982422 , -0.46715723,  0.01152511,\n",
       "       -0.87767704, -0.6908056 , -0.33307882])"
      ]
     },
     "execution_count": 68,
     "metadata": {},
     "output_type": "execute_result"
    }
   ],
   "source": [
    "datos = cargaDatos(\"ex2data2.csv\")\n",
    "optimiza_reg(datos, 1)"
   ]
  },
  {
   "cell_type": "code",
   "execution_count": 62,
   "metadata": {},
   "outputs": [],
   "source": [
    "def optimiza_reg_paragrafica(datos,Lambda):\n",
    "    X_aux = datos[:,:-1]\n",
    "    Y = datos[:,-1]\n",
    "    \n",
    "    p = PolynomialFeatures(6)\n",
    "    X = p.fit_transform(X_aux)\n",
    "    \n",
    "    c, gr = preparaFunciones(Lambda)\n",
    "    \n",
    "    T = np.zeros(X.shape[1])\n",
    "\n",
    "    result = opt.fmin_tnc(func = c, x0 = T, fprime = gr, args = (X, Y))\n",
    "    c_f = coste(result[0], X, Y)\n",
    "    print(\"coste:\", c_f)\n",
    "    return result[0]"
   ]
  },
  {
   "cell_type": "code",
   "execution_count": 63,
   "metadata": {},
   "outputs": [],
   "source": [
    "def crearGraficaConFrontera2(datos, Theta, labels = ['y = 1', 'y = 0']):\n",
    "    X = datos[:,:-1]\n",
    "    Y = datos[:,-1]\n",
    "    \n",
    "    c1 = np.where(Y == 1)\n",
    "    c2 = np.where(Y == 0)\n",
    "    \n",
    "    plt.scatter(X[c1,0], X[c1,1] , marker = '+', c = 'k', label = labels[0])\n",
    "    plt.scatter(X[c2,0], X[c2,1], marker = 'o', c = 'y', label = labels[1])\n",
    "    plt.legend(loc = 'upper right')\n",
    "    \n",
    "    frontera2(X, Y, Theta, PolynomialFeatures(6), plt)\n",
    "    \n",
    "    plt.show()"
   ]
  },
  {
   "cell_type": "code",
   "execution_count": 64,
   "metadata": {},
   "outputs": [],
   "source": [
    "def frontera2(X, Y, theta, poly, plt):\n",
    "    x1_min, x1_max = X[:, 0].min(), X[:, 0].max()\n",
    "    x2_min, x2_max = X[:, 1].min(), X[:, 1].max()\n",
    "    \n",
    "    xx1, xx2 = np.meshgrid(np.linspace(x1_min, x1_max), np.linspace(x2_min, x2_max))\n",
    "    \n",
    "    h = sigmoide(poly.fit_transform(np.c_[xx1.ravel(),xx2.ravel()]).dot(theta))\n",
    "    h = h.reshape(xx1.shape)\n",
    "    \n",
    "    plt.contour(xx1, xx2, h, [0.5], linewidths=1, colors='g')"
   ]
  },
  {
   "cell_type": "code",
   "execution_count": 67,
   "metadata": {},
   "outputs": [
    {
     "name": "stdout",
     "output_type": "stream",
     "text": [
      "coste: 0.46822079610635636\n"
     ]
    },
    {
     "data": {
      "image/png": "[encoded data removed]",
      "text/plain": [
       "<Figure size 432x288 with 1 Axes>"
      ]
     },
     "metadata": {
      "needs_background": "light"
     },
     "output_type": "display_data"
    }
   ],
   "source": [
    "datos = cargaDatos(\"ex2data2.csv\")\n",
    "crearGraficaConFrontera2(datos, optimiza_reg_paragrafica(datos, 1), ['Admited', 'Not admited'])"
   ]
  },
  {
   "cell_type": "markdown",
   "metadata": {},
   "source": [
    "### Efectos de la regularizacion:"
   ]
  },
  {
   "cell_type": "code",
   "execution_count": 45,
   "metadata": {},
   "outputs": [],
   "source": [
    "def evalua_reg(datos, parte_entrenamiento, Lambda):\n",
    "    f = round(len(datos) * parte_entrenamiento / 100)\n",
    "    datos_ent = datos[:f]\n",
    "    datos_eva = datos[f:]\n",
    "    \n",
    "    theta = optimiza_reg(datos_ent,Lambda)\n",
    "    \n",
    "    dat_ev_x_n , dat_ev_y, mu, sigma = prepara_datos(datos_eva,6)\n",
    "    \n",
    "    res_eva = np.dot(dat_ev_x_n, theta)\n",
    "    res_eva_m = [] \n",
    "    for e in map(lambda x : 1 if x >= 0.5 else 0, res_eva):\n",
    "        res_eva_m.append(e)\n",
    "        \n",
    "    iguales = filter(lambda x : dat_ev_y[res_eva_m.index(x)] == x , res_eva_m)\n",
    "    \n",
    "    i = 0;\n",
    "    for e in iguales:\n",
    "        i = i+1\n",
    "    \n",
    "    return (i/len(datos_eva)*100)"
   ]
  },
  {
   "cell_type": "code",
   "execution_count": 46,
   "metadata": {},
   "outputs": [],
   "source": [
    "def grafica_ev():\n",
    "    datos = cargaDatos(\"ex2data2.csv\")\n",
    "    X = []\n",
    "    Y = []\n",
    "    for i in range(1,100):\n",
    "        X.append(i)\n",
    "        Y.append(evalua_reg(datos,75,i))\n",
    "    \n",
    "    plt.figure()\n",
    "    plt.plot(X,Y)\n",
    "    plt.show()"
   ]
  },
  {
   "cell_type": "code",
   "execution_count": 47,
   "metadata": {},
   "outputs": [
    {
     "data": {
      "image/png": "[encoded data removed]",
      "text/plain": [
       "<Figure size 432x288 with 1 Axes>"
      ]
     },
     "metadata": {
      "needs_background": "light"
     },
     "output_type": "display_data"
    }
   ],
   "source": [
    "grafica_ev()"
   ]
  }
 ],
 "metadata": {
  "kernelspec": {
   "display_name": "Python 3",
   "language": "python",
   "name": "python3"
  },
  "language_info": {
   "codemirror_mode": {
    "name": "ipython",
    "version": 3
   },
   "file_extension": ".py",
   "mimetype": "text/x-python",
   "name": "python",
   "nbconvert_exporter": "python",
   "pygments_lexer": "ipython3",
   "version": "3.8.3"
  }
 },
 "nbformat": 4,
 "nbformat_minor": 4
}
