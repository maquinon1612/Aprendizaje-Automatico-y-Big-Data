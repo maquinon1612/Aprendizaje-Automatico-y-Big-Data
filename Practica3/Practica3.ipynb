{
 "cells": [
  {
   "cell_type": "markdown",
   "metadata": {},
   "source": [
    "# Práctica 3: Regresión Logística Multi-clase y Redes Neuronales"
   ]
  },
  {
   "cell_type": "markdown",
   "metadata": {},
   "source": [
    "Mario Quiñones Pérez y Guillermo García Patiño Lenza"
   ]
  },
  {
   "cell_type": "markdown",
   "metadata": {},
   "source": [
    "## Parte 1: Regresión logística multi-clase"
   ]
  },
  {
   "cell_type": "markdown",
   "metadata": {},
   "source": [
    "### Visualización de los datos"
   ]
  },
  {
   "cell_type": "code",
   "execution_count": 42,
   "metadata": {},
   "outputs": [],
   "source": [
    "from scipy.io import loadmat\n",
    "import matplotlib.pyplot as plt\n",
    "import numpy as np\n",
    "import scipy.optimize as opt"
   ]
  },
  {
   "cell_type": "code",
   "execution_count": 4,
   "metadata": {},
   "outputs": [],
   "source": [
    "def cargaDatos(file = 'ex3data1.mat'):\n",
    "    data = loadmat(file)\n",
    "    y = data['y']\n",
    "    X = data['X']\n",
    "    return X,y"
   ]
  },
  {
   "cell_type": "code",
   "execution_count": 17,
   "metadata": {},
   "outputs": [],
   "source": [
    "def verEjemplos():\n",
    "    X,y = cargaDatos()\n",
    "    ejs = np.random.choice(X.shape[0], 10)\n",
    "    plt.imshow(X[ejs, :].reshape(-1,20).T)\n",
    "    plt.axis('off')"
   ]
  },
  {
   "cell_type": "code",
   "execution_count": 18,
   "metadata": {},
   "outputs": [
    {
     "data": {
      "image/png": "[encoded data removed]",
      "text/plain": [
       "<Figure size 432x288 with 1 Axes>"
      ]
     },
     "metadata": {
      "needs_background": "light"
     },
     "output_type": "display_data"
    }
   ],
   "source": [
    "verEjemplos()"
   ]
  },
  {
   "cell_type": "markdown",
   "metadata": {},
   "source": [
    "### Clasificación de uno frente a todos"
   ]
  },
  {
   "cell_type": "markdown",
   "metadata": {},
   "source": [
    "#### Código de regresión logística de la práctica anterior"
   ]
  },
  {
   "cell_type": "code",
   "execution_count": 69,
   "metadata": {},
   "outputs": [],
   "source": [
    "def sigmoide(Z):\n",
    "    sigmoide = 1 / (1 + np.exp(-Z))\n",
    "    return sigmoide"
   ]
  },
  {
   "cell_type": "code",
   "execution_count": 70,
   "metadata": {},
   "outputs": [],
   "source": [
    "def coste(Theta, X, Y):\n",
    "    G = sigmoide(np.dot(X, Theta))\n",
    "    sum1 = np.dot(Y, np.log(G))\n",
    "    sum2 = np.dot((1-Y), np.log(1 - G))\n",
    "    return (-1 / X.shape[0]) * (sum1 + sum2)"
   ]
  },
  {
   "cell_type": "code",
   "execution_count": 71,
   "metadata": {},
   "outputs": [],
   "source": [
    "def gradiente(Theta, X, Y):\n",
    "    m = X.shape[0]\n",
    "    G = sigmoide( np.matmul(X,Theta) )\n",
    "    gradiente  = (1 / len(Y)) * np.matmul(X.T, G - Y)\n",
    "    return gradiente"
   ]
  },
  {
   "cell_type": "code",
   "execution_count": 72,
   "metadata": {},
   "outputs": [],
   "source": [
    "def coste_reg(Theta,X,Y, Lambda):\n",
    "    c = coste(Theta,X,Y)\n",
    "    m = X.shape[0]\n",
    "    e = 0\n",
    "    \n",
    "    for t in range(1,len(Theta)):\n",
    "        e += Theta[t]**2\n",
    "        \n",
    "    return c + (Lambda/(2*m))*e"
   ]
  },
  {
   "cell_type": "code",
   "execution_count": 81,
   "metadata": {},
   "outputs": [],
   "source": [
    "def gradiente_reg(Theta,X,Y,Lambda):\n",
    "    m = X.shape[0]\n",
    "    gr = gradiente(Theta,X,Y)\n",
    "    theta2 = (Lambda/m)*Theta\n",
    "    return (gr + theta2)"
   ]
  },
  {
   "cell_type": "code",
   "execution_count": 74,
   "metadata": {},
   "outputs": [],
   "source": [
    "def preparaFunciones(Lambda):\n",
    "    c = lambda Theta,X,Y : coste_reg(Theta,X,Y,Lambda)\n",
    "    gr = lambda Theta,X,Y : gradiente_reg(Theta,X,Y,Lambda)\n",
    "    \n",
    "    return (c,gr)"
   ]
  },
  {
   "cell_type": "code",
   "execution_count": 75,
   "metadata": {},
   "outputs": [],
   "source": [
    "\n",
    "def prepara_datos(X, y, et):\n",
    "   \n",
    "    Y2 = (y == et) * 1\n",
    "    ## Aquí hay que hacer ravel de Y2 para pasar de (5000,1) a (5000,1)\n",
    "    ## y conseguir que funcione como en la practica anterior\n",
    "    Y2 = np.ravel(Y2)\n",
    "    return (X,Y2)"
   ]
  },
  {
   "cell_type": "code",
   "execution_count": 76,
   "metadata": {},
   "outputs": [],
   "source": [
    "def optimiza_reg(X,Y,Lambda,et):\n",
    "    X, Y= prepara_datos(X,Y,et)\n",
    "    c, gr = preparaFunciones(Lambda)\n",
    "    \n",
    "    T = np.zeros(X.shape[1])\n",
    "\n",
    "    result = opt.fmin_tnc(func = c, x0 = T, fprime = gr, args = (X, Y))\n",
    "    c_f = coste(result[0], X, Y)\n",
    "    print(\"coste:\", c_f)\n",
    "    return result[0]"
   ]
  },
  {
   "cell_type": "code",
   "execution_count": 77,
   "metadata": {},
   "outputs": [],
   "source": [
    "def prueba2():\n",
    "    X,Y = cargaDatos(\"ex3data1.mat\")\n",
    "    X, Y= prepara_datos(X,Y,0)\n",
    "    print(X.shape)\n",
    "    print(Y.shape)\n",
    "    Theta = np.zeros(X.shape[1])\n",
    "    print(\"Theta shape = {}\".format(Theta.shape))\n",
    "    c = coste_reg(Theta,X,Y,1)\n",
    "    gr = gradiente_reg(Theta,X,Y,1)\n",
    "   \n",
    "    print(gr)\n",
    "    print(c)"
   ]
  },
  {
   "cell_type": "code",
   "execution_count": 78,
   "metadata": {},
   "outputs": [
    {
     "name": "stdout",
     "output_type": "stream",
     "text": [
      "(5000, 400)\n",
      "(5000,)\n",
      "Theta shape = (400,)\n",
      "(400,)\n",
      "(400,)\n",
      "[ 0.00000000e+00  0.00000000e+00  7.74530186e-08 -9.40902437e-07\n",
      " -1.79007864e-06  5.86512034e-05  7.26926011e-05  4.02459167e-05\n",
      "  9.71628200e-06  2.18079282e-05  7.05070976e-06 -5.42333538e-06\n",
      " -1.17534888e-05 -2.08794594e-05 -3.26743345e-05 -2.35833248e-05\n",
      " -6.85661765e-06 -4.63698993e-08  7.31889978e-08  0.00000000e+00\n",
      "  2.46800109e-08 -1.99142157e-07 -8.34097672e-07 -2.56452717e-06\n",
      " -1.42989907e-05  8.20161952e-05  2.98347610e-04  4.47927389e-04\n",
      "  3.53500706e-04  1.34235160e-04 -5.08286237e-05 -1.07588366e-04\n",
      " -1.22462028e-04 -1.44337163e-04 -4.72887646e-05 -4.79718988e-06\n",
      " -2.62880753e-05 -2.72380695e-05 -3.87105120e-06 -8.85893246e-07\n",
      " -2.11721903e-07  2.19507970e-06 -1.01278496e-05  6.81754837e-05\n",
      "  4.25397106e-04  1.41530164e-03  2.43250783e-03  2.72626481e-03\n",
      "  2.02807562e-03  9.81235352e-04  6.25010594e-04  6.15115590e-04\n",
      "  1.64897029e-03  3.95392176e-03  5.04357806e-03  3.04967608e-03\n",
      "  9.54579084e-04  2.62531208e-04 -1.00785673e-05  3.15735872e-06\n",
      " -8.84572440e-07  1.54105392e-08  2.45416463e-05  8.81274639e-04\n",
      "  2.89386396e-03  7.03005812e-03  1.05938963e-02  1.14376544e-02\n",
      "  1.07756333e-02  1.06509609e-02  1.30730452e-02  1.69488102e-02\n",
      "  2.31335751e-02  2.96130321e-02  3.09336392e-02  2.13325233e-02\n",
      "  8.66490331e-03  2.08044143e-03  3.27671565e-04  7.26711891e-05\n",
      " -1.03162105e-06 -2.60338406e-05  2.40512178e-04  2.94843299e-03\n",
      "  9.44491932e-03  1.85659304e-02  2.75497104e-02  3.17922408e-02\n",
      "  3.50442940e-02  4.20309881e-02  5.11297941e-02  5.83610217e-02\n",
      "  6.42282771e-02  7.26036712e-02  7.77248111e-02  6.24182197e-02\n",
      "  3.08124993e-02  8.10324368e-03  2.00576875e-03  4.59160471e-04\n",
      "  1.33602141e-05  2.29773574e-05  8.79951595e-04  7.97645157e-03\n",
      "  2.42010663e-02  4.51930213e-02  6.53664118e-02  7.75228147e-02\n",
      "  8.93268385e-02  1.04169397e-01  1.11905936e-01  1.10365856e-01\n",
      "  1.06118229e-01  1.09552637e-01  1.23287268e-01  1.19461204e-01\n",
      "  7.54928246e-02  2.52962091e-02  7.16991321e-03  1.28518893e-03\n",
      "  2.68547692e-05  1.79733560e-04  2.55558297e-03  1.76453302e-02\n",
      "  4.94655269e-02  9.00675862e-02  1.21399320e-01  1.41735384e-01\n",
      "  1.55931781e-01  1.66240410e-01  1.64991975e-01  1.52195324e-01\n",
      "  1.32821806e-01  1.28305538e-01  1.51056323e-01  1.68032109e-01\n",
      "  1.30887836e-01  5.21350103e-02  1.37098632e-02  1.97456148e-03\n",
      " -5.31570768e-06  2.95133600e-04  5.89482413e-03  3.58305919e-02\n",
      "  9.05386476e-02  1.48525446e-01  1.85704729e-01  1.98328566e-01\n",
      "  1.94376614e-01  1.89760718e-01  1.85193547e-01  1.73202477e-01\n",
      "  1.49395988e-01  1.44409212e-01  1.73157475e-01  2.08817596e-01\n",
      "  1.84087124e-01  8.09370425e-02  1.86580629e-02  2.57055076e-03\n",
      " -2.26844890e-05  2.78253985e-04  1.08913054e-02  6.16693402e-02\n",
      "  1.37679017e-01  2.01947139e-01  2.25016047e-01  2.01857703e-01\n",
      "  1.75575283e-01  1.74445923e-01  1.91281551e-01  1.94674265e-01\n",
      "  1.66830905e-01  1.57175945e-01  1.93668302e-01  2.37991040e-01\n",
      "  2.13772569e-01  9.51760252e-02  1.87416724e-02  2.84644777e-03\n",
      " -9.01430709e-05  6.20628127e-04  1.77337141e-02  9.18878758e-02\n",
      "  1.85020158e-01  2.41022899e-01  2.26191705e-01  1.69481398e-01\n",
      "  1.47765116e-01  1.75920115e-01  2.25029941e-01  2.29825699e-01\n",
      "  1.92339177e-01  1.83239503e-01  2.21026588e-01  2.54359525e-01\n",
      "  2.15080355e-01  9.47429517e-02  1.82659849e-02  3.01316776e-03\n",
      " -1.98763315e-04  1.57292482e-03  2.60381407e-02  1.21060170e-01\n",
      "  2.25200511e-01  2.57891365e-01  2.08743381e-01  1.50700098e-01\n",
      "  1.53889329e-01  2.08502808e-01  2.61719784e-01  2.57309980e-01\n",
      "  2.23522779e-01  2.15204490e-01  2.40696203e-01  2.47981900e-01\n",
      "  1.88488894e-01  7.98927657e-02  1.70491317e-02  2.78250585e-03\n",
      " -2.79288082e-04  3.12877863e-03  3.16862781e-02  1.31736196e-01\n",
      "  2.34613495e-01  2.58213071e-01  2.08246926e-01  1.68085457e-01\n",
      "  1.84236938e-01  2.39571612e-01  2.74433779e-01  2.57872374e-01\n",
      "  2.29297590e-01  2.22572310e-01  2.34232382e-01  2.13473793e-01\n",
      "  1.42631172e-01  5.67783090e-02  1.35023579e-02  2.06757022e-03\n",
      " -3.81227788e-04  3.74153780e-03  2.97120781e-02  1.20049969e-01\n",
      "  2.14302222e-01  2.49329941e-01  2.24322762e-01  1.99487659e-01\n",
      "  2.10380218e-01  2.40617622e-01  2.51569638e-01  2.34872055e-01\n",
      "  2.13533843e-01  2.09594866e-01  2.02347825e-01  1.57115538e-01\n",
      "  9.09548874e-02  3.37603765e-02  8.53420979e-03  1.23821280e-03\n",
      " -2.91160393e-04  2.59512579e-03  2.00674853e-02  8.93833143e-02\n",
      "  1.71035047e-01  2.17629896e-01  2.18048092e-01  2.01258343e-01\n",
      "  1.95375015e-01  1.92310108e-01  1.85721333e-01  1.80345855e-01\n",
      "  1.74983645e-01  1.69282620e-01  1.47095955e-01  9.93529915e-02\n",
      "  5.06991304e-02  1.77386547e-02  4.17575471e-03  4.41554519e-04\n",
      " -1.06567741e-04  1.13514250e-03  1.00957577e-02  5.42932451e-02\n",
      "  1.13836492e-01  1.60864989e-01  1.74266533e-01  1.62248327e-01\n",
      "  1.42661145e-01  1.26542794e-01  1.21912967e-01  1.24993819e-01\n",
      "  1.25347712e-01  1.13308579e-01  9.00520917e-02  5.44972118e-02\n",
      "  2.47737563e-02  9.08225884e-03  2.44615273e-03  1.86293575e-04\n",
      " -1.26264025e-05  2.46859799e-04  3.34860120e-03  2.49409049e-02\n",
      "  6.06364162e-02  9.34187957e-02  1.04909130e-01  9.32840750e-02\n",
      "  7.69022984e-02  7.06662974e-02  7.18570510e-02  7.36703137e-02\n",
      "  7.15813562e-02  6.16123968e-02  4.40727827e-02  2.38709748e-02\n",
      "  1.03315223e-02  3.83739949e-03  1.22359032e-03  1.83201433e-04\n",
      " -1.18951525e-06 -3.12166667e-05  9.85456067e-04  1.11186386e-02\n",
      "  3.01337231e-02  4.64575136e-02  4.79914616e-02  3.91685118e-02\n",
      "  3.36878721e-02  3.48646771e-02  3.64930214e-02  3.61865530e-02\n",
      "  3.31297484e-02  2.70735627e-02  1.82094045e-02  9.35583861e-03\n",
      "  3.70038970e-03  1.25972093e-03  3.70645176e-04  6.28902778e-05\n",
      " -2.67900310e-06 -1.55532676e-05  1.09446622e-04  3.53724522e-03\n",
      "  1.16994393e-02  1.74313590e-02  1.42958856e-02  7.94276915e-03\n",
      "  7.47161572e-03  9.80194571e-03  1.05204969e-02  1.07250275e-02\n",
      "  1.05230803e-02  7.73275861e-03  5.34471535e-03  2.91099083e-03\n",
      "  7.82948659e-04  6.14674105e-05  3.38028753e-05 -4.67571644e-06\n",
      "  1.08081427e-07 -1.01162514e-06 -4.86623507e-05  2.35720888e-04\n",
      "  2.10606932e-03  4.22085515e-03  2.61483700e-03  4.61136511e-04\n",
      "  9.58871681e-05  1.97048984e-04  3.18180869e-04  6.79523980e-04\n",
      "  1.31780505e-03  8.06063671e-04  5.12536116e-04  4.69189457e-04\n",
      "  1.29258291e-04 -3.14826444e-05 -5.28599877e-06 -4.18215550e-07\n",
      "  0.00000000e+00  1.54462827e-07 -2.02040785e-06 -7.93569751e-06\n",
      "  1.54375419e-04  2.43597993e-04  5.45467218e-05 -1.31702811e-05\n",
      "  4.45079248e-05 -2.42177611e-05 -3.57760995e-05  7.84385383e-06\n",
      "  6.12094153e-05  1.71021021e-05  3.10596405e-06  1.25391051e-05\n",
      "  4.34064202e-06  1.99628022e-06 -2.06052560e-07  0.00000000e+00]\n",
      "0.6931471805599447\n"
     ]
    }
   ],
   "source": [
    "prueba2()"
   ]
  },
  {
   "cell_type": "markdown",
   "metadata": {},
   "source": [
    "#### Código de la práctica 3"
   ]
  },
  {
   "cell_type": "code",
   "execution_count": 89,
   "metadata": {},
   "outputs": [],
   "source": [
    "def oneVsAll(X,y,num_etiquetas,reg):\n",
    "    params = []\n",
    "    for et in range(num_etiquetas):\n",
    "        p = optimiza_reg(X,y,reg,et)\n",
    "        params.append(p)\n",
    "    return np.array(params)"
   ]
  },
  {
   "cell_type": "code",
   "execution_count": 92,
   "metadata": {},
   "outputs": [
    {
     "name": "stdout",
     "output_type": "stream",
     "text": [
      "coste: 3.30982762436307e-05\n",
      "coste: 0.008360832633524619\n",
      "coste: 0.0481977462164526\n",
      "coste: 0.06265186710451547\n",
      "coste: 0.026605754585645743\n",
      "coste: 0.04715726989198688\n",
      "coste: 0.013256168215542534\n",
      "coste: 0.02525449217981851\n",
      "coste: 0.11250250671729009\n",
      "coste: 0.07775574616277117\n",
      "(10, 400)\n"
     ]
    }
   ],
   "source": [
    "X,y = cargaDatos()\n",
    "Theta = oneVsAll(X,y,10,0.1)\n",
    "print(Theta.shape)"
   ]
  },
  {
   "cell_type": "code",
   "execution_count": 119,
   "metadata": {},
   "outputs": [],
   "source": [
    "def evalua(file = 'ex3data1.mat'):\n",
    "    X, y = cargaDatos()\n",
    "    Theta = oneVsAll(X,y,10,0.1)\n",
    "    asig = []\n",
    "    for i in range(X.shape[0]) :\n",
    "        l = np.dot(Theta, X[i])\n",
    "        m = max(l)\n",
    "        i = np.where(l == m)\n",
    "        asig.append(i[0][0])\n",
    "    \n",
    "    y2 = np.ravel(y)\n",
    "    t = (asig == y2)*1\n",
    "    perc = sum(t) / 5000\n",
    "    print(perc)"
   ]
  },
  {
   "cell_type": "code",
   "execution_count": 120,
   "metadata": {},
   "outputs": [
    {
     "name": "stdout",
     "output_type": "stream",
     "text": [
      "coste: 3.30982762436307e-05\n",
      "coste: 0.008360832633524619\n",
      "coste: 0.0481977462164526\n",
      "coste: 0.06265186710451547\n",
      "coste: 0.026605754585645743\n",
      "coste: 0.04715726989198688\n",
      "coste: 0.013256168215542534\n",
      "coste: 0.02525449217981851\n",
      "coste: 0.11250250671729009\n",
      "coste: 0.07775574616277117\n",
      "[0 0 0 ... 1 1 1]\n",
      "0.8592\n"
     ]
    }
   ],
   "source": [
    "evalua()"
   ]
  }
 ],
 "metadata": {
  "kernelspec": {
   "display_name": "Python 3",
   "language": "python",
   "name": "python3"
  },
  "language_info": {
   "codemirror_mode": {
    "name": "ipython",
    "version": 3
   },
   "file_extension": ".py",
   "mimetype": "text/x-python",
   "name": "python",
   "nbconvert_exporter": "python",
   "pygments_lexer": "ipython3",
   "version": "3.8.3"
  }
 },
 "nbformat": 4,
 "nbformat_minor": 4
}
