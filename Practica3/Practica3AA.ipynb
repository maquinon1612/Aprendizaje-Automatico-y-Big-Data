{
 "cells": [
  {
   "cell_type": "markdown",
   "metadata": {},
   "source": [
    "# Práctica 3: Regresión Logística Multi-clase y Redes Neuronales"
   ]
  },
  {
   "cell_type": "markdown",
   "metadata": {},
   "source": [
    "Mario Quiñones Pérez y Guillermo García Patiño Lenza"
   ]
  },
  {
   "cell_type": "markdown",
   "metadata": {},
   "source": [
    "## Parte 1: Regresión logística multi-clase"
   ]
  },
  {
   "cell_type": "markdown",
   "metadata": {},
   "source": [
    "### Visualización de los datos"
   ]
  },
  {
   "cell_type": "markdown",
   "metadata": {},
   "source": [
    "En esta parte nos encargamos de crear dos funciones, la principal que usaremos en toda la práctica (cargaDatos), que servirá para cargar los datos del fichero 'ex3data1.mat' y devolver tanto la matriz de datos de los elementos de 20x20 pixeles (X) como el vector que representa el tipo de número que dichos pixeles representan (y). Aparte, crearemos una función que mostrará 10 elementos aleatorios de los 5000 que existen, función que solo sirve para mostrar que los datos se cargaron correctamente."
   ]
  },
  {
   "cell_type": "code",
   "execution_count": 4,
   "metadata": {},
   "outputs": [],
   "source": [
    "from scipy.io import loadmat\n",
    "import matplotlib.pyplot as plt\n",
    "import numpy as np\n",
    "import scipy.optimize as opt"
   ]
  },
  {
   "cell_type": "code",
   "execution_count": 5,
   "metadata": {},
   "outputs": [],
   "source": [
    "def cargaDatos(file = 'ex3data1.mat'):\n",
    "    data = loadmat(file)\n",
    "    y = data['y']\n",
    "    X = data['X']\n",
    "    return X,y"
   ]
  },
  {
   "cell_type": "code",
   "execution_count": 6,
   "metadata": {},
   "outputs": [],
   "source": [
    "def verEjemplos():\n",
    "    X,y = cargaDatos()\n",
    "    ejs = np.random.choice(X.shape[0], 10)\n",
    "    plt.imshow(X[ejs, :].reshape(-1,20).T)\n",
    "    plt.axis('off')"
   ]
  },
  {
   "cell_type": "code",
   "execution_count": 7,
   "metadata": {},
   "outputs": [
    {
     "data": {
      "image/png": "[encoded data removed]",
      "text/plain": [
       "<Figure size 432x288 with 1 Axes>"
      ]
     },
     "metadata": {
      "needs_background": "light"
     },
     "output_type": "display_data"
    }
   ],
   "source": [
    "verEjemplos()"
   ]
  },
  {
   "cell_type": "markdown",
   "metadata": {},
   "source": [
    "### Clasificación de uno frente a todos"
   ]
  },
  {
   "cell_type": "markdown",
   "metadata": {},
   "source": [
    "#### Código de regresión logística de la práctica anterior"
   ]
  },
  {
   "cell_type": "markdown",
   "metadata": {},
   "source": [
    "En esta parte de la práctica pondremos todo el código que será reutilizado de la práctica anterior de la parte de regresión logística.\n",
    "\n",
    "Reutilizaremos las funciones básicas como sigmoide, que aplica la función sigmoide de un determinado elemento o grupo de elementos, la función de coste, que sirve para calcular el coste de que una theta cualquiera tiene sobre los datos de entrada en relación a las salidas esperadas dadas en 'y', y el gradiente que realiza el descenso de gradiente regularizado que sirve para calcular la theta óptima que reduce el coste al mínimo."
   ]
  },
  {
   "cell_type": "code",
   "execution_count": 8,
   "metadata": {},
   "outputs": [],
   "source": [
    "def sigmoide(Z):\n",
    "    sigmoide = 1 / (1 + np.exp(-Z))\n",
    "    return sigmoide"
   ]
  },
  {
   "cell_type": "code",
   "execution_count": 9,
   "metadata": {},
   "outputs": [],
   "source": [
    "def coste(Theta, X, Y):\n",
    "    G = sigmoide(np.dot(X, Theta))\n",
    "    sum1 = np.dot(Y, np.log(G))\n",
    "    sum2 = np.dot((1-Y), np.log(1 - G))\n",
    "    return (-1 / X.shape[0]) * (sum1 + sum2)"
   ]
  },
  {
   "cell_type": "code",
   "execution_count": 10,
   "metadata": {},
   "outputs": [],
   "source": [
    "def gradiente(Theta, X, Y):\n",
    "    m = X.shape[0]\n",
    "    G = sigmoide( np.matmul(X,Theta) )\n",
    "    gradiente  = (1 / len(Y)) * np.matmul(X.T, G - Y)\n",
    "    return gradiente"
   ]
  },
  {
   "cell_type": "code",
   "execution_count": 11,
   "metadata": {},
   "outputs": [],
   "source": [
    "def coste_reg(Theta,X,Y, Lambda):\n",
    "    c = coste(Theta,X,Y)\n",
    "    m = X.shape[0]\n",
    "    e = 0\n",
    "    \n",
    "    for t in range(1,len(Theta)):\n",
    "        e += Theta[t]**2\n",
    "        \n",
    "    return c + (Lambda/(2*m))*e"
   ]
  },
  {
   "cell_type": "code",
   "execution_count": 12,
   "metadata": {},
   "outputs": [],
   "source": [
    "def gradiente_reg(Theta,X,Y,Lambda):\n",
    "    m = X.shape[0]\n",
    "    gr = gradiente(Theta,X,Y)\n",
    "    theta2 = (Lambda/m)*Theta\n",
    "    return (gr + theta2)"
   ]
  },
  {
   "cell_type": "code",
   "execution_count": 13,
   "metadata": {},
   "outputs": [],
   "source": [
    "def preparaFunciones(Lambda):\n",
    "    c = lambda Theta,X,Y : coste_reg(Theta,X,Y,Lambda)\n",
    "    gr = lambda Theta,X,Y : gradiente_reg(Theta,X,Y,Lambda)\n",
    "    \n",
    "    return (c,gr)"
   ]
  },
  {
   "cell_type": "code",
   "execution_count": 14,
   "metadata": {},
   "outputs": [],
   "source": [
    "\n",
    "def prepara_datos(X, y, et):\n",
    "   \n",
    "    Y2 = (y == et) * 1\n",
    "    ## Aquí hay que hacer ravel de Y2 para pasar de (5000,1) a (5000,1)\n",
    "    ## y conseguir que funcione como en la practica anterior\n",
    "    Y2 = np.ravel(Y2)\n",
    "    return (X,Y2)"
   ]
  },
  {
   "cell_type": "markdown",
   "metadata": {},
   "source": [
    "Además crearemos la función optimiza_reg() que utiliza la función scipy.optimize.fmin_tnc para calcular de forma eficiente el theta que reduce al mínimo el coste y haremos pruebas con dicha función"
   ]
  },
  {
   "cell_type": "code",
   "execution_count": 15,
   "metadata": {},
   "outputs": [],
   "source": [
    "def optimiza_reg(X,Y,Lambda,et):\n",
    "    X, Y= prepara_datos(X,Y,et)\n",
    "    c, gr = preparaFunciones(Lambda)\n",
    "    \n",
    "    T = np.zeros(X.shape[1])\n",
    "\n",
    "    result = opt.fmin_tnc(func = c, x0 = T, fprime = gr, args = (X, Y))\n",
    "    c_f = coste(result[0], X, Y)\n",
    "    print(\"coste:\", c_f)\n",
    "    return result[0]"
   ]
  },
  {
   "cell_type": "code",
   "execution_count": 20,
   "metadata": {},
   "outputs": [],
   "source": [
    "def prueba2():\n",
    "    X,Y = cargaDatos(\"ex3data1.mat\")\n",
    "    X, Y= prepara_datos(X,Y,0)\n",
    "    Theta = np.zeros(X.shape[1])\n",
    "    c = coste_reg(Theta,X,Y,1)\n",
    "    gr = gradiente_reg(Theta,X,Y,1)\n",
    "   \n",
    "    print(\"Coste:\", c)"
   ]
  },
  {
   "cell_type": "code",
   "execution_count": 21,
   "metadata": {},
   "outputs": [
    {
     "name": "stdout",
     "output_type": "stream",
     "text": [
      "Coste: 0.6931471805599466\n"
     ]
    }
   ],
   "source": [
    "prueba2()"
   ]
  },
  {
   "cell_type": "markdown",
   "metadata": {},
   "source": [
    "#### Código de la práctica 3"
   ]
  },
  {
   "cell_type": "markdown",
   "metadata": {},
   "source": [
    "En esta parte de la práctica utilizaremos las funciones definidas anteriormente para crear una función 'oneVsAll' que a partir de una 'X' y una 'y' , el número de distintas etiquetas que existen en dicha 'y' y un término de regularización dado, aplica el descenso de gradiente para calcular la theta óptima para cada uno de los distintos elementos representados en los datos y devuelve un array con todas estas Thetas que minimizan el coste de cada etiqueta."
   ]
  },
  {
   "cell_type": "code",
   "execution_count": 40,
   "metadata": {},
   "outputs": [],
   "source": [
    "def oneVsAll(X,y,num_etiquetas,reg):\n",
    "    params = []\n",
    "    \n",
    "    # Por cada tipo de etiqueta se devuelve la Theta optima que reconoce la misma y se añade a un array de Thetas\n",
    "    for et in range(num_etiquetas):\n",
    "        p = optimiza_reg(X,y,reg,et)\n",
    "        params.append(p)\n",
    "    return np.array(params)"
   ]
  },
  {
   "cell_type": "code",
   "execution_count": 41,
   "metadata": {},
   "outputs": [
    {
     "name": "stdout",
     "output_type": "stream",
     "text": [
      "coste: 3.309827640039462e-05\n",
      "coste: 0.008360021366380647\n",
      "coste: 0.048193099008325836\n",
      "coste: 0.06265130407015843\n",
      "coste: 0.026607020319692778\n",
      "coste: 0.04715622726021646\n",
      "coste: 0.013260354391185423\n",
      "coste: 0.025250802119906383\n",
      "coste: 0.11250286209511665\n",
      "coste: 0.07775397173239715\n"
     ]
    }
   ],
   "source": [
    "X,y = cargaDatos()\n",
    "Theta = oneVsAll(X,y,10,0.1)"
   ]
  },
  {
   "cell_type": "code",
   "execution_count": 42,
   "metadata": {},
   "outputs": [],
   "source": [
    "def evalua(file = 'ex3data1.mat'):\n",
    "    X, y = cargaDatos()\n",
    "    Theta = oneVsAll(X,y,10,0.1)\n",
    "    asig = []\n",
    "    for i in range(X.shape[0]) :\n",
    "        l = np.dot(Theta, X[i])\n",
    "        m = max(l)\n",
    "        i = np.where(l == m)\n",
    "        asig.append(i[0][0])\n",
    "    \n",
    "    y2 = np.ravel(y)\n",
    "    t = (asig == y2)*1\n",
    "    perc = (sum(t) / 5000) * 100\n",
    "    print(\"Porcentaje de aciertos: \",perc , \"%\")"
   ]
  },
  {
   "cell_type": "code",
   "execution_count": 43,
   "metadata": {},
   "outputs": [
    {
     "name": "stdout",
     "output_type": "stream",
     "text": [
      "coste: 3.309827640039462e-05\n",
      "coste: 0.008360021366380647\n",
      "coste: 0.048193099008325836\n",
      "coste: 0.06265130407015843\n",
      "coste: 0.026607020319692778\n",
      "coste: 0.04715622726021646\n",
      "coste: 0.013260354391185423\n",
      "coste: 0.025250802119906383\n",
      "coste: 0.11250286209511665\n",
      "coste: 0.07775397173239715\n",
      "Porcentaje de aciertos:  85.92 %\n"
     ]
    }
   ],
   "source": [
    "evalua()"
   ]
  },
  {
   "cell_type": "markdown",
   "metadata": {},
   "source": [
    "## Parte 2: Redes neuronales"
   ]
  },
  {
   "cell_type": "markdown",
   "metadata": {},
   "source": [
    "En esta segunda parte utilizaremos una red neuronal ya entrenada para la correcta detección de los distintos dígitos posibles (0,1...9). Para ello utilizaremos las dos matrices theta1 y theta2 que son los pesos proporcionados para dicha red neuronal. Cada elemento pasará por tres capas o layers, dando como resultado diez neuronas en las que cada una se encargará de decidir como de parecido es con un número, la primera se activará cuando se reconoce un 1 y así sucesivamente hasta la décima activarse cuando reconozca un 0."
   ]
  },
  {
   "cell_type": "code",
   "execution_count": 28,
   "metadata": {},
   "outputs": [],
   "source": [
    "def prueba_neurona(datos, cargas):\n",
    "    # Se cargan todos los datos necesarios para probar la neurona como sus pesos y los datos de prueba y entrenamiento (X e y)\n",
    "    X = datos['X'] \n",
    "    Y = datos['y']\n",
    "    n = len(y)\n",
    "    theta1, theta2 = cargas['Theta1'], cargas['Theta2']\n",
    "    \n",
    "    # Se añade una fila de unos a la matriz inicial \n",
    "    X = np.hstack([np.ones([n,1]), X])\n",
    "    \n",
    "    # La capa oculta utiliza la primera matriz de pesos para crear sus neuronas y le añade una fila de unos\n",
    "    Oculta = sigmoide(np.dot(X, theta1.T))\n",
    "    Oculta = np.hstack([np.ones([n,1]), Oculta])\n",
    "    \n",
    "    # El resultado se calcula pasando por la segunda matriz de pesos todas las neuronas de la capa oculta\n",
    "    Resultado = sigmoide(np.dot(Oculta, theta2.T))\n",
    "    \n",
    "    # Ya que cada neurona da un valor de como de parecido es el numero de prueba al número que esta se encarga de reconocer,\n",
    "    # daremos prioridad a aquella neurona que reconozca con más exactitud dicho caso de prueba \n",
    "    comparador = np.argmax(Resultado, axis = 1)\n",
    "    \n",
    "    # Devolvemos el porcentaje de aciertos que la neurona a dado\n",
    "    return (sum(comparador + 1 == np.ravel(y))/n*100)"
   ]
  },
  {
   "cell_type": "code",
   "execution_count": 29,
   "metadata": {},
   "outputs": [
    {
     "name": "stdout",
     "output_type": "stream",
     "text": [
      "Porcentaje de aciertos:  97.52 %\n"
     ]
    }
   ],
   "source": [
    "percent = prueba_neurona(loadmat('ex3data1.mat'), loadmat('ex3weights.mat'))\n",
    "print(\"Porcentaje de aciertos: \",percent , \"%\")"
   ]
  }
 ],
 "metadata": {
  "kernelspec": {
   "display_name": "Python 3",
   "language": "python",
   "name": "python3"
  },
  "language_info": {
   "codemirror_mode": {
    "name": "ipython",
    "version": 3
   },
   "file_extension": ".py",
   "mimetype": "text/x-python",
   "name": "python",
   "nbconvert_exporter": "python",
   "pygments_lexer": "ipython3",
   "version": "3.8.3"
  }
 },
 "nbformat": 4,
 "nbformat_minor": 4
}
